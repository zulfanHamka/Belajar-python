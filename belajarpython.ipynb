{
  "nbformat": 4,
  "nbformat_minor": 0,
  "metadata": {
    "colab": {
      "provenance": [],
      "toc_visible": true,
      "authorship_tag": "ABX9TyN1PZ+2AY2StlBPLFh+xepe",
      "include_colab_link": true
    },
    "kernelspec": {
      "name": "python3",
      "display_name": "Python 3"
    },
    "language_info": {
      "name": "python"
    }
  },
  "cells": [
    {
      "cell_type": "markdown",
      "metadata": {
        "id": "view-in-github",
        "colab_type": "text"
      },
      "source": [
        "<a href=\"https://colab.research.google.com/github/zulfanHamka/Belajar-python/blob/main/belajarpython.ipynb\" target=\"_parent\"><img src=\"https://colab.research.google.com/assets/colab-badge.svg\" alt=\"Open In Colab\"/></a>"
      ]
    },
    {
      "cell_type": "code",
      "execution_count": null,
      "metadata": {
        "colab": {
          "base_uri": "https://localhost:8080/"
        },
        "id": "kty07R2WXj2i",
        "outputId": "96556c8a-390b-4f3b-996f-280337abf86f"
      },
      "outputs": [
        {
          "output_type": "stream",
          "name": "stdout",
          "text": [
            "hallo Python\n"
          ]
        }
      ],
      "source": [
        "print(\"hallo Python\")"
      ]
    },
    {
      "cell_type": "code",
      "source": [
        "print(\"Hallo Hamka keren \")"
      ],
      "metadata": {
        "colab": {
          "base_uri": "https://localhost:8080/"
        },
        "id": "b3rW1UCZX0lH",
        "outputId": "ccf1e0bc-e785-44d5-8ab3-7eb007d1870f"
      },
      "execution_count": 1,
      "outputs": [
        {
          "output_type": "stream",
          "name": "stdout",
          "text": [
            "Hallo Hamka keren \n"
          ]
        }
      ]
    },
    {
      "cell_type": "markdown",
      "source": [
        "####Balajar Variabel"
      ],
      "metadata": {
        "id": "HH5fGc4GZvrN"
      }
    },
    {
      "cell_type": "code",
      "source": [
        "nama = \"Hamka\"\n",
        "umur = 22\n",
        "tinggi = 170.5\n",
        "\n",
        "print(\"nama:\" ,nama)\n",
        "print(\"Umur:\", umur)\n",
        "print(\"Tinggi:\",tinggi)\n",
        "\n",
        "\n",
        "print(nama , umur, tinggi)\n",
        "\n",
        "print(type(tinggi))\n"
      ],
      "metadata": {
        "colab": {
          "base_uri": "https://localhost:8080/"
        },
        "id": "tmzCvhdLZzAm",
        "outputId": "2427ed77-ebc7-4296-9336-d2124803cf70"
      },
      "execution_count": 2,
      "outputs": [
        {
          "output_type": "stream",
          "name": "stdout",
          "text": [
            "nama: Hamka\n",
            "Umur: 22\n",
            "Tinggi: 170.5\n",
            "Hamka 22 170.5\n",
            "<class 'float'>\n"
          ]
        }
      ]
    },
    {
      "cell_type": "code",
      "source": [
        "puisi = \"\"\"\n",
        "ini adalah\n",
        "puisi lebih dari\n",
        "satu baris\n",
        "\n",
        "\"\"\"\n",
        "\n",
        "student = True\n",
        "married = False\n",
        "\n",
        "\n",
        "print(puisi)\n",
        "print(type(student))\n"
      ],
      "metadata": {
        "colab": {
          "base_uri": "https://localhost:8080/"
        },
        "id": "3vusgcSyczon",
        "outputId": "0db5e280-eec8-4cd4-c619-a790aac78b16"
      },
      "execution_count": null,
      "outputs": [
        {
          "output_type": "stream",
          "name": "stdout",
          "text": [
            "\n",
            "ini adalah\n",
            "puisi lebih dari \n",
            "satu baris\n",
            "\n",
            "\n",
            "<class 'bool'>\n"
          ]
        }
      ]
    },
    {
      "cell_type": "code",
      "source": [
        "nama = \"hamka\"\n",
        "print(nama)\n",
        "\n",
        "nama = \"ridwan\"\n",
        "print(nama)\n",
        "\n",
        "\n",
        "print(puisi)"
      ],
      "metadata": {
        "colab": {
          "base_uri": "https://localhost:8080/"
        },
        "id": "SvmNat-neBsR",
        "outputId": "b0f11dec-ad1d-4995-fb84-664ddc90501e"
      },
      "execution_count": null,
      "outputs": [
        {
          "output_type": "stream",
          "name": "stdout",
          "text": [
            "hamka\n",
            "ridwan\n",
            "\n",
            "ini adalah\n",
            "puisi lebih dari \n",
            "satu baris\n",
            "\n",
            "\n"
          ]
        }
      ]
    },
    {
      "cell_type": "markdown",
      "source": [
        "####Input"
      ],
      "metadata": {
        "id": "Bhg0jhdvi26T"
      }
    },
    {
      "cell_type": "code",
      "source": [
        "nama = input(\"Masukan nama anda:\")\n",
        "umur = input(\"Masukan umur anda:\")\n",
        "print(\"\")\n",
        "\n",
        "print(\"Hallo\", nama)\n",
        "print(\"umur anda:\" ,umur)"
      ],
      "metadata": {
        "colab": {
          "base_uri": "https://localhost:8080/"
        },
        "id": "v34hvUYXi4x8",
        "outputId": "d5fb47a6-c2ba-43f1-a5ec-ed421965ddf6"
      },
      "execution_count": null,
      "outputs": [
        {
          "output_type": "stream",
          "name": "stdout",
          "text": [
            "Masukan nama anda:Hamka\n",
            "Masukan umur anda:24\n",
            "\n",
            "Hallo Hamka\n",
            "umur anda: 24\n"
          ]
        }
      ]
    },
    {
      "cell_type": "markdown",
      "source": [
        "##String dan Manifulasi String"
      ],
      "metadata": {
        "id": "J8ch2rC7AXBR"
      }
    },
    {
      "cell_type": "code",
      "source": [
        "nama = \"hamka\"\n",
        "umur = 22\n",
        "\n",
        "#cara salah, type data tidak sama semua\n",
        "#pesan = \"nama saya\" + nama + \"umur saya\" + umur\n",
        "\n",
        "#cara benar, type data disamakan dulu\n",
        "pesan = \"nama saya \" + nama + \", umur saya \" + str(umur)\n",
        "print(pesan)"
      ],
      "metadata": {
        "id": "lfQsqY_mi_gV",
        "colab": {
          "base_uri": "https://localhost:8080/"
        },
        "outputId": "6c4f3a1b-bcf0-4ccc-fd77-d879c873fc39"
      },
      "execution_count": 18,
      "outputs": [
        {
          "output_type": "stream",
          "name": "stdout",
          "text": [
            "nama saya hamka, umur saya 22\n"
          ]
        }
      ]
    },
    {
      "cell_type": "markdown",
      "source": [
        "###len() penggunakan penghitung karakter\n"
      ],
      "metadata": {
        "id": "YueuhTOOEBpc"
      }
    },
    {
      "cell_type": "code",
      "source": [
        "#gaya penulisan 1\n",
        "panjang_nama = len(nama)\n",
        "panjang_pesan = len(pesan)\n",
        "\n",
        "print(panjang_nama)\n",
        "print(panjang_pesan)\n",
        "\n",
        "#gaya penulisan ke 2\n",
        "\n",
        "#print(len(nama))\n",
        "#print(len(pesan))\n",
        "\n",
        "\n",
        "#hasil 5 dan 29\n",
        "#karena panjangan karakternya ada 5 = hamka dan 29 = nama saya hamka, umur saya 22\n",
        "#dihitung dengan spacenya"
      ],
      "metadata": {
        "colab": {
          "base_uri": "https://localhost:8080/"
        },
        "id": "0T5ccwG7Ay1d",
        "outputId": "8b467551-245a-4875-f1b5-85686f0e94f9"
      },
      "execution_count": 19,
      "outputs": [
        {
          "output_type": "stream",
          "name": "stdout",
          "text": [
            "5\n",
            "29\n"
          ]
        }
      ]
    },
    {
      "cell_type": "markdown",
      "source": [
        "String Indexing/mengambil karakter"
      ],
      "metadata": {
        "id": "Nbezz-8CEnYG"
      }
    },
    {
      "cell_type": "code",
      "source": [
        "nama = \"python\"\n",
        "\n",
        "#Gaya pengambilan dari kiri ke kanan\n",
        "print(nama[0])\n",
        "print(nama[2])\n",
        "\n",
        "#Gaya pengambilan dari kanan ke kiri\n",
        "print(nama[-1])\n",
        "print(nama[-3])"
      ],
      "metadata": {
        "colab": {
          "base_uri": "https://localhost:8080/"
        },
        "id": "K3fEEwVmEzoG",
        "outputId": "b3541665-a367-47e9-95bf-4ca744bc3007"
      },
      "execution_count": 22,
      "outputs": [
        {
          "output_type": "stream",
          "name": "stdout",
          "text": [
            "p\n",
            "t\n",
            "n\n",
            "h\n"
          ]
        }
      ]
    },
    {
      "cell_type": "markdown",
      "source": [
        "###String sciling/Mengambil sebagian karakter"
      ],
      "metadata": {
        "id": "8tce_LVdFvPb"
      }
    },
    {
      "cell_type": "code",
      "source": [
        "nama = \"python\"\n",
        "\n",
        "#Gaya dari kiri ke kanan\n",
        "print(nama[0:3])\n",
        "print(nama[:]) #mengambil seluruh"
      ],
      "metadata": {
        "colab": {
          "base_uri": "https://localhost:8080/"
        },
        "id": "_4H03amxF2gC",
        "outputId": "dcf6feb3-825b-433e-f706-1427baa76143"
      },
      "execution_count": 29,
      "outputs": [
        {
          "output_type": "stream",
          "name": "stdout",
          "text": [
            "pyt\n",
            "python\n"
          ]
        }
      ]
    },
    {
      "cell_type": "markdown",
      "source": [
        "###String Methods (fungsi string)\n",
        "\n"
      ],
      "metadata": {
        "id": "LMHOGtqEHHxj"
      }
    },
    {
      "cell_type": "markdown",
      "source": [
        "fungsi string memiliki method(fungsi yang menempel pada type data) ada banyak sekali fungsi method yang bisa di gunakan, seperti\n",
        "\n",
        "*   upper()\n",
        "*   lower()\n",
        "*   title()\n",
        "*   find() dst"
      ],
      "metadata": {
        "id": "aK7AIiTrHXlp"
      }
    },
    {
      "cell_type": "code",
      "source": [
        "#contoh\n",
        "name = \"Hamka\"\n",
        "\n",
        "#penggunakan upper\n",
        "name_upper = nama.upper()\n",
        "print(name_upper)\n",
        "\n",
        "#penggunakan lower\n",
        "name_lower = name.lower()\n",
        "print(name_lower)\n",
        "\n"
      ],
      "metadata": {
        "colab": {
          "base_uri": "https://localhost:8080/"
        },
        "id": "Kh70VBJxHHdu",
        "outputId": "c1841d5b-085b-461f-b7ca-21d0b5b0e7bf"
      },
      "execution_count": 32,
      "outputs": [
        {
          "output_type": "stream",
          "name": "stdout",
          "text": [
            "PYTHON\n",
            "hamka\n"
          ]
        }
      ]
    },
    {
      "cell_type": "markdown",
      "source": [
        "###Escape Karakter"
      ],
      "metadata": {
        "id": "0lTgZqw9R2FI"
      }
    },
    {
      "cell_type": "markdown",
      "source": [
        "*   \\n (new line)\n",
        "*   \\t (tab)\n",
        "* \\ (backslash)\n",
        "* \" dan ' (kutip dalam string), perlu menambahkan slash di awal"
      ],
      "metadata": {
        "id": "BydyTKkkR76Q"
      }
    },
    {
      "cell_type": "code",
      "source": [
        "#contoh\n",
        "\n",
        "#new line\n",
        "kalimat = \"Baris pertama\\nBaris kedua\"\n",
        "print(kalimat)\n",
        "\n",
        "print(\"\\n\")\n",
        "\n",
        "#tab\n",
        "kalimat = \"Nama:\\t Hamka\\numur:\\t 22\"\n",
        "print(kalimat)\n",
        "\n",
        "print('\\n')\n",
        "\n",
        "#slash\n",
        "lokasi = \"c:\\\\User\\\\hamka\\\\destop\"# Jumlah slash tergantung kebutuhan\n",
        "print(lokasi)\n",
        "\n",
        "print(\"\\n\")\n",
        "\n",
        "#penggunakan kutip 2 \"\" di tengah kalimat\n",
        "kalimat = \"Dia berkata \\\"Hallo\\\"  kepada saya\"\n",
        "print(kalimat)"
      ],
      "metadata": {
        "colab": {
          "base_uri": "https://localhost:8080/"
        },
        "id": "-pMDmTnmR7oz",
        "outputId": "7f2dbb07-1b75-4b23-bd12-4d476ad389d9"
      },
      "execution_count": 51,
      "outputs": [
        {
          "output_type": "stream",
          "name": "stdout",
          "text": [
            "Baris pertama\n",
            "Baris kedua\n",
            "\n",
            "\n",
            "Nama:\t Hamka\n",
            "umur:\t 22\n",
            "\n",
            "\n",
            "c:\\User\\hamka\\destop\n",
            "\n",
            "\n",
            "Dia berkata \"Hallo\"  kepada saya\n"
          ]
        }
      ]
    },
    {
      "cell_type": "markdown",
      "source": [
        "###String Interpolation"
      ],
      "metadata": {
        "id": "waaEK0iYdXg6"
      }
    },
    {
      "cell_type": "markdown",
      "source": [
        "adalah cara menggabungkan string yang lebih modern kaya \"+\""
      ],
      "metadata": {
        "id": "trqrf9GUdefv"
      }
    },
    {
      "cell_type": "code",
      "source": [
        "\n",
        "nama = \"hamka\"\n",
        "umur = 22\n",
        "kota = \"jakarta\"\n",
        "\n",
        "#penggunaan interpolation\n",
        "kalimat = f\"nama saya {nama}, umur saya{umur} dan tinggal di {kota}\" #lebih simple\n",
        "print(kalimat)\n",
        "\n",
        "print(\"\\n\")\n",
        "\n",
        "#menggunakan \"+\" plus\n",
        "kalimat_lama = \"nama saya, \" + nama + \" umur saya\" + str(umur) + \"dan tinggal di \" + kota\n",
        "print(kalimat_lama)\n",
        "\n"
      ],
      "metadata": {
        "colab": {
          "base_uri": "https://localhost:8080/"
        },
        "id": "7PKeCMDidqD4",
        "outputId": "98f0eca8-761e-4923-c84a-80784070813b"
      },
      "execution_count": 60,
      "outputs": [
        {
          "output_type": "stream",
          "name": "stdout",
          "text": [
            "nama saya hamka, umur saya22 dan tinggal di jakarta\n",
            "\n",
            "\n",
            "nama saya, hamka umur saya22dan tinggal di jakarta\n"
          ]
        }
      ]
    },
    {
      "cell_type": "markdown",
      "source": [
        "### f-string dengan Expressions"
      ],
      "metadata": {
        "id": "n3QZstuanPjp"
      }
    },
    {
      "cell_type": "code",
      "source": [
        " harga = 10000\n",
        " jumlah = 3\n",
        "\n",
        "#operasi matematika dalam string\n",
        " total = f\"Total: Rp {harga * jumlah:,}\"\n",
        " print(total)\n",
        "\n",
        " print(\"\\n\")\n",
        "\n",
        "#method call dalam f-string\n",
        "nama = \"lukman prasetio\"\n",
        "kalimat = f\"Hallo {nama.upper()}\"\n",
        "print(kalimat)\n",
        "\n",
        "\n",
        "print(\"\\n\")\n",
        "\n",
        "kalimat = f\"Hallo {nama.lower()}\"\n",
        "print(kalimat)"
      ],
      "metadata": {
        "colab": {
          "base_uri": "https://localhost:8080/"
        },
        "id": "Z6TmW9KNmhOh",
        "outputId": "e983141a-05b8-40c9-ef25-23a5f0c3ec83"
      },
      "execution_count": 73,
      "outputs": [
        {
          "output_type": "stream",
          "name": "stdout",
          "text": [
            "Total: Rp 30,000\n",
            "\n",
            "\n",
            "Hallo LUKMAN PRASETIO\n",
            "\n",
            "\n",
            "Hallo lukman prasetio\n"
          ]
        }
      ]
    },
    {
      "cell_type": "markdown",
      "source": [
        "#Operator"
      ],
      "metadata": {
        "id": "9HMd1R8Ard1H"
      }
    },
    {
      "cell_type": "code",
      "source": [
        "\n",
        "a = 10\n",
        "b = 3\n",
        "\n",
        "#plus\n",
        "print(a+b)\n",
        "\n",
        "#minus\n",
        "print(a-b)\n",
        "\n",
        "#time\n",
        "print(a*b)\n",
        "\n",
        "#division\n",
        "print(a/3)\n",
        "\n",
        "#Pembagian bulat\n",
        "print(a//b)\n",
        "\n",
        "#modulo\n",
        "print(a%b)\n"
      ],
      "metadata": {
        "colab": {
          "base_uri": "https://localhost:8080/"
        },
        "id": "V3avwSAso-_X",
        "outputId": "1f5e724b-b5c5-45ea-c223-b85d941f2dc7"
      },
      "execution_count": 81,
      "outputs": [
        {
          "output_type": "stream",
          "name": "stdout",
          "text": [
            "13\n",
            "7\n",
            "30\n",
            "3.3333333333333335\n",
            "3\n",
            "1\n"
          ]
        }
      ]
    },
    {
      "cell_type": "code",
      "source": [],
      "metadata": {
        "id": "yKzYVaPgr1kT"
      },
      "execution_count": null,
      "outputs": []
    }
  ]
}