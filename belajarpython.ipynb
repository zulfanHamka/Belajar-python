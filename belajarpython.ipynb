{
  "nbformat": 4,
  "nbformat_minor": 0,
  "metadata": {
    "colab": {
      "provenance": [],
      "authorship_tag": "ABX9TyO8k/Z03ETPiOyZ1buVUEfs",
      "include_colab_link": true
    },
    "kernelspec": {
      "name": "python3",
      "display_name": "Python 3"
    },
    "language_info": {
      "name": "python"
    }
  },
  "cells": [
    {
      "cell_type": "markdown",
      "metadata": {
        "id": "view-in-github",
        "colab_type": "text"
      },
      "source": [
        "<a href=\"https://colab.research.google.com/github/zulfanHamka/Belajar-python/blob/main/belajarpython.ipynb\" target=\"_parent\"><img src=\"https://colab.research.google.com/assets/colab-badge.svg\" alt=\"Open In Colab\"/></a>"
      ]
    },
    {
      "cell_type": "code",
      "execution_count": null,
      "metadata": {
        "colab": {
          "base_uri": "https://localhost:8080/"
        },
        "id": "kty07R2WXj2i",
        "outputId": "96556c8a-390b-4f3b-996f-280337abf86f"
      },
      "outputs": [
        {
          "output_type": "stream",
          "name": "stdout",
          "text": [
            "hallo Python\n"
          ]
        }
      ],
      "source": [
        "print(\"hallo Python\")"
      ]
    },
    {
      "cell_type": "code",
      "source": [
        "print(\"Hallo Hamka keren \")"
      ],
      "metadata": {
        "colab": {
          "base_uri": "https://localhost:8080/"
        },
        "id": "b3rW1UCZX0lH",
        "outputId": "ccf1e0bc-e785-44d5-8ab3-7eb007d1870f"
      },
      "execution_count": null,
      "outputs": [
        {
          "output_type": "stream",
          "name": "stdout",
          "text": [
            "Hallo Hamka keren \n"
          ]
        }
      ]
    },
    {
      "cell_type": "markdown",
      "source": [
        "####Balajar Variabel"
      ],
      "metadata": {
        "id": "HH5fGc4GZvrN"
      }
    },
    {
      "cell_type": "code",
      "source": [
        "nama = \"Hamka\"\n",
        "umur = 22\n",
        "tinggi = 170.5\n",
        "\n",
        "print(\"nama:\" ,nama)\n",
        "print(\"Umur:\", umur)\n",
        "print(\"Tinggi:\",tinggi)\n",
        "\n",
        "\n",
        "print(nama , umur, tinggi)\n",
        "\n",
        "print(type(tinggi))\n"
      ],
      "metadata": {
        "colab": {
          "base_uri": "https://localhost:8080/"
        },
        "id": "tmzCvhdLZzAm",
        "outputId": "2427ed77-ebc7-4296-9336-d2124803cf70"
      },
      "execution_count": null,
      "outputs": [
        {
          "output_type": "stream",
          "name": "stdout",
          "text": [
            "nama: Hamka\n",
            "Umur: 22\n",
            "Tinggi: 170.5\n",
            "Hamka 22 170.5\n",
            "<class 'float'>\n"
          ]
        }
      ]
    },
    {
      "cell_type": "code",
      "source": [
        "puisi = \"\"\"\n",
        "ini adalah\n",
        "puisi lebih dari\n",
        "satu baris\n",
        "\n",
        "\"\"\"\n",
        "\n",
        "student = True\n",
        "married = False\n",
        "\n",
        "\n",
        "print(puisi)\n",
        "print(type(student))\n"
      ],
      "metadata": {
        "colab": {
          "base_uri": "https://localhost:8080/"
        },
        "id": "3vusgcSyczon",
        "outputId": "0db5e280-eec8-4cd4-c619-a790aac78b16"
      },
      "execution_count": null,
      "outputs": [
        {
          "output_type": "stream",
          "name": "stdout",
          "text": [
            "\n",
            "ini adalah\n",
            "puisi lebih dari \n",
            "satu baris\n",
            "\n",
            "\n",
            "<class 'bool'>\n"
          ]
        }
      ]
    },
    {
      "cell_type": "code",
      "source": [
        "nama = \"hamka\"\n",
        "print(nama)\n",
        "\n",
        "nama = \"ridwan\"\n",
        "print(nama)\n",
        "\n",
        "\n",
        "print(puisi)"
      ],
      "metadata": {
        "colab": {
          "base_uri": "https://localhost:8080/"
        },
        "id": "SvmNat-neBsR",
        "outputId": "b0f11dec-ad1d-4995-fb84-664ddc90501e"
      },
      "execution_count": null,
      "outputs": [
        {
          "output_type": "stream",
          "name": "stdout",
          "text": [
            "hamka\n",
            "ridwan\n",
            "\n",
            "ini adalah\n",
            "puisi lebih dari \n",
            "satu baris\n",
            "\n",
            "\n"
          ]
        }
      ]
    },
    {
      "cell_type": "markdown",
      "source": [
        "####Input"
      ],
      "metadata": {
        "id": "Bhg0jhdvi26T"
      }
    },
    {
      "cell_type": "code",
      "source": [
        "nama = input(\"Masukan nama anda:\")\n",
        "umur = input(\"Masukan umur anda:\")\n",
        "print(\"\")\n",
        "\n",
        "print(\"Hallo\", nama)\n",
        "print(\"umur anda:\" ,umur)"
      ],
      "metadata": {
        "colab": {
          "base_uri": "https://localhost:8080/"
        },
        "id": "v34hvUYXi4x8",
        "outputId": "d5fb47a6-c2ba-43f1-a5ec-ed421965ddf6"
      },
      "execution_count": null,
      "outputs": [
        {
          "output_type": "stream",
          "name": "stdout",
          "text": [
            "Masukan nama anda:Hamka\n",
            "Masukan umur anda:24\n",
            "\n",
            "Hallo Hamka\n",
            "umur anda: 24\n"
          ]
        }
      ]
    },
    {
      "cell_type": "markdown",
      "source": [
        "##String dan Manifulasi String"
      ],
      "metadata": {
        "id": "J8ch2rC7AXBR"
      }
    },
    {
      "cell_type": "code",
      "source": [
        "nama = \"hamka\"\n",
        "umur = 22\n",
        "\n",
        "#cara salah, type data tidak sama semua\n",
        "#pesan = \"nama saya\" + nama + \"umur saya\" + umur\n",
        "\n",
        "#cara benar, type data disamakan dulu\n",
        "pesan = \"nama saya \" + nama + \", umur saya \" + str(umur)\n",
        "print(pesan)"
      ],
      "metadata": {
        "id": "lfQsqY_mi_gV",
        "colab": {
          "base_uri": "https://localhost:8080/"
        },
        "outputId": "6c4f3a1b-bcf0-4ccc-fd77-d879c873fc39"
      },
      "execution_count": null,
      "outputs": [
        {
          "output_type": "stream",
          "name": "stdout",
          "text": [
            "nama saya hamka, umur saya 22\n"
          ]
        }
      ]
    },
    {
      "cell_type": "markdown",
      "source": [
        "###len() penggunakan penghitung karakter\n"
      ],
      "metadata": {
        "id": "YueuhTOOEBpc"
      }
    },
    {
      "cell_type": "code",
      "source": [
        "#gaya penulisan 1\n",
        "panjang_nama = len(nama)\n",
        "panjang_pesan = len(pesan)\n",
        "\n",
        "print(panjang_nama)\n",
        "print(panjang_pesan)\n",
        "\n",
        "#gaya penulisan ke 2\n",
        "\n",
        "#print(len(nama))\n",
        "#print(len(pesan))\n",
        "\n",
        "\n",
        "#hasil 5 dan 29\n",
        "#karena panjangan karakternya ada 5 = hamka dan 29 = nama saya hamka, umur saya 22\n",
        "#dihitung dengan spacenya"
      ],
      "metadata": {
        "colab": {
          "base_uri": "https://localhost:8080/"
        },
        "id": "0T5ccwG7Ay1d",
        "outputId": "8b467551-245a-4875-f1b5-85686f0e94f9"
      },
      "execution_count": null,
      "outputs": [
        {
          "output_type": "stream",
          "name": "stdout",
          "text": [
            "5\n",
            "29\n"
          ]
        }
      ]
    },
    {
      "cell_type": "markdown",
      "source": [
        "String Indexing/mengambil karakter"
      ],
      "metadata": {
        "id": "Nbezz-8CEnYG"
      }
    },
    {
      "cell_type": "code",
      "source": [
        "nama = \"python\"\n",
        "\n",
        "#Gaya pengambilan dari kiri ke kanan\n",
        "print(nama[0])\n",
        "print(nama[2])\n",
        "\n",
        "#Gaya pengambilan dari kanan ke kiri\n",
        "print(nama[-1])\n",
        "print(nama[-3])"
      ],
      "metadata": {
        "colab": {
          "base_uri": "https://localhost:8080/"
        },
        "id": "K3fEEwVmEzoG",
        "outputId": "b3541665-a367-47e9-95bf-4ca744bc3007"
      },
      "execution_count": null,
      "outputs": [
        {
          "output_type": "stream",
          "name": "stdout",
          "text": [
            "p\n",
            "t\n",
            "n\n",
            "h\n"
          ]
        }
      ]
    },
    {
      "cell_type": "markdown",
      "source": [
        "###String sciling/Mengambil sebagian karakter"
      ],
      "metadata": {
        "id": "8tce_LVdFvPb"
      }
    },
    {
      "cell_type": "code",
      "source": [
        "nama = \"python\"\n",
        "\n",
        "#Gaya dari kiri ke kanan\n",
        "print(nama[0:3])\n",
        "print(nama[:]) #mengambil seluruh"
      ],
      "metadata": {
        "colab": {
          "base_uri": "https://localhost:8080/"
        },
        "id": "_4H03amxF2gC",
        "outputId": "dcf6feb3-825b-433e-f706-1427baa76143"
      },
      "execution_count": null,
      "outputs": [
        {
          "output_type": "stream",
          "name": "stdout",
          "text": [
            "pyt\n",
            "python\n"
          ]
        }
      ]
    },
    {
      "cell_type": "markdown",
      "source": [
        "###String Methods (fungsi string)\n",
        "\n"
      ],
      "metadata": {
        "id": "LMHOGtqEHHxj"
      }
    },
    {
      "cell_type": "markdown",
      "source": [
        "fungsi string memiliki method(fungsi yang menempel pada type data) ada banyak sekali fungsi method yang bisa di gunakan, seperti\n",
        "\n",
        "*   upper()\n",
        "*   lower()\n",
        "*   title()\n",
        "*   find() dst"
      ],
      "metadata": {
        "id": "aK7AIiTrHXlp"
      }
    },
    {
      "cell_type": "code",
      "source": [
        "#contoh\n",
        "name = \"Hamka\"\n",
        "\n",
        "#penggunakan upper\n",
        "name_upper = nama.upper()\n",
        "print(name_upper)\n",
        "\n",
        "#penggunakan lower\n",
        "name_lower = name.lower()\n",
        "print(name_lower)\n",
        "\n"
      ],
      "metadata": {
        "colab": {
          "base_uri": "https://localhost:8080/"
        },
        "id": "Kh70VBJxHHdu",
        "outputId": "c1841d5b-085b-461f-b7ca-21d0b5b0e7bf"
      },
      "execution_count": null,
      "outputs": [
        {
          "output_type": "stream",
          "name": "stdout",
          "text": [
            "PYTHON\n",
            "hamka\n"
          ]
        }
      ]
    },
    {
      "cell_type": "markdown",
      "source": [
        "###Escape Karakter"
      ],
      "metadata": {
        "id": "0lTgZqw9R2FI"
      }
    },
    {
      "cell_type": "markdown",
      "source": [
        "*   \\n (new line)\n",
        "*   \\t (tab)\n",
        "* \\ (backslash)\n",
        "* \" dan ' (kutip dalam string), perlu menambahkan slash di awal"
      ],
      "metadata": {
        "id": "BydyTKkkR76Q"
      }
    },
    {
      "cell_type": "code",
      "source": [
        "#contoh\n",
        "\n",
        "#new line\n",
        "kalimat = \"Baris pertama\\nBaris kedua\"\n",
        "print(kalimat)\n",
        "\n",
        "print(\"\\n\")\n",
        "\n",
        "#tab\n",
        "kalimat = \"Nama:\\t Hamka\\numur:\\t 22\"\n",
        "print(kalimat)\n",
        "\n",
        "print('\\n')\n",
        "\n",
        "#slash\n",
        "lokasi = \"c:\\\\User\\\\hamka\\\\destop\"# Jumlah slash tergantung kebutuhan\n",
        "print(lokasi)\n",
        "\n",
        "print(\"\\n\")\n",
        "\n",
        "#penggunakan kutip 2 \"\" di tengah kalimat\n",
        "kalimat = \"Dia berkata \\\"Hallo\\\"  kepada saya\"\n",
        "print(kalimat)"
      ],
      "metadata": {
        "colab": {
          "base_uri": "https://localhost:8080/"
        },
        "id": "-pMDmTnmR7oz",
        "outputId": "7f2dbb07-1b75-4b23-bd12-4d476ad389d9"
      },
      "execution_count": null,
      "outputs": [
        {
          "output_type": "stream",
          "name": "stdout",
          "text": [
            "Baris pertama\n",
            "Baris kedua\n",
            "\n",
            "\n",
            "Nama:\t Hamka\n",
            "umur:\t 22\n",
            "\n",
            "\n",
            "c:\\User\\hamka\\destop\n",
            "\n",
            "\n",
            "Dia berkata \"Hallo\"  kepada saya\n"
          ]
        }
      ]
    },
    {
      "cell_type": "markdown",
      "source": [
        "###String Interpolation (f-string)"
      ],
      "metadata": {
        "id": "waaEK0iYdXg6"
      }
    },
    {
      "cell_type": "markdown",
      "source": [
        "adalah cara menggabungkan string yang lebih modern kaya \"+\""
      ],
      "metadata": {
        "id": "trqrf9GUdefv"
      }
    },
    {
      "cell_type": "code",
      "source": [
        "\n",
        "nama = \"hamka\"\n",
        "umur = 22\n",
        "kota = \"jakarta\"\n",
        "\n",
        "#penggunaan interpolation\n",
        "kalimat = f\"nama saya {nama}, umur saya{umur} dan tinggal di {kota}\" #lebih simple\n",
        "print(kalimat)\n",
        "\n",
        "print(\"\\n\")\n",
        "\n",
        "#menggunakan \"+\" plus\n",
        "kalimat_lama = \"nama saya, \" + nama + \" umur saya\" + str(umur) + \"dan tinggal di \" + kota\n",
        "print(kalimat_lama)\n",
        "\n"
      ],
      "metadata": {
        "colab": {
          "base_uri": "https://localhost:8080/"
        },
        "id": "7PKeCMDidqD4",
        "outputId": "98f0eca8-761e-4923-c84a-80784070813b"
      },
      "execution_count": null,
      "outputs": [
        {
          "output_type": "stream",
          "name": "stdout",
          "text": [
            "nama saya hamka, umur saya22 dan tinggal di jakarta\n",
            "\n",
            "\n",
            "nama saya, hamka umur saya22dan tinggal di jakarta\n"
          ]
        }
      ]
    },
    {
      "cell_type": "markdown",
      "source": [
        "### f-string dengan Expressions"
      ],
      "metadata": {
        "id": "n3QZstuanPjp"
      }
    },
    {
      "cell_type": "code",
      "source": [
        " harga = 10000\n",
        " jumlah = 3\n",
        "\n",
        "#operasi matematika dalam string\n",
        " total = f\"Total: Rp {harga * jumlah:,}\"\n",
        " print(total)\n",
        "\n",
        " print(\"\\n\")\n",
        "\n",
        "#method call dalam f-string\n",
        "nama = \"lukman prasetio\"\n",
        "kalimat = f\"Hallo {nama.upper()}\"\n",
        "print(kalimat)\n",
        "\n",
        "\n",
        "print(\"\\n\")\n",
        "\n",
        "kalimat = f\"Hallo {nama.lower()}\"\n",
        "print(kalimat)"
      ],
      "metadata": {
        "colab": {
          "base_uri": "https://localhost:8080/"
        },
        "id": "Z6TmW9KNmhOh",
        "outputId": "7d9b40ba-f309-45bb-a6c7-71307a28c87b"
      },
      "execution_count": null,
      "outputs": [
        {
          "output_type": "stream",
          "name": "stdout",
          "text": [
            "Total: Rp 30,000\n",
            "\n",
            "\n",
            "Hallo LUKMAN PRASETIO\n",
            "\n",
            "\n",
            "Hallo lukman prasetio\n"
          ]
        }
      ]
    },
    {
      "cell_type": "markdown",
      "source": [
        "#Operator"
      ],
      "metadata": {
        "id": "9HMd1R8Ard1H"
      }
    },
    {
      "cell_type": "markdown",
      "source": [
        "###Operator aritmatika"
      ],
      "metadata": {
        "id": "dAGV0E7TwfOP"
      }
    },
    {
      "cell_type": "code",
      "source": [
        "\n",
        "a = 10\n",
        "b = 3\n",
        "\n",
        "#plus\n",
        "print(a+b)\n",
        "\n",
        "#minus\n",
        "print(a-b)\n",
        "\n",
        "#time\n",
        "print(a*b)\n",
        "\n",
        "#division\n",
        "print(a/3)\n",
        "\n",
        "#Pembagian bulat\n",
        "print(a//b)\n",
        "\n",
        "#modulo\n",
        "print(a%b)\n",
        "\n",
        "#pangkat\n",
        "print(a**b)\n"
      ],
      "metadata": {
        "colab": {
          "base_uri": "https://localhost:8080/"
        },
        "id": "V3avwSAso-_X",
        "outputId": "f22d6a9f-e26a-48c4-c54c-6082bdcb1e66"
      },
      "execution_count": null,
      "outputs": [
        {
          "output_type": "stream",
          "name": "stdout",
          "text": [
            "13\n",
            "7\n",
            "30\n",
            "3.3333333333333335\n",
            "3\n",
            "1\n",
            "1000\n"
          ]
        }
      ]
    },
    {
      "cell_type": "markdown",
      "source": [
        "###Operator assignment (penugasan)"
      ],
      "metadata": {
        "id": "xzC7w-oLwCy-"
      }
    },
    {
      "cell_type": "markdown",
      "source": [
        "####Operator assignment"
      ],
      "metadata": {
        "id": "7xc1bRihx9yo"
      }
    },
    {
      "cell_type": "code",
      "source": [
        "#Operator assignment diberikan untuk memberikan nilai variabel, sama dengan (=)\n",
        "#contoh\n",
        "\n",
        "x = 10\n",
        "\n",
        "print(\"x awal:\", x)\n"
      ],
      "metadata": {
        "colab": {
          "base_uri": "https://localhost:8080/"
        },
        "id": "3LFbekjayRaA",
        "outputId": "3b342ea9-019c-4d3c-d67d-d72ec2f466a3"
      },
      "execution_count": null,
      "outputs": [
        {
          "output_type": "stream",
          "name": "stdout",
          "text": [
            "x awal: 10\n"
          ]
        }
      ]
    },
    {
      "cell_type": "markdown",
      "source": [
        "####Compound assignment"
      ],
      "metadata": {
        "id": "NeG1ZiXKxzri"
      }
    },
    {
      "cell_type": "code",
      "source": [
        "#Compound assignment yaitu yang menggabungkan operasi aritmatika menjadi assignment\n",
        "\n",
        "x = 10\n",
        "\n",
        "x += 5 #sama dengan x = x + 5\n",
        "print(\"x setelah += 5:\", x)\n",
        "\n",
        "y = 10\n",
        "\n",
        "y /= 2 #sama dengan y = y / 2\n",
        "print(\"x setelah /= 2:\", y)"
      ],
      "metadata": {
        "colab": {
          "base_uri": "https://localhost:8080/"
        },
        "id": "kmotkAtcy9wK",
        "outputId": "03020633-475a-4582-fa66-bcb44f2124f0"
      },
      "execution_count": null,
      "outputs": [
        {
          "output_type": "stream",
          "name": "stdout",
          "text": [
            "x setelah += 5: 15\n",
            "x setelah /= 2: 5.0\n"
          ]
        }
      ]
    },
    {
      "cell_type": "markdown",
      "source": [
        "####Operator pebandingan"
      ],
      "metadata": {
        "id": "rdumziR8mn4l"
      }
    },
    {
      "cell_type": "code",
      "source": [
        "#contoh int\n",
        "a = 10\n",
        "b = 3\n",
        "\n",
        "print(a < b)\n",
        "print(a > b)\n",
        "print(a == b)\n",
        "print(a <= b)\n",
        "print(a >= b)\n",
        "print(a != b)\n",
        "\n",
        "print(\"\\n\")\n",
        "\n",
        "#contoh string\n",
        "nama1 = \"hamka\"\n",
        "nama2 = \"wawan\"\n",
        "nama3 = \"hamka\"\n",
        "\n",
        "print(nama1 == nama3)\n",
        "print(nama1 == nama2)\n",
        "print(nama1 != nama2)\n",
        "\n"
      ],
      "metadata": {
        "colab": {
          "base_uri": "https://localhost:8080/"
        },
        "id": "aHeIupB8UmZZ",
        "outputId": "fdb5cedd-0fc8-43db-a705-30e4b034806c"
      },
      "execution_count": null,
      "outputs": [
        {
          "output_type": "stream",
          "name": "stdout",
          "text": [
            "False\n",
            "True\n",
            "False\n",
            "False\n",
            "True\n",
            "True\n",
            "\n",
            "\n",
            "True\n",
            "False\n",
            "True\n"
          ]
        }
      ]
    },
    {
      "cell_type": "markdown",
      "source": [
        "####Oprator logika"
      ],
      "metadata": {
        "id": "DVtzqliVoCTS"
      }
    },
    {
      "cell_type": "markdown",
      "source": [
        "- adalah operator logika yang digunakan untuk mmenggabungkan atau memodifikasi nilai boolean\n",
        "- and (dan), menghasilakan true. jika kondisi kedua benar\n",
        "- or (atau), menghasilkan True. jika kondisi salah satu benar\n",
        "not (tidak), membalikan nilai boolean\n"
      ],
      "metadata": {
        "id": "ubnwDzP9oHI5"
      }
    },
    {
      "cell_type": "code",
      "source": [
        "#and\n",
        "umur = 25\n",
        "print(umur > 20 and umur < 27)\n",
        "\n",
        "#or\n",
        "hari = \"sabtu\"\n",
        "print(hari == \"sabtu\" or hari != \"minggu\")\n",
        "\n",
        "#not\n",
        "aktif = True\n",
        "print(not aktif)"
      ],
      "metadata": {
        "colab": {
          "base_uri": "https://localhost:8080/"
        },
        "id": "Ggzwy3-eoFJ3",
        "outputId": "119a3896-7113-4e92-8c46-daeb1b1ff724"
      },
      "execution_count": null,
      "outputs": [
        {
          "output_type": "stream",
          "name": "stdout",
          "text": [
            "True\n",
            "True\n",
            "False\n"
          ]
        }
      ]
    },
    {
      "cell_type": "markdown",
      "source": [
        "####Operator String"
      ],
      "metadata": {
        "id": "-Gw-aYKYr4zy"
      }
    },
    {
      "cell_type": "markdown",
      "source": [
        "- Operator khusu untuk bekarja dengan string\n",
        "- concatenation (+), manambah string\n",
        "- Repetition(*), mengulang string sejumlah angka\n",
        "- Membership(in), mengecek apakah text ada dalam string"
      ],
      "metadata": {
        "id": "pP7bMxRxr9PK"
      }
    },
    {
      "cell_type": "code",
      "source": [
        "#concatenation\n",
        "nama_depan = \"johan\"\n",
        "nama_belakang = \"permana\"\n",
        "nama_lengkap = nama_depan + \" \" + nama_belakang\n",
        "\n",
        "print(nama_lengkap)\n",
        "\n",
        "print(\"\\n\")\n",
        "\n",
        "#Repetition\n",
        "kata =\"Hallo\"\n",
        "print(kata *3)\n",
        "\n",
        "garis = \"-\"\n",
        "print(garis*15)\n",
        "\n",
        "print(\"\\n\")\n",
        "\n",
        "#Membership\n",
        "kalimat = \" apakah python adalah bahasa pemrograman\"\n",
        "\n",
        "print(\"python\" in kalimat) #true\n",
        "print(\"hamka\" in kalimat)  #false\n",
        "print(\"bahasa\" in kalimat) #true\n"
      ],
      "metadata": {
        "colab": {
          "base_uri": "https://localhost:8080/"
        },
        "id": "usJ1KJDwsanl",
        "outputId": "78f64f8f-f899-462c-e146-495e01788f5d"
      },
      "execution_count": null,
      "outputs": [
        {
          "output_type": "stream",
          "name": "stdout",
          "text": [
            "johan permana\n",
            "\n",
            "\n",
            "HalloHalloHallo\n",
            "---------------\n",
            "\n",
            "\n",
            "True\n",
            "False\n",
            "True\n"
          ]
        }
      ]
    },
    {
      "cell_type": "markdown",
      "source": [
        "####Prioritas Operator"
      ],
      "metadata": {
        "id": "_IVq_QN8unUw"
      }
    },
    {
      "cell_type": "markdown",
      "source": [
        "- Operator memiliki urutan prioritas. Operator dengan prioritas lebih tinggi akan dieksekusi terlebih dahulu\n",
        "- Urutan Prioritas dari tinggi ke rendah\n",
        "\n",
        "- ** (Pangkat)\n",
        "- *,/,//,% (perkalian, pembagian, dll)\n",
        "- ==, !=, <, >, <=, >= (perbandingan, dll)\n",
        "- not (logika not)\n",
        "- and (logika and)\n",
        "- or (logika)\n",
        "\n",
        "\n"
      ],
      "metadata": {
        "id": "YJ5RGeNMuq-6"
      }
    },
    {
      "cell_type": "markdown",
      "source": [
        "#Perbandingan"
      ],
      "metadata": {
        "id": "Mmu4Ffg7wYSE"
      }
    },
    {
      "cell_type": "markdown",
      "source": [
        "####Perbandingan IF, IF ELSE dan ELIF"
      ],
      "metadata": {
        "id": "wOSVBm1W0cDA"
      }
    },
    {
      "cell_type": "code",
      "source": [
        "\n",
        "#setelah if/else harus ada : (titik dua)\n",
        "\n",
        "#if\n",
        "#satu kondisi\n",
        "nilai = int(input(\"masukan nilai: \"))\n",
        "if nilai > 75:\n",
        "    print(f\" Anda lulus dengan nilai: {nilai} \")\n",
        "\n",
        "#if dan else\n",
        "#dua kondisi\n",
        "if nilai > 75:\n",
        "    print(f\"nilai {nilai} lebih dari KKM\")\n",
        "else:\n",
        "    print(f\"Nilai {nilai} kurang dari KKM\")\n",
        "\n",
        "#elif\n",
        "#beberapa kondisi\n",
        "nilai = int(input(\"Masukan nilai:\"))\n",
        "\n",
        "if nilai >= 85:\n",
        "    print(\"nilai anda A\")\n",
        "elif nilai >= 75:\n",
        "    print(\"nilai anda B\")\n",
        "elif nilai >= 65:\n",
        "    print(\"nilai anda C\")\n",
        "else:\n",
        "    print(\"nilai anda D\")\n",
        "\n",
        "\n",
        "\n"
      ],
      "metadata": {
        "colab": {
          "base_uri": "https://localhost:8080/"
        },
        "id": "0MAvJ_Mxsm72",
        "outputId": "a15b925a-3512-476a-93bc-29cda4d65603"
      },
      "execution_count": null,
      "outputs": [
        {
          "output_type": "stream",
          "name": "stdout",
          "text": [
            "Masukan nilai:30\n",
            "nilai anda D\n"
          ]
        }
      ]
    },
    {
      "cell_type": "markdown",
      "source": [
        "###Kondisi dengan Operator logika"
      ],
      "metadata": {
        "id": "kylyskpq0qMA"
      }
    },
    {
      "cell_type": "code",
      "source": [
        "umur = int(input(\"Masukan umur:\"))\n",
        "punya_sim = input(\"Punya SIM? (ya/tidak):\")\n",
        "\n",
        "if umur >= 17 and punya_sim == \"ya\":\n",
        "    print(\"Boleh mengendarai Motor\")\n",
        "else:\n",
        "    print(\"Tidak Boleh mengendarai Motor\")"
      ],
      "metadata": {
        "id": "ZAm8kr43wy2g",
        "colab": {
          "base_uri": "https://localhost:8080/"
        },
        "outputId": "19c3cbca-1d16-4498-ff78-9b9e8e870086"
      },
      "execution_count": 4,
      "outputs": [
        {
          "output_type": "stream",
          "name": "stdout",
          "text": [
            "Masukan umur:16\n",
            "Punya SIM? (ya/tidak):ya\n",
            "Tidak Boleh mengendarai Motor\n"
          ]
        }
      ]
    },
    {
      "cell_type": "markdown",
      "source": [
        "####Nested if (IF Bersarang)"
      ],
      "metadata": {
        "id": "jdQiYziSKVgR"
      }
    },
    {
      "cell_type": "code",
      "source": [
        "username = input(\"username: \")\n",
        "password = input(\"Password: \")\n",
        "\n",
        "if username == \"admin\":\n",
        "    if password == \"12345\":\n",
        "        print(\"login berhasil\")\n",
        "        print(\"Selamat datang admin\")\n",
        "    else:\n",
        "        print(\"password salah\")\n",
        "else:\n",
        "  print(\"username tidak ditemukan\")"
      ],
      "metadata": {
        "colab": {
          "base_uri": "https://localhost:8080/"
        },
        "id": "E3IRGY2FKcKd",
        "outputId": "729cc843-c937-40c9-8dde-b3ddbfe3252b"
      },
      "execution_count": 12,
      "outputs": [
        {
          "output_type": "stream",
          "name": "stdout",
          "text": [
            "username: admin\n",
            "Password: 12345\n",
            "login berhasil\n",
            "Selamat datang admin\n"
          ]
        }
      ]
    },
    {
      "cell_type": "markdown",
      "source": [
        "####Match case"
      ],
      "metadata": {
        "id": "KvYGmvihMDXC"
      }
    },
    {
      "cell_type": "markdown",
      "source": [
        "-Match case adalah fitur alternatif yang lebih bersih untuk elid yang banyak"
      ],
      "metadata": {
        "id": "CWtxOBx1MTnm"
      }
    },
    {
      "cell_type": "code",
      "source": [
        "hari =input(\"Masukan nama hari: \").lower()\n",
        "#lower = inputan harus huruf kecil\n",
        "\n",
        "match hari:\n",
        "    case \"senin\" | \"selasa\" | \"rabu\" | \"kamis\" | \"jumat\":\n",
        "        print(\"Hari kerja\")\n",
        "    case \"sabtu\" | \"minggu\":\n",
        "        print(\"Hari libur\")\n",
        "    case _:\n",
        "        print(\"Nama hari tidak valid\")\n"
      ],
      "metadata": {
        "colab": {
          "base_uri": "https://localhost:8080/"
        },
        "id": "LIRFh_iAMdR-",
        "outputId": "9f1e549d-6e2a-4875-ac01-64dbc1eea6e8"
      },
      "execution_count": 19,
      "outputs": [
        {
          "output_type": "stream",
          "name": "stdout",
          "text": [
            "Masukan nama hari: senin\n",
            "Hari kerja\n"
          ]
        }
      ]
    },
    {
      "cell_type": "markdown",
      "source": [
        "####Conditional Expression (Ternary Operator)"
      ],
      "metadata": {
        "id": "7cK_Jde9OYwL"
      }
    },
    {
      "cell_type": "markdown",
      "source": [
        "- Conditional expression memmungkinan kita menulis kondisi kondisi sederhana dalam satu baris"
      ],
      "metadata": {
        "id": "zYVfE6S9OfB_"
      }
    },
    {
      "cell_type": "code",
      "source": [
        "angka = int(input(\"Masukan angka: \"))\n",
        "\n",
        "# Dengan if-else biasa\n",
        "# if angka > 0:\n",
        "#   hasil = \"Positif\"\n",
        "# else:\n",
        "#   hasil = \"Non-positif\"\n",
        "\n",
        "# Dengan Ternary operator (lebih singkat)\n",
        "hasil = \"Positif\" if angka > 0 else \"Non-positif\"\n",
        "print(\"Angka tersebut:\", hasil)"
      ],
      "metadata": {
        "colab": {
          "base_uri": "https://localhost:8080/"
        },
        "id": "n0c8tGepOreW",
        "outputId": "1b5e3e9a-be77-43d1-bac6-04cbdc3bb279"
      },
      "execution_count": 23,
      "outputs": [
        {
          "output_type": "stream",
          "name": "stdout",
          "text": [
            "Masukan angka: 0\n",
            "Angka tersebut: Non-positif\n"
          ]
        }
      ]
    },
    {
      "cell_type": "markdown",
      "source": [
        "###Perulangan"
      ],
      "metadata": {
        "id": "PhCLISubSLKF"
      }
    },
    {
      "cell_type": "markdown",
      "source": [
        "#### For Loop"
      ],
      "metadata": {
        "id": "sxuh-GJqSZ4d"
      }
    },
    {
      "cell_type": "markdown",
      "source": [
        "- For loop digunakan unutk mengulang kode sejumlah tertentu atau meniterasi melalui sekumpulan data\n",
        "- For loop biasanya menggunakan function range() untuk membuat urutan angka untuk perulangannya"
      ],
      "metadata": {
        "id": "bReNyxTaSdOO"
      }
    },
    {
      "cell_type": "code",
      "source": [
        "# Mencetak angka 0 sampai 4\n",
        "for i in range(5):\n",
        "  print(i)\n",
        "\n",
        "# Mencetak angka 1 sampai 5\n",
        "# 1 = Mulai dari\n",
        "# 6 = sampai dari\n",
        "for i in range(1,6):\n",
        "  print(i)\n",
        "\n",
        "# Mencetak \"Hallo\" sebanyak 3 kali\n",
        "for i in range(3):\n",
        "  print(\"Hello\")\n",
        "\n",
        "# Menghitung Mundur\n",
        "# 5 mulai\n",
        "# 0 sampai\n",
        "# -1 setiap perulangan dikurang -1\n",
        "print(\"Menghitung Muncul:\")\n",
        "for i in range(5, 0, -1):\n",
        "  print(i)"
      ],
      "metadata": {
        "colab": {
          "base_uri": "https://localhost:8080/"
        },
        "id": "-Ufbd6gIHUbk",
        "outputId": "ddbc6312-de50-4169-9c6d-31c9a8982f49"
      },
      "execution_count": 25,
      "outputs": [
        {
          "output_type": "stream",
          "name": "stdout",
          "text": [
            "1\n",
            "2\n",
            "3\n",
            "4\n",
            "5\n"
          ]
        }
      ]
    },
    {
      "cell_type": "markdown",
      "source": [
        "####For Look dengan String"
      ],
      "metadata": {
        "id": "uwtIvdAAeC4e"
      }
    },
    {
      "cell_type": "markdown",
      "source": [
        "- For loop juga bisa digunakan untuk mengiterasi setipa karakter dalam string"
      ],
      "metadata": {
        "id": "75LXTCcseGcX"
      }
    },
    {
      "cell_type": "code",
      "source": [
        " nama = \"python\"\n",
        " for huruf in nama:\n",
        "      print(huruf)\n",
        "\n",
        "print(\"\\n\")\n",
        "\n",
        "kata = str(input(\"Masukan kata: \"))\n",
        "print(\"Huruf-Huruf dalam kata: \")\n",
        "for karakter in kata:\n",
        "      print(\"-\", karakter)"
      ],
      "metadata": {
        "colab": {
          "base_uri": "https://localhost:8080/"
        },
        "id": "QlBZKagXeM_Q",
        "outputId": "6caf8b89-d9a9-4f5f-c273-e3134d5780d3"
      },
      "execution_count": 31,
      "outputs": [
        {
          "output_type": "stream",
          "name": "stdout",
          "text": [
            "p\n",
            "y\n",
            "t\n",
            "h\n",
            "o\n",
            "n\n",
            "\n",
            "\n",
            "Masukan kata: mancing\n",
            "Huruf-Huruf dalam kata: \n",
            "- m\n",
            "- a\n",
            "- n\n",
            "- c\n",
            "- i\n",
            "- n\n",
            "- g\n"
          ]
        }
      ]
    },
    {
      "cell_type": "markdown",
      "source": [
        "#### While Loop"
      ],
      "metadata": {
        "id": "mgiAbsTifVCk"
      }
    },
    {
      "cell_type": "markdown",
      "source": [
        "- While Loop mengulang kode sama kondisi tertentu masih Trus"
      ],
      "metadata": {
        "id": "5lb1qhvTfbEe"
      }
    },
    {
      "cell_type": "code",
      "source": [
        "# Mencetak angka 1 sampai 5\n",
        "angka = 1\n",
        "while angka <= 5:\n",
        "  print(angka)\n",
        "  angka += 1\n",
        "\n",
        "print(\"\\n\")\n",
        "\n",
        "# Input sampai benar\n",
        "password = \"\"\n",
        "while password != \"12345\":\n",
        "    password = input(\"Masukan password: \")\n",
        "    if password != \"12345\":\n",
        "        print(\"password salah, coba lagi\")\n",
        "    else:\n",
        "        print(\"password berhasil\")"
      ],
      "metadata": {
        "colab": {
          "base_uri": "https://localhost:8080/"
        },
        "id": "FZzJjqcdfaHP",
        "outputId": "c6770c75-c4f9-47aa-ae59-550bb4b4b7a0"
      },
      "execution_count": 37,
      "outputs": [
        {
          "output_type": "stream",
          "name": "stdout",
          "text": [
            "1\n",
            "2\n",
            "3\n",
            "4\n",
            "5\n",
            "\n",
            "\n",
            "Masukan password: 12345\n",
            "password berhasil\n"
          ]
        }
      ]
    },
    {
      "cell_type": "markdown",
      "source": [
        "#### Break and Continue"
      ],
      "metadata": {
        "id": "kyJObfBf4SqE"
      }
    },
    {
      "cell_type": "markdown",
      "source": [
        "##### Break"
      ],
      "metadata": {
        "id": "TfeK16yU6r_S"
      }
    },
    {
      "cell_type": "code",
      "source": [
        "# Game tebak angka dengan break\n",
        "\n",
        "angka_rahasia = 7\n",
        "\n",
        "while True:\n",
        "    tebakan = int(input(\"Tebak angka (1-10: )\"))\n",
        "\n",
        "    if tebakan == 7:\n",
        "        print(\"Tebakan anda benar!\")\n",
        "        break\n",
        "    else:\n",
        "        print(\"Tebakan anda salah\")"
      ],
      "metadata": {
        "colab": {
          "base_uri": "https://localhost:8080/"
        },
        "id": "UVqfF6Tn4uIM",
        "outputId": "93faf33a-825f-4c4e-c11a-d134ef35a058"
      },
      "execution_count": 38,
      "outputs": [
        {
          "output_type": "stream",
          "name": "stdout",
          "text": [
            "Tebak angka (1-10: )3\n",
            "Tebakan anda salah\n",
            "Tebak angka (1-10: )1\n",
            "Tebakan anda salah\n",
            "Tebak angka (1-10: )2\n",
            "Tebakan anda salah\n",
            "Tebak angka (1-10: )5\n",
            "Tebakan anda salah\n",
            "Tebak angka (1-10: )6\n",
            "Tebakan anda salah\n",
            "Tebak angka (1-10: )7\n",
            "Tebakan anda benar!\n"
          ]
        }
      ]
    },
    {
      "cell_type": "markdown",
      "source": [
        "##### Continue"
      ],
      "metadata": {
        "id": "apIXS9Nf6-Hx"
      }
    },
    {
      "cell_type": "code",
      "source": [
        "# Mencetak angka Ganjil saja\n",
        "for i in range(10):\n",
        "  if i % 2 == 0: # jika genap\n",
        "      continue   # Lewati, langjut ke anka berikutnya\n",
        "  print(i)       # Hanya Mencetak angka ganjil"
      ],
      "metadata": {
        "colab": {
          "base_uri": "https://localhost:8080/"
        },
        "id": "U2qodYCa7Lgv",
        "outputId": "191fdbeb-9fd1-440a-8efd-0587843810c8"
      },
      "execution_count": 39,
      "outputs": [
        {
          "output_type": "stream",
          "name": "stdout",
          "text": [
            "1\n",
            "3\n",
            "5\n",
            "7\n",
            "9\n"
          ]
        }
      ]
    },
    {
      "cell_type": "markdown",
      "source": [
        "####Loop dengan else"
      ],
      "metadata": {
        "id": "LfoAhK4i8FmO"
      }
    },
    {
      "cell_type": "code",
      "source": [
        "# Mencari hurup dalam kata\n",
        "kata = input(\"Masukan kata: \")\n",
        "huruf_dicari = input(\"Masukan huruf yang dicari: \")\n",
        "\n",
        "for huruf in kata:\n",
        "    if huruf == huruf_dicari:\n",
        "      print(\"huruf\", huruf_dicari, \"Ditemukan dalam kata\")\n",
        "      break\n",
        "else:\n",
        "  print(\"Huruf\", huruf_dicari, \"tidak ditemukan\")\n"
      ],
      "metadata": {
        "colab": {
          "base_uri": "https://localhost:8080/"
        },
        "id": "bZrYNCOHOTJt",
        "outputId": "90cc9859-f97f-4f62-f8c1-0cc41c28894d"
      },
      "execution_count": 54,
      "outputs": [
        {
          "output_type": "stream",
          "name": "stdout",
          "text": [
            "Masukan kata: baca\n",
            "Masukan huruf yang dicari: c\n",
            "huruf c Ditemukan dalam kata\n"
          ]
        }
      ]
    }
  ]
}