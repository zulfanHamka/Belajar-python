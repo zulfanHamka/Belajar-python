{
  "nbformat": 4,
  "nbformat_minor": 0,
  "metadata": {
    "colab": {
      "provenance": [],
      "collapsed_sections": [
        "mgiAbsTifVCk"
      ],
      "toc_visible": true,
      "authorship_tag": "ABX9TyOinMaysArIUHam8CQId+0m",
      "include_colab_link": true
    },
    "kernelspec": {
      "name": "python3",
      "display_name": "Python 3"
    },
    "language_info": {
      "name": "python"
    }
  },
  "cells": [
    {
      "cell_type": "markdown",
      "metadata": {
        "id": "view-in-github",
        "colab_type": "text"
      },
      "source": [
        "<a href=\"https://colab.research.google.com/github/zulfanHamka/Belajar-python/blob/main/belajarpython.ipynb\" target=\"_parent\"><img src=\"https://colab.research.google.com/assets/colab-badge.svg\" alt=\"Open In Colab\"/></a>"
      ]
    },
    {
      "cell_type": "code",
      "execution_count": null,
      "metadata": {
        "colab": {
          "base_uri": "https://localhost:8080/"
        },
        "id": "kty07R2WXj2i",
        "outputId": "96556c8a-390b-4f3b-996f-280337abf86f"
      },
      "outputs": [
        {
          "output_type": "stream",
          "name": "stdout",
          "text": [
            "hallo Python\n"
          ]
        }
      ],
      "source": [
        "print(\"hallo Python\")"
      ]
    },
    {
      "cell_type": "code",
      "source": [
        "print(\"Hallo Hamka keren \")"
      ],
      "metadata": {
        "colab": {
          "base_uri": "https://localhost:8080/"
        },
        "id": "b3rW1UCZX0lH",
        "outputId": "ccf1e0bc-e785-44d5-8ab3-7eb007d1870f"
      },
      "execution_count": null,
      "outputs": [
        {
          "output_type": "stream",
          "name": "stdout",
          "text": [
            "Hallo Hamka keren \n"
          ]
        }
      ]
    },
    {
      "cell_type": "markdown",
      "source": [
        "####Balajar Variabel"
      ],
      "metadata": {
        "id": "HH5fGc4GZvrN"
      }
    },
    {
      "cell_type": "code",
      "source": [
        "nama = \"Hamka\"\n",
        "umur = 22\n",
        "tinggi = 170.5\n",
        "\n",
        "print(\"nama:\" ,nama)\n",
        "print(\"Umur:\", umur)\n",
        "print(\"Tinggi:\",tinggi)\n",
        "\n",
        "\n",
        "print(nama , umur, tinggi)\n",
        "\n",
        "print(type(tinggi))\n"
      ],
      "metadata": {
        "colab": {
          "base_uri": "https://localhost:8080/"
        },
        "id": "tmzCvhdLZzAm",
        "outputId": "2427ed77-ebc7-4296-9336-d2124803cf70"
      },
      "execution_count": null,
      "outputs": [
        {
          "output_type": "stream",
          "name": "stdout",
          "text": [
            "nama: Hamka\n",
            "Umur: 22\n",
            "Tinggi: 170.5\n",
            "Hamka 22 170.5\n",
            "<class 'float'>\n"
          ]
        }
      ]
    },
    {
      "cell_type": "code",
      "source": [
        "puisi = \"\"\"\n",
        "ini adalah\n",
        "puisi lebih dari\n",
        "satu baris\n",
        "\n",
        "\"\"\"\n",
        "\n",
        "student = True\n",
        "married = False\n",
        "\n",
        "\n",
        "print(puisi)\n",
        "print(type(student))\n"
      ],
      "metadata": {
        "colab": {
          "base_uri": "https://localhost:8080/"
        },
        "id": "3vusgcSyczon",
        "outputId": "0db5e280-eec8-4cd4-c619-a790aac78b16"
      },
      "execution_count": null,
      "outputs": [
        {
          "output_type": "stream",
          "name": "stdout",
          "text": [
            "\n",
            "ini adalah\n",
            "puisi lebih dari \n",
            "satu baris\n",
            "\n",
            "\n",
            "<class 'bool'>\n"
          ]
        }
      ]
    },
    {
      "cell_type": "code",
      "source": [
        "nama = \"hamka\"\n",
        "print(nama)\n",
        "\n",
        "nama = \"ridwan\"\n",
        "print(nama)\n",
        "\n",
        "\n",
        "print(puisi)"
      ],
      "metadata": {
        "colab": {
          "base_uri": "https://localhost:8080/"
        },
        "id": "SvmNat-neBsR",
        "outputId": "b0f11dec-ad1d-4995-fb84-664ddc90501e"
      },
      "execution_count": null,
      "outputs": [
        {
          "output_type": "stream",
          "name": "stdout",
          "text": [
            "hamka\n",
            "ridwan\n",
            "\n",
            "ini adalah\n",
            "puisi lebih dari \n",
            "satu baris\n",
            "\n",
            "\n"
          ]
        }
      ]
    },
    {
      "cell_type": "markdown",
      "source": [
        "####Input"
      ],
      "metadata": {
        "id": "Bhg0jhdvi26T"
      }
    },
    {
      "cell_type": "code",
      "source": [
        "nama = input(\"Masukan nama anda:\")\n",
        "umur = input(\"Masukan umur anda:\")\n",
        "print(\"\")\n",
        "\n",
        "print(\"Hallo\", nama)\n",
        "print(\"umur anda:\" ,umur)"
      ],
      "metadata": {
        "colab": {
          "base_uri": "https://localhost:8080/"
        },
        "id": "v34hvUYXi4x8",
        "outputId": "d5fb47a6-c2ba-43f1-a5ec-ed421965ddf6"
      },
      "execution_count": null,
      "outputs": [
        {
          "output_type": "stream",
          "name": "stdout",
          "text": [
            "Masukan nama anda:Hamka\n",
            "Masukan umur anda:24\n",
            "\n",
            "Hallo Hamka\n",
            "umur anda: 24\n"
          ]
        }
      ]
    },
    {
      "cell_type": "markdown",
      "source": [
        "##String dan Manifulasi String"
      ],
      "metadata": {
        "id": "J8ch2rC7AXBR"
      }
    },
    {
      "cell_type": "code",
      "source": [
        "nama = \"hamka\"\n",
        "umur = 22\n",
        "\n",
        "#cara salah, type data tidak sama semua\n",
        "#pesan = \"nama saya\" + nama + \"umur saya\" + umur\n",
        "\n",
        "#cara benar, type data disamakan dulu\n",
        "pesan = \"nama saya \" + nama + \", umur saya \" + str(umur)\n",
        "print(pesan)"
      ],
      "metadata": {
        "id": "lfQsqY_mi_gV",
        "colab": {
          "base_uri": "https://localhost:8080/"
        },
        "outputId": "6c4f3a1b-bcf0-4ccc-fd77-d879c873fc39"
      },
      "execution_count": null,
      "outputs": [
        {
          "output_type": "stream",
          "name": "stdout",
          "text": [
            "nama saya hamka, umur saya 22\n"
          ]
        }
      ]
    },
    {
      "cell_type": "markdown",
      "source": [
        "###len() penggunakan penghitung karakter\n"
      ],
      "metadata": {
        "id": "YueuhTOOEBpc"
      }
    },
    {
      "cell_type": "code",
      "source": [
        "#gaya penulisan 1\n",
        "panjang_nama = len(nama)\n",
        "panjang_pesan = len(pesan)\n",
        "\n",
        "print(panjang_nama)\n",
        "print(panjang_pesan)\n",
        "\n",
        "#gaya penulisan ke 2\n",
        "\n",
        "#print(len(nama))\n",
        "#print(len(pesan))\n",
        "\n",
        "\n",
        "#hasil 5 dan 29\n",
        "#karena panjangan karakternya ada 5 = hamka dan 29 = nama saya hamka, umur saya 22\n",
        "#dihitung dengan spacenya"
      ],
      "metadata": {
        "colab": {
          "base_uri": "https://localhost:8080/"
        },
        "id": "0T5ccwG7Ay1d",
        "outputId": "8b467551-245a-4875-f1b5-85686f0e94f9"
      },
      "execution_count": null,
      "outputs": [
        {
          "output_type": "stream",
          "name": "stdout",
          "text": [
            "5\n",
            "29\n"
          ]
        }
      ]
    },
    {
      "cell_type": "markdown",
      "source": [
        "String Indexing/mengambil karakter"
      ],
      "metadata": {
        "id": "Nbezz-8CEnYG"
      }
    },
    {
      "cell_type": "code",
      "source": [
        "nama = \"python\"\n",
        "\n",
        "#Gaya pengambilan dari kiri ke kanan\n",
        "print(nama[0])\n",
        "print(nama[2])\n",
        "\n",
        "#Gaya pengambilan dari kanan ke kiri\n",
        "print(nama[-1])\n",
        "print(nama[-3])"
      ],
      "metadata": {
        "colab": {
          "base_uri": "https://localhost:8080/"
        },
        "id": "K3fEEwVmEzoG",
        "outputId": "b3541665-a367-47e9-95bf-4ca744bc3007"
      },
      "execution_count": null,
      "outputs": [
        {
          "output_type": "stream",
          "name": "stdout",
          "text": [
            "p\n",
            "t\n",
            "n\n",
            "h\n"
          ]
        }
      ]
    },
    {
      "cell_type": "markdown",
      "source": [
        "###String sciling/Mengambil sebagian karakter"
      ],
      "metadata": {
        "id": "8tce_LVdFvPb"
      }
    },
    {
      "cell_type": "code",
      "source": [
        "nama = \"python\"\n",
        "\n",
        "#Gaya dari kiri ke kanan\n",
        "print(nama[0:3])\n",
        "print(nama[:]) #mengambil seluruh"
      ],
      "metadata": {
        "colab": {
          "base_uri": "https://localhost:8080/"
        },
        "id": "_4H03amxF2gC",
        "outputId": "dcf6feb3-825b-433e-f706-1427baa76143"
      },
      "execution_count": null,
      "outputs": [
        {
          "output_type": "stream",
          "name": "stdout",
          "text": [
            "pyt\n",
            "python\n"
          ]
        }
      ]
    },
    {
      "cell_type": "markdown",
      "source": [
        "###String Methods (fungsi string)\n",
        "\n"
      ],
      "metadata": {
        "id": "LMHOGtqEHHxj"
      }
    },
    {
      "cell_type": "markdown",
      "source": [
        "fungsi string memiliki method(fungsi yang menempel pada type data) ada banyak sekali fungsi method yang bisa di gunakan, seperti\n",
        "\n",
        "*   upper()\n",
        "*   lower()\n",
        "*   title()\n",
        "*   find() dst"
      ],
      "metadata": {
        "id": "aK7AIiTrHXlp"
      }
    },
    {
      "cell_type": "code",
      "source": [
        "#contoh\n",
        "name = \"Hamka\"\n",
        "\n",
        "#penggunakan upper\n",
        "name_upper = nama.upper()\n",
        "print(name_upper)\n",
        "\n",
        "#penggunakan lower\n",
        "name_lower = name.lower()\n",
        "print(name_lower)\n",
        "\n"
      ],
      "metadata": {
        "colab": {
          "base_uri": "https://localhost:8080/"
        },
        "id": "Kh70VBJxHHdu",
        "outputId": "c1841d5b-085b-461f-b7ca-21d0b5b0e7bf"
      },
      "execution_count": null,
      "outputs": [
        {
          "output_type": "stream",
          "name": "stdout",
          "text": [
            "PYTHON\n",
            "hamka\n"
          ]
        }
      ]
    },
    {
      "cell_type": "markdown",
      "source": [
        "###Escape Karakter"
      ],
      "metadata": {
        "id": "0lTgZqw9R2FI"
      }
    },
    {
      "cell_type": "markdown",
      "source": [
        "*   \\n (new line)\n",
        "*   \\t (tab)\n",
        "* \\ (backslash)\n",
        "* \" dan ' (kutip dalam string), perlu menambahkan slash di awal"
      ],
      "metadata": {
        "id": "BydyTKkkR76Q"
      }
    },
    {
      "cell_type": "code",
      "source": [
        "#contoh\n",
        "\n",
        "#new line\n",
        "kalimat = \"Baris pertama\\nBaris kedua\"\n",
        "print(kalimat)\n",
        "\n",
        "print(\"\\n\")\n",
        "\n",
        "#tab\n",
        "kalimat = \"Nama:\\t Hamka\\numur:\\t 22\"\n",
        "print(kalimat)\n",
        "\n",
        "print('\\n')\n",
        "\n",
        "#slash\n",
        "lokasi = \"c:\\\\User\\\\hamka\\\\destop\"# Jumlah slash tergantung kebutuhan\n",
        "print(lokasi)\n",
        "\n",
        "print(\"\\n\")\n",
        "\n",
        "#penggunakan kutip 2 \"\" di tengah kalimat\n",
        "kalimat = \"Dia berkata \\\"Hallo\\\"  kepada saya\"\n",
        "print(kalimat)"
      ],
      "metadata": {
        "colab": {
          "base_uri": "https://localhost:8080/"
        },
        "id": "-pMDmTnmR7oz",
        "outputId": "7f2dbb07-1b75-4b23-bd12-4d476ad389d9"
      },
      "execution_count": null,
      "outputs": [
        {
          "output_type": "stream",
          "name": "stdout",
          "text": [
            "Baris pertama\n",
            "Baris kedua\n",
            "\n",
            "\n",
            "Nama:\t Hamka\n",
            "umur:\t 22\n",
            "\n",
            "\n",
            "c:\\User\\hamka\\destop\n",
            "\n",
            "\n",
            "Dia berkata \"Hallo\"  kepada saya\n"
          ]
        }
      ]
    },
    {
      "cell_type": "markdown",
      "source": [
        "###String Interpolation (f-string)"
      ],
      "metadata": {
        "id": "waaEK0iYdXg6"
      }
    },
    {
      "cell_type": "markdown",
      "source": [
        "adalah cara menggabungkan string yang lebih modern kaya \"+\""
      ],
      "metadata": {
        "id": "trqrf9GUdefv"
      }
    },
    {
      "cell_type": "code",
      "source": [
        "\n",
        "nama = \"hamka\"\n",
        "umur = 22\n",
        "kota = \"jakarta\"\n",
        "\n",
        "#penggunaan interpolation\n",
        "kalimat = f\"nama saya {nama}, umur saya{umur} dan tinggal di {kota}\" #lebih simple\n",
        "print(kalimat)\n",
        "\n",
        "print(\"\\n\")\n",
        "\n",
        "#menggunakan \"+\" plus\n",
        "kalimat_lama = \"nama saya, \" + nama + \" umur saya\" + str(umur) + \"dan tinggal di \" + kota\n",
        "print(kalimat_lama)\n",
        "\n"
      ],
      "metadata": {
        "colab": {
          "base_uri": "https://localhost:8080/"
        },
        "id": "7PKeCMDidqD4",
        "outputId": "98f0eca8-761e-4923-c84a-80784070813b"
      },
      "execution_count": null,
      "outputs": [
        {
          "output_type": "stream",
          "name": "stdout",
          "text": [
            "nama saya hamka, umur saya22 dan tinggal di jakarta\n",
            "\n",
            "\n",
            "nama saya, hamka umur saya22dan tinggal di jakarta\n"
          ]
        }
      ]
    },
    {
      "cell_type": "markdown",
      "source": [
        "### f-string dengan Expressions"
      ],
      "metadata": {
        "id": "n3QZstuanPjp"
      }
    },
    {
      "cell_type": "code",
      "source": [
        " harga = 10000\n",
        " jumlah = 3\n",
        "\n",
        "#operasi matematika dalam string\n",
        " total = f\"Total: Rp {harga * jumlah:,}\"\n",
        " print(total)\n",
        "\n",
        " print(\"\\n\")\n",
        "\n",
        "#method call dalam f-string\n",
        "nama = \"lukman prasetio\"\n",
        "kalimat = f\"Hallo {nama.upper()}\"\n",
        "print(kalimat)\n",
        "\n",
        "\n",
        "print(\"\\n\")\n",
        "\n",
        "kalimat = f\"Hallo {nama.lower()}\"\n",
        "print(kalimat)"
      ],
      "metadata": {
        "colab": {
          "base_uri": "https://localhost:8080/"
        },
        "id": "Z6TmW9KNmhOh",
        "outputId": "7d9b40ba-f309-45bb-a6c7-71307a28c87b"
      },
      "execution_count": null,
      "outputs": [
        {
          "output_type": "stream",
          "name": "stdout",
          "text": [
            "Total: Rp 30,000\n",
            "\n",
            "\n",
            "Hallo LUKMAN PRASETIO\n",
            "\n",
            "\n",
            "Hallo lukman prasetio\n"
          ]
        }
      ]
    },
    {
      "cell_type": "markdown",
      "source": [
        "#Operator"
      ],
      "metadata": {
        "id": "9HMd1R8Ard1H"
      }
    },
    {
      "cell_type": "markdown",
      "source": [
        "###Operator aritmatika"
      ],
      "metadata": {
        "id": "dAGV0E7TwfOP"
      }
    },
    {
      "cell_type": "code",
      "source": [
        "\n",
        "a = 10\n",
        "b = 3\n",
        "\n",
        "#plus\n",
        "print(a+b)\n",
        "\n",
        "#minus\n",
        "print(a-b)\n",
        "\n",
        "#time\n",
        "print(a*b)\n",
        "\n",
        "#division\n",
        "print(a/3)\n",
        "\n",
        "#Pembagian bulat\n",
        "print(a//b)\n",
        "\n",
        "#modulo\n",
        "print(a%b)\n",
        "\n",
        "#pangkat\n",
        "print(a**b)\n"
      ],
      "metadata": {
        "colab": {
          "base_uri": "https://localhost:8080/"
        },
        "id": "V3avwSAso-_X",
        "outputId": "f22d6a9f-e26a-48c4-c54c-6082bdcb1e66"
      },
      "execution_count": null,
      "outputs": [
        {
          "output_type": "stream",
          "name": "stdout",
          "text": [
            "13\n",
            "7\n",
            "30\n",
            "3.3333333333333335\n",
            "3\n",
            "1\n",
            "1000\n"
          ]
        }
      ]
    },
    {
      "cell_type": "markdown",
      "source": [
        "###Operator assignment (penugasan)"
      ],
      "metadata": {
        "id": "xzC7w-oLwCy-"
      }
    },
    {
      "cell_type": "markdown",
      "source": [
        "####Operator assignment"
      ],
      "metadata": {
        "id": "7xc1bRihx9yo"
      }
    },
    {
      "cell_type": "code",
      "source": [
        "#Operator assignment diberikan untuk memberikan nilai variabel, sama dengan (=)\n",
        "#contoh\n",
        "\n",
        "x = 10\n",
        "\n",
        "print(\"x awal:\", x)\n"
      ],
      "metadata": {
        "colab": {
          "base_uri": "https://localhost:8080/"
        },
        "id": "3LFbekjayRaA",
        "outputId": "3b342ea9-019c-4d3c-d67d-d72ec2f466a3"
      },
      "execution_count": null,
      "outputs": [
        {
          "output_type": "stream",
          "name": "stdout",
          "text": [
            "x awal: 10\n"
          ]
        }
      ]
    },
    {
      "cell_type": "markdown",
      "source": [
        "####Compound assignment"
      ],
      "metadata": {
        "id": "NeG1ZiXKxzri"
      }
    },
    {
      "cell_type": "code",
      "source": [
        "#Compound assignment yaitu yang menggabungkan operasi aritmatika menjadi assignment\n",
        "\n",
        "x = 10\n",
        "\n",
        "x += 5 #sama dengan x = x + 5\n",
        "print(\"x setelah += 5:\", x)\n",
        "\n",
        "y = 10\n",
        "\n",
        "y /= 2 #sama dengan y = y / 2\n",
        "print(\"x setelah /= 2:\", y)"
      ],
      "metadata": {
        "colab": {
          "base_uri": "https://localhost:8080/"
        },
        "id": "kmotkAtcy9wK",
        "outputId": "03020633-475a-4582-fa66-bcb44f2124f0"
      },
      "execution_count": null,
      "outputs": [
        {
          "output_type": "stream",
          "name": "stdout",
          "text": [
            "x setelah += 5: 15\n",
            "x setelah /= 2: 5.0\n"
          ]
        }
      ]
    },
    {
      "cell_type": "markdown",
      "source": [
        "####Operator pebandingan"
      ],
      "metadata": {
        "id": "rdumziR8mn4l"
      }
    },
    {
      "cell_type": "code",
      "source": [
        "#contoh int\n",
        "a = 10\n",
        "b = 3\n",
        "\n",
        "print(a < b)\n",
        "print(a > b)\n",
        "print(a == b)\n",
        "print(a <= b)\n",
        "print(a >= b)\n",
        "print(a != b)\n",
        "\n",
        "print(\"\\n\")\n",
        "\n",
        "#contoh string\n",
        "nama1 = \"hamka\"\n",
        "nama2 = \"wawan\"\n",
        "nama3 = \"hamka\"\n",
        "\n",
        "print(nama1 == nama3)\n",
        "print(nama1 == nama2)\n",
        "print(nama1 != nama2)\n",
        "\n"
      ],
      "metadata": {
        "colab": {
          "base_uri": "https://localhost:8080/"
        },
        "id": "aHeIupB8UmZZ",
        "outputId": "fdb5cedd-0fc8-43db-a705-30e4b034806c"
      },
      "execution_count": null,
      "outputs": [
        {
          "output_type": "stream",
          "name": "stdout",
          "text": [
            "False\n",
            "True\n",
            "False\n",
            "False\n",
            "True\n",
            "True\n",
            "\n",
            "\n",
            "True\n",
            "False\n",
            "True\n"
          ]
        }
      ]
    },
    {
      "cell_type": "markdown",
      "source": [
        "####Oprator logika"
      ],
      "metadata": {
        "id": "DVtzqliVoCTS"
      }
    },
    {
      "cell_type": "markdown",
      "source": [
        "- adalah operator logika yang digunakan untuk mmenggabungkan atau memodifikasi nilai boolean\n",
        "- and (dan), menghasilakan true. jika kondisi kedua benar\n",
        "- or (atau), menghasilkan True. jika kondisi salah satu benar\n",
        "not (tidak), membalikan nilai boolean\n"
      ],
      "metadata": {
        "id": "ubnwDzP9oHI5"
      }
    },
    {
      "cell_type": "code",
      "source": [
        "#and\n",
        "umur = 25\n",
        "print(umur > 20 and umur < 27)\n",
        "\n",
        "#or\n",
        "hari = \"sabtu\"\n",
        "print(hari == \"sabtu\" or hari != \"minggu\")\n",
        "\n",
        "#not\n",
        "aktif = True\n",
        "print(not aktif)"
      ],
      "metadata": {
        "colab": {
          "base_uri": "https://localhost:8080/"
        },
        "id": "Ggzwy3-eoFJ3",
        "outputId": "119a3896-7113-4e92-8c46-daeb1b1ff724"
      },
      "execution_count": null,
      "outputs": [
        {
          "output_type": "stream",
          "name": "stdout",
          "text": [
            "True\n",
            "True\n",
            "False\n"
          ]
        }
      ]
    },
    {
      "cell_type": "markdown",
      "source": [
        "####Operator String"
      ],
      "metadata": {
        "id": "-Gw-aYKYr4zy"
      }
    },
    {
      "cell_type": "markdown",
      "source": [
        "- Operator khusu untuk bekarja dengan string\n",
        "- concatenation (+), manambah string\n",
        "- Repetition(*), mengulang string sejumlah angka\n",
        "- Membership(in), mengecek apakah text ada dalam string"
      ],
      "metadata": {
        "id": "pP7bMxRxr9PK"
      }
    },
    {
      "cell_type": "code",
      "source": [
        "#concatenation\n",
        "nama_depan = \"johan\"\n",
        "nama_belakang = \"permana\"\n",
        "nama_lengkap = nama_depan + \" \" + nama_belakang\n",
        "\n",
        "print(nama_lengkap)\n",
        "\n",
        "print(\"\\n\")\n",
        "\n",
        "#Repetition\n",
        "kata =\"Hallo\"\n",
        "print(kata *3)\n",
        "\n",
        "garis = \"-\"\n",
        "print(garis*15)\n",
        "\n",
        "print(\"\\n\")\n",
        "\n",
        "#Membership\n",
        "kalimat = \" apakah python adalah bahasa pemrograman\"\n",
        "\n",
        "print(\"python\" in kalimat) #true\n",
        "print(\"hamka\" in kalimat)  #false\n",
        "print(\"bahasa\" in kalimat) #true\n"
      ],
      "metadata": {
        "colab": {
          "base_uri": "https://localhost:8080/"
        },
        "id": "usJ1KJDwsanl",
        "outputId": "78f64f8f-f899-462c-e146-495e01788f5d"
      },
      "execution_count": null,
      "outputs": [
        {
          "output_type": "stream",
          "name": "stdout",
          "text": [
            "johan permana\n",
            "\n",
            "\n",
            "HalloHalloHallo\n",
            "---------------\n",
            "\n",
            "\n",
            "True\n",
            "False\n",
            "True\n"
          ]
        }
      ]
    },
    {
      "cell_type": "markdown",
      "source": [
        "####Prioritas Operator"
      ],
      "metadata": {
        "id": "_IVq_QN8unUw"
      }
    },
    {
      "cell_type": "markdown",
      "source": [
        "- Operator memiliki urutan prioritas. Operator dengan prioritas lebih tinggi akan dieksekusi terlebih dahulu\n",
        "- Urutan Prioritas dari tinggi ke rendah\n",
        "\n",
        "- ** (Pangkat)\n",
        "- *,/,//,% (perkalian, pembagian, dll)\n",
        "- ==, !=, <, >, <=, >= (perbandingan, dll)\n",
        "- not (logika not)\n",
        "- and (logika and)\n",
        "- or (logika)\n",
        "\n",
        "\n"
      ],
      "metadata": {
        "id": "YJ5RGeNMuq-6"
      }
    },
    {
      "cell_type": "markdown",
      "source": [
        "#Perbandingan"
      ],
      "metadata": {
        "id": "Mmu4Ffg7wYSE"
      }
    },
    {
      "cell_type": "markdown",
      "source": [
        "####Perbandingan IF, IF ELSE dan ELIF"
      ],
      "metadata": {
        "id": "wOSVBm1W0cDA"
      }
    },
    {
      "cell_type": "code",
      "source": [
        "\n",
        "#setelah if/else harus ada : (titik dua)\n",
        "\n",
        "#if\n",
        "#satu kondisi\n",
        "nilai = int(input(\"masukan nilai: \"))\n",
        "if nilai > 75:\n",
        "    print(f\" Anda lulus dengan nilai: {nilai} \")\n",
        "\n",
        "#if dan else\n",
        "#dua kondisi\n",
        "if nilai > 75:\n",
        "    print(f\"nilai {nilai} lebih dari KKM\")\n",
        "else:\n",
        "    print(f\"Nilai {nilai} kurang dari KKM\")\n",
        "\n",
        "#elif\n",
        "#beberapa kondisi\n",
        "nilai = int(input(\"Masukan nilai:\"))\n",
        "\n",
        "if nilai >= 85:\n",
        "    print(\"nilai anda A\")\n",
        "elif nilai >= 75:\n",
        "    print(\"nilai anda B\")\n",
        "elif nilai >= 65:\n",
        "    print(\"nilai anda C\")\n",
        "else:\n",
        "    print(\"nilai anda D\")\n",
        "\n",
        "\n",
        "\n"
      ],
      "metadata": {
        "colab": {
          "base_uri": "https://localhost:8080/"
        },
        "id": "0MAvJ_Mxsm72",
        "outputId": "a15b925a-3512-476a-93bc-29cda4d65603"
      },
      "execution_count": null,
      "outputs": [
        {
          "output_type": "stream",
          "name": "stdout",
          "text": [
            "Masukan nilai:30\n",
            "nilai anda D\n"
          ]
        }
      ]
    },
    {
      "cell_type": "markdown",
      "source": [
        "###Kondisi dengan Operator logika"
      ],
      "metadata": {
        "id": "kylyskpq0qMA"
      }
    },
    {
      "cell_type": "code",
      "source": [
        "umur = int(input(\"Masukan umur:\"))\n",
        "punya_sim = input(\"Punya SIM? (ya/tidak):\")\n",
        "\n",
        "if umur >= 17 and punya_sim == \"ya\":\n",
        "    print(\"Boleh mengendarai Motor\")\n",
        "else:\n",
        "    print(\"Tidak Boleh mengendarai Motor\")"
      ],
      "metadata": {
        "id": "ZAm8kr43wy2g",
        "colab": {
          "base_uri": "https://localhost:8080/"
        },
        "outputId": "19c3cbca-1d16-4498-ff78-9b9e8e870086"
      },
      "execution_count": null,
      "outputs": [
        {
          "output_type": "stream",
          "name": "stdout",
          "text": [
            "Masukan umur:16\n",
            "Punya SIM? (ya/tidak):ya\n",
            "Tidak Boleh mengendarai Motor\n"
          ]
        }
      ]
    },
    {
      "cell_type": "markdown",
      "source": [
        "####Nested if (IF Bersarang)"
      ],
      "metadata": {
        "id": "jdQiYziSKVgR"
      }
    },
    {
      "cell_type": "code",
      "source": [
        "username = input(\"username: \")\n",
        "password = input(\"Password: \")\n",
        "\n",
        "if username == \"admin\":\n",
        "    if password == \"12345\":\n",
        "        print(\"login berhasil\")\n",
        "        print(\"Selamat datang admin\")\n",
        "    else:\n",
        "        print(\"password salah\")\n",
        "else:\n",
        "  print(\"username tidak ditemukan\")"
      ],
      "metadata": {
        "colab": {
          "base_uri": "https://localhost:8080/"
        },
        "id": "E3IRGY2FKcKd",
        "outputId": "729cc843-c937-40c9-8dde-b3ddbfe3252b"
      },
      "execution_count": null,
      "outputs": [
        {
          "output_type": "stream",
          "name": "stdout",
          "text": [
            "username: admin\n",
            "Password: 12345\n",
            "login berhasil\n",
            "Selamat datang admin\n"
          ]
        }
      ]
    },
    {
      "cell_type": "markdown",
      "source": [
        "####Match case"
      ],
      "metadata": {
        "id": "KvYGmvihMDXC"
      }
    },
    {
      "cell_type": "markdown",
      "source": [
        "-Match case adalah fitur alternatif yang lebih bersih untuk elid yang banyak"
      ],
      "metadata": {
        "id": "CWtxOBx1MTnm"
      }
    },
    {
      "cell_type": "code",
      "source": [
        "hari =input(\"Masukan nama hari: \").lower()\n",
        "#lower = inputan harus huruf kecil\n",
        "\n",
        "match hari:\n",
        "    case \"senin\" | \"selasa\" | \"rabu\" | \"kamis\" | \"jumat\":\n",
        "        print(\"Hari kerja\")\n",
        "    case \"sabtu\" | \"minggu\":\n",
        "        print(\"Hari libur\")\n",
        "    case _:\n",
        "        print(\"Nama hari tidak valid\")\n"
      ],
      "metadata": {
        "colab": {
          "base_uri": "https://localhost:8080/"
        },
        "id": "LIRFh_iAMdR-",
        "outputId": "9f1e549d-6e2a-4875-ac01-64dbc1eea6e8"
      },
      "execution_count": null,
      "outputs": [
        {
          "output_type": "stream",
          "name": "stdout",
          "text": [
            "Masukan nama hari: senin\n",
            "Hari kerja\n"
          ]
        }
      ]
    },
    {
      "cell_type": "markdown",
      "source": [
        "####Conditional Expression (Ternary Operator)"
      ],
      "metadata": {
        "id": "7cK_Jde9OYwL"
      }
    },
    {
      "cell_type": "markdown",
      "source": [
        "- Conditional expression memmungkinan kita menulis kondisi kondisi sederhana dalam satu baris"
      ],
      "metadata": {
        "id": "zYVfE6S9OfB_"
      }
    },
    {
      "cell_type": "code",
      "source": [
        "angka = int(input(\"Masukan angka: \"))\n",
        "\n",
        "# Dengan if-else biasa\n",
        "# if angka > 0:\n",
        "#   hasil = \"Positif\"\n",
        "# else:\n",
        "#   hasil = \"Non-positif\"\n",
        "\n",
        "# Dengan Ternary operator (lebih singkat)\n",
        "hasil = \"Positif\" if angka > 0 else \"Non-positif\"\n",
        "print(\"Angka tersebut:\", hasil)"
      ],
      "metadata": {
        "colab": {
          "base_uri": "https://localhost:8080/"
        },
        "id": "n0c8tGepOreW",
        "outputId": "1b5e3e9a-be77-43d1-bac6-04cbdc3bb279"
      },
      "execution_count": null,
      "outputs": [
        {
          "output_type": "stream",
          "name": "stdout",
          "text": [
            "Masukan angka: 0\n",
            "Angka tersebut: Non-positif\n"
          ]
        }
      ]
    },
    {
      "cell_type": "markdown",
      "source": [
        "###Perulangan"
      ],
      "metadata": {
        "id": "PhCLISubSLKF"
      }
    },
    {
      "cell_type": "markdown",
      "source": [
        "#### For Loop"
      ],
      "metadata": {
        "id": "sxuh-GJqSZ4d"
      }
    },
    {
      "cell_type": "markdown",
      "source": [
        "- For loop digunakan unutk mengulang kode sejumlah tertentu atau meniterasi melalui sekumpulan data\n",
        "- For loop biasanya menggunakan function range() untuk membuat urutan angka untuk perulangannya"
      ],
      "metadata": {
        "id": "bReNyxTaSdOO"
      }
    },
    {
      "cell_type": "code",
      "source": [
        "# Mencetak angka 0 sampai 4\n",
        "for i in range(5):\n",
        "  print(i)\n",
        "\n",
        "# Mencetak angka 1 sampai 5\n",
        "# 1 = Mulai dari\n",
        "# 6 = sampai dari\n",
        "for i in range(1,6):\n",
        "  print(i)\n",
        "\n",
        "# Mencetak \"Hallo\" sebanyak 3 kali\n",
        "for i in range(3):\n",
        "  print(\"Hello\")\n",
        "\n",
        "# Menghitung Mundur\n",
        "# 5 mulai\n",
        "# 0 sampai\n",
        "# -1 setiap perulangan dikurang -1\n",
        "print(\"Menghitung Muncul:\")\n",
        "for i in range(5, 0, -1):\n",
        "  print(i)"
      ],
      "metadata": {
        "colab": {
          "base_uri": "https://localhost:8080/"
        },
        "id": "-Ufbd6gIHUbk",
        "outputId": "ddbc6312-de50-4169-9c6d-31c9a8982f49"
      },
      "execution_count": null,
      "outputs": [
        {
          "output_type": "stream",
          "name": "stdout",
          "text": [
            "1\n",
            "2\n",
            "3\n",
            "4\n",
            "5\n"
          ]
        }
      ]
    },
    {
      "cell_type": "markdown",
      "source": [
        "####For Look dengan String"
      ],
      "metadata": {
        "id": "uwtIvdAAeC4e"
      }
    },
    {
      "cell_type": "markdown",
      "source": [
        "- For loop juga bisa digunakan untuk mengiterasi setipa karakter dalam string"
      ],
      "metadata": {
        "id": "75LXTCcseGcX"
      }
    },
    {
      "cell_type": "code",
      "source": [
        " nama = \"python\"\n",
        " for huruf in nama:\n",
        "      print(huruf)\n",
        "\n",
        "print(\"\\n\")\n",
        "\n",
        "kata = str(input(\"Masukan kata: \"))\n",
        "print(\"Huruf-Huruf dalam kata: \")\n",
        "for karakter in kata:\n",
        "      print(\"-\", karakter)"
      ],
      "metadata": {
        "colab": {
          "base_uri": "https://localhost:8080/"
        },
        "id": "QlBZKagXeM_Q",
        "outputId": "6caf8b89-d9a9-4f5f-c273-e3134d5780d3"
      },
      "execution_count": null,
      "outputs": [
        {
          "output_type": "stream",
          "name": "stdout",
          "text": [
            "p\n",
            "y\n",
            "t\n",
            "h\n",
            "o\n",
            "n\n",
            "\n",
            "\n",
            "Masukan kata: mancing\n",
            "Huruf-Huruf dalam kata: \n",
            "- m\n",
            "- a\n",
            "- n\n",
            "- c\n",
            "- i\n",
            "- n\n",
            "- g\n"
          ]
        }
      ]
    },
    {
      "cell_type": "markdown",
      "source": [
        "#### While Loop"
      ],
      "metadata": {
        "id": "mgiAbsTifVCk"
      }
    },
    {
      "cell_type": "markdown",
      "source": [
        "- While Loop mengulang kode sama kondisi tertentu masih Trus"
      ],
      "metadata": {
        "id": "5lb1qhvTfbEe"
      }
    },
    {
      "cell_type": "code",
      "source": [
        "# Mencetak angka 1 sampai 5\n",
        "angka = 1\n",
        "while angka <= 5:\n",
        "  print(angka)\n",
        "  angka += 1\n",
        "\n",
        "print(\"\\n\")\n",
        "\n",
        "# Input sampai benar\n",
        "password = \"\"\n",
        "while password != \"12345\":\n",
        "    password = input(\"Masukan password: \")\n",
        "    if password != \"12345\":\n",
        "        print(\"password salah, coba lagi\")\n",
        "    else:\n",
        "        print(\"password berhasil\")"
      ],
      "metadata": {
        "colab": {
          "base_uri": "https://localhost:8080/"
        },
        "id": "FZzJjqcdfaHP",
        "outputId": "c6770c75-c4f9-47aa-ae59-550bb4b4b7a0"
      },
      "execution_count": null,
      "outputs": [
        {
          "output_type": "stream",
          "name": "stdout",
          "text": [
            "1\n",
            "2\n",
            "3\n",
            "4\n",
            "5\n",
            "\n",
            "\n",
            "Masukan password: 12345\n",
            "password berhasil\n"
          ]
        }
      ]
    },
    {
      "cell_type": "markdown",
      "source": [
        "#### Break and Continue"
      ],
      "metadata": {
        "id": "kyJObfBf4SqE"
      }
    },
    {
      "cell_type": "markdown",
      "source": [
        "##### Break"
      ],
      "metadata": {
        "id": "TfeK16yU6r_S"
      }
    },
    {
      "cell_type": "code",
      "source": [
        "# Game tebak angka dengan break\n",
        "\n",
        "angka_rahasia = 7\n",
        "\n",
        "while True:\n",
        "    tebakan = int(input(\"Tebak angka (1-10: )\"))\n",
        "\n",
        "    if tebakan == 7:\n",
        "        print(\"Tebakan anda benar!\")\n",
        "        break\n",
        "    else:\n",
        "        print(\"Tebakan anda salah\")"
      ],
      "metadata": {
        "colab": {
          "base_uri": "https://localhost:8080/"
        },
        "id": "UVqfF6Tn4uIM",
        "outputId": "93faf33a-825f-4c4e-c11a-d134ef35a058"
      },
      "execution_count": null,
      "outputs": [
        {
          "output_type": "stream",
          "name": "stdout",
          "text": [
            "Tebak angka (1-10: )3\n",
            "Tebakan anda salah\n",
            "Tebak angka (1-10: )1\n",
            "Tebakan anda salah\n",
            "Tebak angka (1-10: )2\n",
            "Tebakan anda salah\n",
            "Tebak angka (1-10: )5\n",
            "Tebakan anda salah\n",
            "Tebak angka (1-10: )6\n",
            "Tebakan anda salah\n",
            "Tebak angka (1-10: )7\n",
            "Tebakan anda benar!\n"
          ]
        }
      ]
    },
    {
      "cell_type": "markdown",
      "source": [
        "##### Continue"
      ],
      "metadata": {
        "id": "apIXS9Nf6-Hx"
      }
    },
    {
      "cell_type": "code",
      "source": [
        "# Mencetak angka Ganjil saja\n",
        "for i in range(10):\n",
        "  if i % 2 == 0: # jika genap\n",
        "      continue   # Lewati, langjut ke anka berikutnya\n",
        "  print(i)       # Hanya Mencetak angka ganjil"
      ],
      "metadata": {
        "colab": {
          "base_uri": "https://localhost:8080/"
        },
        "id": "U2qodYCa7Lgv",
        "outputId": "191fdbeb-9fd1-440a-8efd-0587843810c8"
      },
      "execution_count": null,
      "outputs": [
        {
          "output_type": "stream",
          "name": "stdout",
          "text": [
            "1\n",
            "3\n",
            "5\n",
            "7\n",
            "9\n"
          ]
        }
      ]
    },
    {
      "cell_type": "markdown",
      "source": [
        "####Loop dengan else"
      ],
      "metadata": {
        "id": "LfoAhK4i8FmO"
      }
    },
    {
      "cell_type": "code",
      "source": [
        "# Mencari hurup dalam kata\n",
        "kata = input(\"Masukan kata: \")\n",
        "huruf_dicari = input(\"Masukan huruf yang dicari: \")\n",
        "\n",
        "for huruf in kata:\n",
        "    if huruf == huruf_dicari:\n",
        "      print(\"huruf\", huruf_dicari, \"Ditemukan dalam kata\")\n",
        "      break\n",
        "else:\n",
        "  print(\"Huruf\", huruf_dicari, \"tidak ditemukan\")\n"
      ],
      "metadata": {
        "colab": {
          "base_uri": "https://localhost:8080/"
        },
        "id": "bZrYNCOHOTJt",
        "outputId": "90cc9859-f97f-4f62-f8c1-0cc41c28894d"
      },
      "execution_count": null,
      "outputs": [
        {
          "output_type": "stream",
          "name": "stdout",
          "text": [
            "Masukan kata: baca\n",
            "Masukan huruf yang dicari: c\n",
            "huruf c Ditemukan dalam kata\n"
          ]
        }
      ]
    },
    {
      "cell_type": "markdown",
      "source": [
        "#### While dengan else"
      ],
      "metadata": {
        "id": "Kw6vifDEAVOY"
      }
    },
    {
      "cell_type": "code",
      "source": [
        "password_benar = \"python123\"\n",
        "percobaan = 0\n",
        "max_Percobaan = 3\n",
        "\n",
        "while percobaan < max_Percobaan:\n",
        "  password = input(\"Masukan password: \")\n",
        "  percobaan += 1\n",
        "\n",
        "  if password == password_benar:\n",
        "      print(\"Login berhasil!\")\n",
        "      break\n",
        "  else:\n",
        "      print(\"Password salah. Sisa percobaan:\", max_Percobaan - percobaan)\n",
        "else:\n",
        "  print(\"Terlalu banyak percobaan, akses di tolak\")"
      ],
      "metadata": {
        "colab": {
          "base_uri": "https://localhost:8080/"
        },
        "id": "xbWGdk4hASB1",
        "outputId": "b904db17-a2ba-4839-80da-bcd5f7d78da9"
      },
      "execution_count": null,
      "outputs": [
        {
          "output_type": "stream",
          "name": "stdout",
          "text": [
            "Masukan password: 123\n",
            "Password salah. Sisa percobaan: 2\n",
            "Masukan password: 22\n",
            "Password salah. Sisa percobaan: 1\n",
            "Masukan password: 321\n",
            "Password salah. Sisa percobaan: 0\n",
            "Terlalu banyak percobaan, akses di tolak\n"
          ]
        }
      ]
    },
    {
      "cell_type": "markdown",
      "source": [
        "#### Perulangan Bersarang (Nested Loop)"
      ],
      "metadata": {
        "id": "DAB31dKXLkS-"
      }
    },
    {
      "cell_type": "code",
      "source": [
        "# Tabel perkalian lengkap\n",
        "print(\"Tabel Perkalian 1-5: \")\n",
        "for i in range(1,6):\n",
        "    for j in range(1,6):\n",
        "        hasil = i * j\n",
        "        print(i, \"x\", j , \"=\", hasil)\n",
        "    print(\"---------\")"
      ],
      "metadata": {
        "colab": {
          "base_uri": "https://localhost:8080/"
        },
        "id": "nr6pq6wYLp6M",
        "outputId": "ac27510a-e03f-40da-cadb-8d54b636c1c1"
      },
      "execution_count": null,
      "outputs": [
        {
          "output_type": "stream",
          "name": "stdout",
          "text": [
            "Tabel Perkalian 1-5: \n",
            "1 x 1 = 1\n",
            "1 x 2 = 2\n",
            "1 x 3 = 3\n",
            "1 x 4 = 4\n",
            "1 x 5 = 5\n",
            "---------\n",
            "2 x 1 = 2\n",
            "2 x 2 = 4\n",
            "2 x 3 = 6\n",
            "2 x 4 = 8\n",
            "2 x 5 = 10\n",
            "---------\n",
            "3 x 1 = 3\n",
            "3 x 2 = 6\n",
            "3 x 3 = 9\n",
            "3 x 4 = 12\n",
            "3 x 5 = 15\n",
            "---------\n",
            "4 x 1 = 4\n",
            "4 x 2 = 8\n",
            "4 x 3 = 12\n",
            "4 x 4 = 16\n",
            "4 x 5 = 20\n",
            "---------\n",
            "5 x 1 = 5\n",
            "5 x 2 = 10\n",
            "5 x 3 = 15\n",
            "5 x 4 = 20\n",
            "5 x 5 = 25\n",
            "---------\n"
          ]
        }
      ]
    },
    {
      "cell_type": "markdown",
      "source": [
        "### Struktur Data"
      ],
      "metadata": {
        "id": "9D0C9xtfNb2Y"
      }
    },
    {
      "cell_type": "markdown",
      "source": [
        "- Struktur data adalah cara untuk menyimpan dan mengorganisir data dalam program\n",
        "- Sejauh ini kita usdah belajar menyimpan satu nilai dalam satu variabel\n",
        "- Sekarang kita akan belajar cara menyimpan banyak nilai sekaligus"
      ],
      "metadata": {
        "id": "ZxrLcy2jNqmr"
      }
    },
    {
      "cell_type": "markdown",
      "source": [
        "#### List"
      ],
      "metadata": {
        "id": "XfiKFNL3OCZq"
      }
    },
    {
      "cell_type": "markdown",
      "source": [
        "- List adalah kumpuland ata yang bisa menyimpan banyak nilai dalam satu variabel lis di tulis dengan kurung siku []"
      ],
      "metadata": {
        "id": "sOybB2bsOEcs"
      }
    },
    {
      "cell_type": "code",
      "source": [
        "# List kosong\n",
        "daftar_kosong = []\n",
        "\n",
        "# List dengan angka\n",
        "angka = [1, 2, 3, 4, 5]\n",
        "print(angka)\n",
        "\n",
        "# List dengan string\n",
        "nama = [\"hotman\", \" rukia\", \"carli\"]\n",
        "print(nama)\n",
        "\n",
        "# List campuran\n",
        "campuran = [\" hotmat\", 23, \"rukia\", 25]\n",
        "print(campuran)\n",
        "\n",
        "print(\"\\n\")\n",
        "\n",
        "# Memanggil list\n",
        "buah = [\"mangga\", \"jeruk\", \"strawberry\"]\n",
        "print(buah[2])\n",
        "print(buah[0])\n",
        "\n",
        "print(\"\\n\")\n",
        "\n",
        "# Mengganti salah satu index\n",
        "print(\"- Mengganti salah satu index-\")\n",
        "print(\"before\")\n",
        "sayuran = [\"kangkung\", \"terong\", \"wortol\", \"bayam\"]\n",
        "print(sayuran)\n",
        "print(\"after\")\n",
        "sayuran[3] = \"jagung\" #mengganti bayam\n",
        "print(sayuran)\n",
        "\n",
        "print(\"\\n\")\n",
        "\n",
        "#Menambah index diakhir\n",
        "print(\"-Menambah index/list diakhir-\")\n",
        "\n",
        "print(\"Before\")\n",
        "buah = [\"apel\", \"tomat\"]\n",
        "print(buah)\n",
        "\n",
        "print(\"after\")\n",
        "buah.append(\"semangka\")\n",
        "print(buah)\n",
        "\n",
        "print(\"\\n\")\n",
        "\n",
        "#Menambah index dimanapun\n",
        "print(\"-Menambah index dimanapun-\")\n",
        "\n",
        "buah.insert(1, \"buah naga\") #menambah ke index 1\n",
        "print(buah)\n",
        "\n",
        "[print(\"\\n\")]\n",
        "\n",
        "# Menghapus datanya\n",
        "print(\"-Menghapus data-\")\n",
        "buah.remove(\"tomat\")\n",
        "print(buah)\n",
        "\n",
        "# Menghapus berdasarkan index\n",
        "print(\"Menghapus berdasarkan index\")\n",
        "del buah[0]\n",
        "print(buah)\n",
        "print(\"\\n\")\n",
        "\n",
        "# Menggabungkan 2 list\n",
        "print(\"Menggabungkan dua list\")\n",
        "\n",
        "satu = [1,2,3,4,5]\n",
        "print(satu)\n",
        "dua = [6,7,8,9,10]\n",
        "print(dua)\n",
        "\n",
        "gabungan = satu + dua\n",
        "print(gabungan)\n",
        "\n",
        "# Perulangan list\n",
        "#contoh satu\n",
        "print(\"perulangan list\")\n",
        "banyak_buah = [\"apel\", \"jeruk\", \"mangga\", \"durian\"]\n",
        "for buah in banyak_buah:\n",
        "  print(buah)\n",
        "# Contoh dua\n",
        "for i in range(len(banyak_buah)):\n",
        "    print(banyak_buah[i])\n"
      ],
      "metadata": {
        "colab": {
          "base_uri": "https://localhost:8080/"
        },
        "id": "h_kwignVOASP",
        "outputId": "aab9d525-8c57-4984-85e8-1f59232b44ed"
      },
      "execution_count": null,
      "outputs": [
        {
          "output_type": "stream",
          "name": "stdout",
          "text": [
            "[1, 2, 3, 4, 5]\n",
            "['hotman', ' rukia', 'carli']\n",
            "[' hotmat', 23, 'rukia', 25]\n",
            "\n",
            "\n",
            "strawberry\n",
            "mangga\n",
            "\n",
            "\n",
            "- Mengganti salah satu index-\n",
            "before\n",
            "['kangkung', 'terong', 'wortol', 'bayam']\n",
            "after\n",
            "['kangkung', 'terong', 'wortol', 'jagung']\n",
            "\n",
            "\n",
            "-Menambah index/list diakhir-\n",
            "Before\n",
            "['apel', 'tomat']\n",
            "after\n",
            "['apel', 'tomat', 'semangka']\n",
            "\n",
            "\n",
            "-Menambah index dimanapun-\n",
            "['apel', 'buah naga', 'tomat', 'semangka']\n",
            "\n",
            "\n",
            "-Menghapus data-\n",
            "['apel', 'buah naga', 'semangka']\n",
            "Menghapus berdasarkan index\n",
            "['buah naga', 'semangka']\n",
            "\n",
            "\n",
            "Menggabungkan dua list\n",
            "[1, 2, 3, 4, 5]\n",
            "[6, 7, 8, 9, 10]\n",
            "[1, 2, 3, 4, 5, 6, 7, 8, 9, 10]\n",
            "perulangan list\n",
            "apel\n",
            "jeruk\n",
            "mangga\n",
            "durian\n",
            "apel\n",
            "jeruk\n",
            "mangga\n",
            "durian\n"
          ]
        }
      ]
    },
    {
      "cell_type": "markdown",
      "source": [
        "###Tuple"
      ],
      "metadata": {
        "id": "QQcpr99nAPAd"
      }
    },
    {
      "cell_type": "code",
      "source": [],
      "metadata": {
        "id": "-1NRJThFA-Xq"
      },
      "execution_count": null,
      "outputs": []
    },
    {
      "cell_type": "markdown",
      "source": [
        "- tuple saya sama dengan list tetapi ***tidak bisa di ubah data datanya***"
      ],
      "metadata": {
        "id": "lDv4PXqNAS8w"
      }
    },
    {
      "cell_type": "code",
      "source": [
        "point = (5,10)\n",
        "print(point)\n",
        "print(point[1])\n",
        "\n",
        "tanggal_lahir = (10, 8, 2002)\n",
        "print(tanggal_lahir)\n"
      ],
      "metadata": {
        "colab": {
          "base_uri": "https://localhost:8080/"
        },
        "id": "CFlH-rc0Acsm",
        "outputId": "43abe285-12f6-4bcd-e243-b14191b82afe"
      },
      "execution_count": null,
      "outputs": [
        {
          "output_type": "stream",
          "name": "stdout",
          "text": [
            "(5, 10)\n",
            "10\n",
            "(10, 8, 2002)\n"
          ]
        }
      ]
    },
    {
      "cell_type": "markdown",
      "source": [
        "#### Dictionary (kamus)"
      ],
      "metadata": {
        "id": "A9e3kbu1BGrE"
      }
    },
    {
      "cell_type": "code",
      "source": [
        "- Dictionary menyimpan data dalam pasangan key-value(kunci-nilai). Dictionary ditulis dengan kurung kurawa [].\n",
        "- Untuk membuat data dictionary, kita perlu menentukan key dan juga valuenya\n"
      ],
      "metadata": {
        "id": "fEEPBBQUBLrG"
      },
      "execution_count": null,
      "outputs": []
    },
    {
      "cell_type": "code",
      "source": [
        "# Dictionari dengan data\n",
        "siswa = {\n",
        "    \"nama\" : \"Hamka\",\n",
        "    \"umur\" : \"21\",\n",
        "    \"kelas\" : \"3C\"\n",
        "}\n",
        "\n",
        "print(siswa)\n",
        "\n",
        "print(siswa[\"nama\"]) # Hamka\n",
        "print(siswa[\"umur\"]) # 20\n",
        "print(siswa[\"kelas\"]) # 2c\n",
        "\n",
        "# Merubah data\n",
        "siswa[\"Kelas\"] = \"12B\"\n",
        "\n",
        "#Menghapus\n",
        "del siswa[\"umur\"]\n",
        "print(siswa)\n",
        "\n",
        "#iterasi\n",
        "for key in siswa:\n",
        "  print(key, siswa[key])\n",
        "\n",
        "for key, value in siswa.items():\n",
        "    print(key, value)"
      ],
      "metadata": {
        "colab": {
          "base_uri": "https://localhost:8080/"
        },
        "id": "azFHb0B4B8Yl",
        "outputId": "f9bdf7b0-76f7-4ea4-bc49-d8334cab1499"
      },
      "execution_count": null,
      "outputs": [
        {
          "output_type": "stream",
          "name": "stdout",
          "text": [
            "{'nama': 'Hamka', 'umur': '21', 'kelas': '3C'}\n",
            "Hamka\n",
            "21\n",
            "3C\n",
            "{'nama': 'Hamka', 'kelas': '3C', 'Kelas': '12B'}\n",
            "nama Hamka\n",
            "kelas 3C\n",
            "Kelas 12B\n",
            "nama Hamka\n",
            "kelas 3C\n",
            "Kelas 12B\n"
          ]
        }
      ]
    },
    {
      "cell_type": "markdown",
      "source": [
        "###Set (Himpunan)"
      ],
      "metadata": {
        "id": "D4PM_GePDfcD"
      }
    },
    {
      "cell_type": "markdown",
      "source": [
        "- set kumpulan data yang tidak berurutan dan tidak memiliki elemen duplikat\n",
        "- Set ditulis dengan kurung kurawal {}atau fungsi set()\n",
        "- Untuk menambah data ke set, kita bisagunakan methid add(value)\n"
      ],
      "metadata": {
        "id": "SKfgjL01DjFf"
      }
    },
    {
      "cell_type": "code",
      "source": [
        "#tidak berurutan di outputnya\n",
        "buah = {\"anggur\", \"Semangka\", \"pisang\"}\n",
        "print(buah)\n",
        "\n",
        "#Menambah\n",
        "buah.add(\"mangga\")\n",
        "print(buah)\n",
        "\n",
        "for x in buah:\n",
        "  print(x)"
      ],
      "metadata": {
        "colab": {
          "base_uri": "https://localhost:8080/"
        },
        "id": "NC288f6TaPyF",
        "outputId": "567aa249-6f93-44e2-ff3d-c4cf5203b8fa"
      },
      "execution_count": null,
      "outputs": [
        {
          "output_type": "stream",
          "name": "stdout",
          "text": [
            "{'Semangka', 'anggur', 'pisang'}\n",
            "{'Semangka', 'mangga', 'anggur', 'pisang'}\n",
            "Semangka\n",
            "mangga\n",
            "anggur\n",
            "pisang\n"
          ]
        }
      ]
    },
    {
      "cell_type": "markdown",
      "source": [
        "###Function"
      ],
      "metadata": {
        "id": "_2WI_f23axJd"
      }
    },
    {
      "cell_type": "markdown",
      "source": [
        "- Function dibuah menggunakan kata kuci ***def***\n",
        "- tambahkan : (titik dua) setelah ()"
      ],
      "metadata": {
        "id": "lUBiuzBubJLZ"
      }
    },
    {
      "cell_type": "markdown",
      "source": [
        "####function"
      ],
      "metadata": {
        "id": "32Pw1eP9beCd"
      }
    },
    {
      "cell_type": "code",
      "source": [
        "#Membuat fungsi\n",
        "def nama_function():\n",
        "      print(\"hallo saya function\")\n",
        "\n",
        "nama_function()"
      ],
      "metadata": {
        "colab": {
          "base_uri": "https://localhost:8080/"
        },
        "id": "93HcKG4ca2aU",
        "outputId": "c6c49d51-8aa4-4ec1-d86d-bfef7eb2c497"
      },
      "execution_count": null,
      "outputs": [
        {
          "output_type": "stream",
          "name": "stdout",
          "text": [
            "hallo saya function\n"
          ]
        }
      ]
    },
    {
      "cell_type": "markdown",
      "source": [
        "####function dengan parameter"
      ],
      "metadata": {
        "id": "xvtHeATybg_x"
      }
    },
    {
      "cell_type": "code",
      "source": [
        "- Parameter memungkikan kita mengirim data ke function\n",
        "- Caranya kita bisa tambahkan nama parameter diantara kurung buka dan kurung tutup di function\n",
        "- jika kita ingin menambahkan lebih dari satu parameter, kita bisa gunakan karakter koma sebagai pemisah parameter tersebut\n",
        "- Saat memanggil functionnya, maka kita wajib mengisi data pada parameter functionnya"
      ],
      "metadata": {
        "id": "HjsaHf10bkNL"
      },
      "execution_count": null,
      "outputs": []
    },
    {
      "cell_type": "code",
      "source": [
        "#parameter = nama\n",
        "#seperti variabel\n",
        "\n",
        "def sapa_nama(nama):\n",
        "  print(\"Hello\", nama)\n",
        "  print(\"Senang bertemu dengan anda\")\n",
        "\n",
        "sapa_nama(\"Hamka\")\n",
        "sapa_nama(\"jons\")\n",
        "\n",
        "def hitung_luas_persegi_panjang(panjang, lebar):\n",
        "  luas = panjang * lebar\n",
        "  print(\"Luas persegi panjang\", luas)\n",
        "\n",
        "hitung_luas_persegi_panjang(10,5)\n",
        "hitung_luas_persegi_panjang(4,2)"
      ],
      "metadata": {
        "colab": {
          "base_uri": "https://localhost:8080/"
        },
        "id": "Kmm4ZXmLcPXd",
        "outputId": "6c722dc1-0377-498d-f62c-8dc5352abf18"
      },
      "execution_count": null,
      "outputs": [
        {
          "output_type": "stream",
          "name": "stdout",
          "text": [
            "Hello Hamka\n",
            "Senang bertemu dengan anda\n",
            "Hello jons\n",
            "Senang bertemu dengan anda\n",
            "Luas persegi panjang 50\n",
            "Luas persegi panjang 8\n"
          ]
        }
      ]
    },
    {
      "cell_type": "markdown",
      "source": [
        "#### Function dengan Return Value"
      ],
      "metadata": {
        "id": "hHl-hVi7eg9k"
      }
    },
    {
      "cell_type": "code",
      "source": [
        "\n",
        "#tanpa return\n",
        "def hitung_luas_lingkaran(radius):\n",
        "  pi = 3.14159\n",
        "  luas = pi * radius * radius\n",
        "  print(\"luas lingkaran radius\",luas)\n",
        "\n",
        "hitung_luas_lingkaran(5)\n",
        "\n",
        "\n",
        "# Dengan Return\n",
        "def hitung_luas_lingkaran(radius):\n",
        "  pi = 3.14159\n",
        "  luas = pi * radius * radius\n",
        "  return luas\n",
        "luas1 = hitung_luas_lingkaran(5) # bisa modif\n",
        "luas2 = hitung_luas_lingkaran(10) # bisa modif\n",
        "\n",
        "print(\"luas lingkaran radius 5 :\", luas1)\n",
        "print(\"luas lingkaran radius 10 :\", luas2)\n",
        "print(\"luas lingkaran radius 10 :\", luas2*2)# bisa modif\n",
        "print(\"Total luas :\", luas1+luas1)# bisa modif\n",
        "\n"
      ],
      "metadata": {
        "colab": {
          "base_uri": "https://localhost:8080/"
        },
        "id": "P_kQJUrGg6J3",
        "outputId": "2142304f-9604-4cf9-f884-f1e688a5f624"
      },
      "execution_count": null,
      "outputs": [
        {
          "output_type": "stream",
          "name": "stdout",
          "text": [
            "luas lingkaran radius 78.53975\n",
            "luas lingkaran radius 5 : 78.53975\n",
            "luas lingkaran radius 10 : 314.159\n",
            "luas lingkaran radius 10 : 628.318\n",
            "Total luas : 157.0795\n"
          ]
        }
      ]
    },
    {
      "cell_type": "markdown",
      "source": [
        "#### Default parameter\n"
      ],
      "metadata": {
        "id": "3gInS2JXt2Mz"
      }
    },
    {
      "cell_type": "markdown",
      "source": [
        "- Saat kita menambahkan parameter di function, mka kita wajib mengisi nilai para parameter tersebut ketika memanggil functionnya\n",
        "- namun, kita jiga bisa menmbahkan default parameter, yaitu nilai aawal untuk parameter tersebut\n",
        "- Hal ini menjadikan jika kita tidak mengisi nilai para parameter tersebut, maka parameter tersebut akan menggunakan nilai awal\n",
        "- posisi defaul parameter, tidak boleh di depan parameter biasa harus ada di belakang parameter biasa\n",
        "- Untuk membuat defail parameter, cukup tambahka =(sama dengan) diikuti dengan nilai awalnya"
      ],
      "metadata": {
        "id": "du_R3NgTuF6K"
      }
    },
    {
      "cell_type": "code",
      "source": [
        "def sapa(nama, sapaan=\"Hallo\"): # defaultnya = Hallo\n",
        "  print(sapaan, nama)\n",
        "\n",
        "sapa(\"ali\") # meggunakan default \"Hallo\" diatas\n",
        "sapa(\"Bob\", \"Hai\") # tidak menggunakan default\n"
      ],
      "metadata": {
        "colab": {
          "base_uri": "https://localhost:8080/"
        },
        "id": "AyYLRkmcvdwn",
        "outputId": "e082d4c9-77e0-4c7f-84e3-43dcc86461db"
      },
      "execution_count": null,
      "outputs": [
        {
          "output_type": "stream",
          "name": "stdout",
          "text": [
            "Hallo ali\n",
            "Hai Bob\n"
          ]
        }
      ]
    },
    {
      "cell_type": "markdown",
      "source": [
        "#### Keyword Argument\n",
        "- Argument adalah nilai yang kta kirim ke parameter function ketika kita memanggil function\n",
        "- Saat memanggil function, posisi argument harus sama dengan posisi parameter di function\n",
        "- Namun, jika kita ingin mengubah posisi argument, sehingga posisi tidak harus sama dengan pasisi parameter, maka kita harus menyebuatkan nama parameternya saat memanggil function\n",
        "- fitur ini disebut keyword argument\n",
        "- Saat mengguanakan keyword argument, kita juga bisa mengkombinasikan argument biasa"
      ],
      "metadata": {
        "id": "eMWgQLlhwCBc"
      }
    },
    {
      "cell_type": "code",
      "source": [
        "def perkenalan(nama, umur, kota):\n",
        "  print(\"Nama: \",nama)\n",
        "  print(\"Umur: \",umur)\n",
        "  print(\"Kota: \",kota)\n",
        "  print(\"===============\")\n",
        "\n",
        "# Argument biasa (urutan harus sesuai)\n",
        "perkenalan(\"Alice\", 25, \"Bandung\")\n",
        "\n",
        "# Keyword argument (urutan bebas)\n",
        "perkenalan(kota=\"Bandung\", nama=\"bob\", umur=\"22\")\n",
        "perkenalan(umur=21, kota=\"cianjur\", nama=\"gata\")"
      ],
      "metadata": {
        "colab": {
          "base_uri": "https://localhost:8080/"
        },
        "id": "evrgiK2hxmI-",
        "outputId": "7bb36071-49ae-4abb-ca5f-e8024e74e03d"
      },
      "execution_count": null,
      "outputs": [
        {
          "output_type": "stream",
          "name": "stdout",
          "text": [
            "Nama:  Alice\n",
            "Umur:  25\n",
            "Kota:  Bandung\n",
            "===============\n",
            "Nama:  bob\n",
            "Umur:  22\n",
            "Kota:  Bandung\n",
            "===============\n",
            "Nama:  gata\n",
            "Umur:  21\n",
            "Kota:  cianjur\n",
            "===============\n"
          ]
        }
      ]
    },
    {
      "cell_type": "code",
      "source": [
        "#contoh function\n",
        "def buat_profil(nama, umur, kota = \"jakarta\", pekerjaan=\"Belum bekerja\"):\n",
        "  print(f\"=== PROFIL {nama.upper()} ===\")\n",
        "  print(f\"Umur:{umur} tahun\")\n",
        "  print(f\"Kota:{kota}\")\n",
        "  print(f\"Pekerjaan: {pekerjaan}\")\n",
        "  print()\n",
        "\n",
        "#positional + keyword argumen\n",
        "buat_profil(\"jojo\", 25) #menggunakan default\n",
        "buat_profil(\"Bob\", 30, kota=\"badung\")\n",
        "buat_profil(\"cici\", 21, pekerjaan=\"Develover\")"
      ],
      "metadata": {
        "colab": {
          "base_uri": "https://localhost:8080/"
        },
        "id": "3kSQkhorcGEk",
        "outputId": "bbd82b5c-fa0e-4c6b-c38e-f9c16e642449"
      },
      "execution_count": null,
      "outputs": [
        {
          "output_type": "stream",
          "name": "stdout",
          "text": [
            "=== PROFIL JOJO ===\n",
            "Umur:25 tahun\n",
            "Kota:jakarta\n",
            "Pekerjaan: Belum bekerja\n",
            "\n",
            "=== PROFIL BOB ===\n",
            "Umur:30 tahun\n",
            "Kota:badung\n",
            "Pekerjaan: Belum bekerja\n",
            "\n",
            "=== PROFIL CICI ===\n",
            "Umur:21 tahun\n",
            "Kota:jakarta\n",
            "Pekerjaan: Develover\n",
            "\n"
          ]
        }
      ]
    },
    {
      "cell_type": "markdown",
      "source": [
        "#### Local Variabel"
      ],
      "metadata": {
        "id": "SNv4hgNYePa8"
      }
    },
    {
      "cell_type": "markdown",
      "source": [
        "- Saat kita membuat  variabel di dalam function, maka variabel tersebut bersifat local di function itu artinya tidak bisa digunakan di luar function"
      ],
      "metadata": {
        "id": "R_p3CZrMeS95"
      }
    },
    {
      "cell_type": "code",
      "source": [
        "#contoh\n",
        "def fungsi_test():\n",
        "    x = 10 # local variabel\n",
        "    print(\"Nilai x di dalam fungsi\", x)\n",
        "\n",
        "fungsi_test()\n",
        "\n",
        "#kita memcoba memanggil fungsi x\n",
        "#print(x) #eror! x tidak bisa diakses di luar fungsi\n"
      ],
      "metadata": {
        "colab": {
          "base_uri": "https://localhost:8080/"
        },
        "id": "IeQlb4bfef3H",
        "outputId": "6877ef9f-9cf7-412f-d54a-d284a6d8eec2"
      },
      "execution_count": null,
      "outputs": [
        {
          "output_type": "stream",
          "name": "stdout",
          "text": [
            "Nilai x di dalam fungsi 10\n"
          ]
        }
      ]
    },
    {
      "cell_type": "markdown",
      "source": [
        "####Global Variabel"
      ],
      "metadata": {
        "id": "YCjoHO1JfUE-"
      }
    },
    {
      "cell_type": "markdown",
      "source": [
        "- variable yang kita buat di luar function, maka bisa digunakan di dalan function, atau bersifat global\n",
        "- Namun kita tidak bisa mengubah nilai dari  global variabel di dalam function, jika kunci global di dalan functionnya\n",
        "- cara mengubah variabel adalah dengan membuat function seperti ubah_nama() dll ada dibawah contohnya dan jika kita ini mengambil functon global yang sudah di ubah urutannya harus function pengubah lalu function yang di ubah"
      ],
      "metadata": {
        "id": "yKiSA-eqfeIY"
      }
    },
    {
      "cell_type": "code",
      "source": [
        "nama_global = \"alice\" # global variabel\n",
        "\n",
        "def tampilkan_nama():\n",
        "    print(\"Nama\", nama_global) # bisa mengakses global variable\n",
        "\n",
        "def ubah_nama():\n",
        "    global nama_global\n",
        "    nama_global = \"Bob\" # Mengubah global variable\n",
        "\n",
        "tampilkan_nama() # alice\n",
        "ubah_nama()\n",
        "tampilkan_nama() #Bob\n"
      ],
      "metadata": {
        "colab": {
          "base_uri": "https://localhost:8080/"
        },
        "id": "e_nQvNgZe5eg",
        "outputId": "576fe4b8-1bbe-4f6f-b3bc-958a4c5ca41b"
      },
      "execution_count": null,
      "outputs": [
        {
          "output_type": "stream",
          "name": "stdout",
          "text": [
            "Nama alice\n",
            "Nama Bob\n"
          ]
        }
      ]
    },
    {
      "cell_type": "markdown",
      "source": [
        "### Parameter Dinamis"
      ],
      "metadata": {
        "id": "6aDgRuZZhZWE"
      }
    },
    {
      "cell_type": "markdown",
      "source": [
        "- python juga mendukung parameter dinamis\n",
        "- kita bisa menambahkan tanda * sebelum nama parameter untuk memberi tahu bahwa itu adalah parameter dinamis berupa List\n",
        "- atau kita bisa gunakan tanda ** sebelum nama parameter untuk memeberi tahu bahwa itu adalah parameter berubah Dictionary"
      ],
      "metadata": {
        "id": "W6IxFPd9hd2N"
      }
    },
    {
      "cell_type": "code",
      "source": [
        "# List\n",
        "def cetak_list(*list):\n",
        "  for item in list:\n",
        "      print(item)\n",
        "cetak_list(1, 2, 3, 4, 5)\n",
        "\n",
        "# Dictionary\n",
        "def cetak_dict(**dict):\n",
        "  for key, value in dict.items():\n",
        "    print(f\"{key}: {value}\")\n",
        "\n",
        "\n",
        "cetak_dict(nama=\"Alice\", umur=21, kota=\"Jakarta\")\n",
        "cetak_dict(nama=\"coco\", umur=23, kota=\"bandung\")"
      ],
      "metadata": {
        "colab": {
          "base_uri": "https://localhost:8080/"
        },
        "id": "bxB5NPnMiUJ8",
        "outputId": "96c0c83d-a907-47c0-e0cc-2fb698be8efa"
      },
      "execution_count": null,
      "outputs": [
        {
          "output_type": "stream",
          "name": "stdout",
          "text": [
            "1\n",
            "2\n",
            "3\n",
            "4\n",
            "5\n",
            "nama: Alice\n",
            "umur: 21\n",
            "kota: Jakarta\n",
            "nama: coco\n",
            "umur: 23\n",
            "kota: bandung\n"
          ]
        }
      ]
    },
    {
      "cell_type": "markdown",
      "source": [
        "### Penanganan eror general (Try-Except)\n"
      ],
      "metadata": {
        "id": "nRRb_Lqr-XvF"
      }
    },
    {
      "cell_type": "code",
      "source": [
        "# tanpa try-except\n",
        "print(\"=== KALKULATOT SEDERHANA ===\")\n",
        "\n",
        "angka1 = int(input(\"angka1: \"))\n",
        "angka2 = int(input(\"angka2: \"))\n",
        "hasil = angka1 / angka2\n",
        "print(\"Hasil\", hasil)\n",
        "\n",
        "print(\"=== PROGRAM SELESAI\")"
      ],
      "metadata": {
        "colab": {
          "base_uri": "https://localhost:8080/",
          "height": 245
        },
        "id": "Z7JC9D8J_ZP5",
        "outputId": "f48c837e-91d7-43a9-ea7a-b3fe64047c73"
      },
      "execution_count": null,
      "outputs": [
        {
          "name": "stdout",
          "output_type": "stream",
          "text": [
            "=== KALKULATOT SEDERHANA ===\n",
            "angka1: HAMKA\n"
          ]
        },
        {
          "output_type": "error",
          "ename": "ValueError",
          "evalue": "invalid literal for int() with base 10: 'HAMKA'",
          "traceback": [
            "\u001b[0;31m---------------------------------------------------------------------------\u001b[0m",
            "\u001b[0;31mValueError\u001b[0m                                Traceback (most recent call last)",
            "\u001b[0;32m/tmp/ipython-input-3387425576.py\u001b[0m in \u001b[0;36m<cell line: 0>\u001b[0;34m()\u001b[0m\n\u001b[1;32m      2\u001b[0m \u001b[0mprint\u001b[0m\u001b[0;34m(\u001b[0m\u001b[0;34m\"=== KALKULATOT SEDERHANA ===\"\u001b[0m\u001b[0;34m)\u001b[0m\u001b[0;34m\u001b[0m\u001b[0;34m\u001b[0m\u001b[0m\n\u001b[1;32m      3\u001b[0m \u001b[0;34m\u001b[0m\u001b[0m\n\u001b[0;32m----> 4\u001b[0;31m \u001b[0mangka1\u001b[0m \u001b[0;34m=\u001b[0m \u001b[0mint\u001b[0m\u001b[0;34m(\u001b[0m\u001b[0minput\u001b[0m\u001b[0;34m(\u001b[0m\u001b[0;34m\"angka1: \"\u001b[0m\u001b[0;34m)\u001b[0m\u001b[0;34m)\u001b[0m\u001b[0;34m\u001b[0m\u001b[0;34m\u001b[0m\u001b[0m\n\u001b[0m\u001b[1;32m      5\u001b[0m \u001b[0mangka2\u001b[0m \u001b[0;34m=\u001b[0m \u001b[0mint\u001b[0m\u001b[0;34m(\u001b[0m\u001b[0minput\u001b[0m\u001b[0;34m(\u001b[0m\u001b[0;34m\"angka2: \"\u001b[0m\u001b[0;34m)\u001b[0m\u001b[0;34m)\u001b[0m\u001b[0;34m\u001b[0m\u001b[0;34m\u001b[0m\u001b[0m\n\u001b[1;32m      6\u001b[0m \u001b[0mhasil\u001b[0m \u001b[0;34m=\u001b[0m \u001b[0mangka1\u001b[0m \u001b[0;34m/\u001b[0m \u001b[0mangka2\u001b[0m\u001b[0;34m\u001b[0m\u001b[0;34m\u001b[0m\u001b[0m\n",
            "\u001b[0;31mValueError\u001b[0m: invalid literal for int() with base 10: 'HAMKA'"
          ]
        }
      ]
    },
    {
      "cell_type": "markdown",
      "source": [
        "![image.png](data:image/png;base64,iVBORw0KGgoAAAANSUhEUgAAAncAAAEYCAYAAAA+gNBwAAAAAXNSR0IArs4c6QAAAARnQU1BAACxjwv8YQUAAAAJcEhZcwAADsMAAA7DAcdvqGQAAFC1SURBVHhe7d1/cFP3nTf6d9JN7+ZgiuXa0GAVHLRRiGORUgjYpBewnjLZUmvhdhBpeCbSspu2V76P7+C522bCTMyazJBpd/fK83gvvv2xyyNnBtqI6YSVS58OfWSSaWMnhYcmclziPHIMkSGxXQsSc/LcZtvcP84PnfPV0S/L8g/xfs1oBp3v+X2OOR99vj8OQERERERl4w5xQrn505/kfzF+v/NO6W+N34mIiIjKSVkHd3/6058eueOxO39lmvjCJ8133HHHedM0IiIiojJxpziBiIiIiJYuBndEREREZYTBHREREVEZYXBHREREVEYY3BERERGVEQZ3RERERGWEwR0RERFRGWFwR0RERFRGGNwRERERlREGd0RERERlhMEdERERURkp63fLQnm/bI/x+5133hkwficiIiIiIiIiIiIiIiIiIiIiIiLK0x2NjY2fiBOJiIiIaGlib1kiIiKiMsLgjoiIiKiMMLgjIiIiKiMM7oiIiIjKCIM7IiIiojLC4I6IiIiojDC4IyIiIiojd3zlK1/hOHdEREREi1QymRQnZcVBjImIiIjKCKtliYiIiMoIgzsiIiKiMsLgjoiIiKiMMLgjIiIiKiMM7oiIiIjKCIM7IiIiojKS11Aon63+LCorK8XJWX300Ue4Nn5NnExEREREJZQzuLt//f342288iTvvLDzJdz7aj75InziZiIiIiEokZ3B38G//Bvevvx9Xr1wRi7Kqrq7BnZ+6E3//zBGxiIiIiIhKJGdw9/iBx/HZ6s/in//zP4tFWe3bvw9f3LQJh596WiwiIiIiohLJGdx96lOfwqc//Wl89NFHpumf/vSn8Yc//ME0rWy1dCDkdyAe8uNoHwAEEAy7YR+PwnuoR58t0BWGuxZI9HvRfty4ggCC4UYk9eXFMjegL+NBR8gHF2Lo9V/CxpAPjtFe+Dsj6vxKeWpatnWrWjoQ8rsgyTH0+o9CX9OREHwNkjAzAMN85nlkxLTttAYRbrYLCwJAAlFvO1JnJbO07Rv3z2r9ajnE5SCcc+14zXPo+5W2XeM+twYRbob5GDJOswOme0C9dpLxHFhcnwzXg4iIaC7kbEj3xz/+MS2wu/POO/F//J//CVu2bjFNv10EutIDOyAAZ20C0f4E7M6AYXphPEf2qYHd3D30PZscwFAUMTiwsSU1PdLph9frhdcbRUINkLxeL7zGwG5dHL1eZXrvEODyBxEAgOPt6rK9iMmAPNSrfs8vsENrEL6GaUTVdRu3q5Nj+rbTyo1l/QnYm8MIthoXTpjXLe7XeFQvi47b4Q51wGMszyHgtCPRH0Wi1qmcDwNZroLTtC9mma4HERHRXMgZ3Fmx2WxYtWoV9u33wnm/Uywub61BuG0x9JoCOwCtTtjlJBLHRywf+Hlp6cC+hmlExSCnKB5sXCdherIHl0YBx6Z8Q5gA3A1ALJzal0jnacRke9bAJV8Bpx0YH8kvEMzleDt6h2TYtxYWoGkSSVmclEMAzloZyas9GBlPPx/To3FUZdyX2V4PIiKi/MwquPv973+P3v8Swp/+9Cf4/tqPqs9WAQCWL1+Obz/1Hfxj8J/0z/f+6R/0f3/3H7+H+5z3iatbQgIINsMy+Ao47ZBHLyGCBJKzCoA86PA6EA/lmfnKV8tGOKQERo4DkclpSOs2Zgg6BC01qMI0Jk1VvRFMJlFUZlLTM5IAat0IdxW/LkA5Nkg2WFUUZ6cEW0hOpl3TjFqdsMtxXOpTAsO08zF5FIPJDFm52V4PIiKiPGUN7v76bw6aAjXj52+e/Fv82Z/9Gf78z/8cB//mID71qU/hww8/xD//52689957+jq0IVT++Mc/4kc/+BHeHnnbsIVCBBAMhxEWP1p1WksHQmJZOKwHD54jofSysFiVl40El98N9FsFX0omJ34xAiCCS6MWD/wc7M0+OEZPZ243N0ueTQ5IWobs+AgSUoagQ7TGBklOIiFMLjzLlcHxdqU6uNatXgu1utdIcsFncS0tXU3CvGd2uK3uE42+XaX9ormKXVhWaPuXCuSByMU4ZItMbc/INFxfFqcWcT3yuIcDXell4XAIHS25/z6IiKh8ZA3u8vWHjz/GHXfcAaiDF3+/5/tIJpMAgE8++cQQ2I0ISxaiB+2mNlRCO6y+o/CLZV6v/tBOtS8zf8wdH7KREeuPoarZIggxZHKQ5YGfTaI/iumGfcqDeM4oWanEiBa49GBkXMqvKvBqErJFJsxukyAnxZBvtlLXNDpuh1sLRDRimzuxKtxojc2iA4XFfaJR29z1DskW2TNh2X7j8RoDeQB9lxC3ytQejyJmE++BIq5HHvdwz6H0Mq9X7ciR4++DiIjKR9bg7r/86wn8Xfv/Zfn5v//xn/Dxxx9jcmIS//KDH+Hf//3f9eU+/OADfL/n+7g1cwszH36If/3RvxYZ2GERZO4AXD2K00NVaY3vA067Ocvkd0GCxQM/qx6090+nOiwAejWolenJPCoRWzbCIQH25tTxumthEcxY6JvENKpQYwo2Paix5bntAvUciiIBCbY1Ykl+Ak47YJFpzCXSOYiE5II732vV6oQdElx+7Zz64JKsqqojuDRahcYjNalJxVyPPO5hZu6IiAi5grtMqqqq8K3A/44//OEP+OEPfgBZTq+qm5qcRM//cxy9oV68dfmyWDwLC525U0Q6/YgmXfDpD0Ul4NF7mqqf6LjVAz+H4+3oFYLHRFLILLW64VLbbOW0xqYMt2E85lAMcl5VgUpWyeVN7YvWkzeaz7YL1eqEHTKSV8WC3DxHQnDXyqbOH/nrQbSAzhiemipTT1uvV83sWWRqI52DmF7ngNIitdjrkfseZuaOiIgw2+Dugw8+wLVr1/DD7/8A07+fFot17733Ht4ZfUecvOT1HFLbioU64DE0kDfNMyI+8I3ZHkNGRRDpPI0YXPCpbdD0YFJbrrkKsbROF9brNrYN0/VdQlzOryqw55DXtG3fuvgcDdHiQUdIyCA1V6XG0NOIbe6MGVNDmTKkijjOn9BuzqpNn0rL3u07kuuciNWqquMjSFhmanswkpT06uJirwcREVE+cg5iTERERERLR87MnfvL/wF/+40nxck5/a87tqP1P7XqvWWJiIiIqPRyZu72f/0xbNq8Cf/tl/9NLMrqgfoHUFtbi6f+7jv45JOsmyAiIiKiOZIzuNv4xS/iPz7xH8XJeXn77bfx/eP/rziZiIiIiEokZ3AHAI6/cMDxF3+ByYkJfPDBB2KxpU8++QRXr1w1DZFCRERERKWVV3BHREREREsDezsQERERlREGd4A+7loo5zhnRERERIsbg7s5pL0eqqBXmmVlFXRmnpY2MLL6yinjvMorqtQBfVs6EDIto77izfRKqgzrJiIiokWJwd2cUAKgfYgX/G7TOdGyEQ7EEB2C+U0Ha2yQZBmw2dUJAThtMtJfFqcIdLlhH4+aX0mVad1ERES0KC2x4E54bZXxdVQIIBgOImB8QbqpPMOL1y1fnK5msEyvrNKmpS/nObIPtle98HdO6tOsmLJmc8izyQEpOYmei3FAfAl9Mo64TX0NWqsTeHUQ06hCjZiFaw3CbYuhV3jXaNZ1ExER0aKzpII7zxE3ENZeet6LGMT3gdrh9tsw6PXC640iIbng1qpIWzqwrwGIhZTlo+MA5PRgRgni3Kga6oXXm3qHa6DLiRH9hevKu2W16tdIp19/efv8M7zvtG8S02kvoZ/EpdEqOFuBgBNp78BVBBBsBqJp743NtW4iIiJabJZUcBfpbDe8HD6CS6MyJL3KEQBkxEJaQNaDkXGgqkYJ/jybHJDkOC6py/eMJADJBuPSwEY9sPN3msOcnkOpQE9cd756DnlNAWO+pAafIdvog0t7Ez3UalMpoQZtPRgZT72E3lNTBQCIXIyjyhmEEyMW25bg8ruBfov9yrJuIiIiWpyWVHCndRDQAh1fgzHKyS4yOQ0YMk8Bpx0YNwc7UoMLdsiIXzQHdoBSbWmsznXXijOUjjzUq2YM1YylodGcZ5MDkuE4ekYSkMTq075LiNvswEgPgASSpkZ3MmL9MVQ1p1cX57VuIiIiWlSWUHAXQNDvAgyBTu9Qpq4BFq4mIUOCy68FZwlEhSpZeagXvUOAyy8EOi0dCDXbkejXAiy1WnfBKdWmqHWnAs9muymIlZMJABEc9XsNVccSbGsMq7l6FKeHquA2tVHMvW4iIiJafJZQcKeYnlSzai0d2FdA5i7wZXNgmKl6NNLpR3TcLgQ6ACAjeVX9Z2twVpm7ue9QYYdNkvV2hKnMXuHVp5FOP6JJF3x6R5G5WzcRERHNnyUU3PUgOiTD3qxmkfw2xAvI3PX8MgaY2q5lDrR6DimdNXza2G59RzE4nsr6hbcmETNm7vQqWzfsgL6PczfeXQatTtgN7QgValvEdRuxzZZ/8AsAPYeUjiLhUAc8OdbN8I6IiGhxum3eLRvoCqMxae4oEegKww1hXDciIiKiJWwJZe6K4UGNTZwWgLNWa5NGREREVB5um8wdWjoQ8rtgrKiULYY8ISIiIlrKbp/gjoiIiOg2cJtUyxIRERHdHhjcEREREZURBndEREREZYTBHREREVEZYXBHREREVEYY3BERERGVEQZ3RERERGWEwR0RERFRGWFwR0RERFRGGNwRERERlZGl9fqxZRtwbus6VOgTJhGJ/hrHtK+rHsHAgzV6KT4aRffAGzipfj28YS881animSsvYVc8qXwp5bphQ3fTDmy+O1U+9uaLePx99UuObZdy3dmPq5TrLvK4Srnuoo6rlOsu8rhKue4cx1XKdRd1XKVcd5HHVcp1F3VcpVx3ruMq5bqLOq5SrrvI4yrluos6rlKuO8dxlXLdRR5X9nXnb2kFd0RERESUFatliYiIiMoIgzsiIiKiMsLgjoiIiKiMMLgjIiIiKiMM7oiIiIjKCIM7IiIiojLC4I6IiIiojDC4IyIiIiojDO6IiIiIysht9IaKdTjl3oA6AMAtXHj1HNpuifMQEdHsBRAMNyIZ8uNon1hWLA86Qj44Rnvh74yIhQUq5X7SfAh0heGuVf4tD4n3RADBsBt2pRSxAq9z9nWXludICPtwuuhtLpHMnQ3dTXtxzmETC3B4g/X0dKN4PPoimqJvYEwsKtayDTjn3osB0+cRHBbnIyIqWgDBcBhhi0+wVZyX0nnQEXKjauh0QQ/8YgW6wggd8YiTl7yFOq6eQ154vV5Ex8USAOhBu9cLrzeKhFiUh+zrLl62cxbpHMR0g6/ov+UlEtwlMTBxCxUrP48Dpunr4Kq+hcvvFf5S3bk3iUj0RTTpH8NLiImI5oz24PKid0gG5Bh61e/tx8V5SeQ5sg8uxHC6yMwIUWn0oD0UQ1VzEAGxqABLp1p22Qac27oKl43VqasewcC6D9E98AZOAkLVK4CpN9D0xqj2TbUOp9wOTJmqZW3obtqB6tEX8fj7ypQDjl1oWxY3LG9e98yVl7ArrgaVyzbg3Nbl6M8U0Gn7+QZwcOs6VMC8b4c37EXzrZdwApvRtnYZAGDsTWFf1OliWa51E1H58hwJwbcujl7/UZgqpbrCaEz24jT2wdcgAQAS/cbgz1htBWA8Cu+hHu2bXgXqUhYFkEDU2w5lDqHMtKxa3dkfh6PZBQlQgk/j/rUGEW7WtyzsF9L3TV9erJbV5jPuWy4ZqmNbgwg7k4jZXHBJMmLa/hv3vaUDIb96TBCPW70W6rmG4bjE6bq0c55BSwdCfhsGvSNwaudFOKfmbaSfD3EfTOfcdD3MVZhaFeGgzadXU87ZcQFZrjXS7zPxPlJp97p1NWaG652njOvOcQ+L52Y25yzjtvO0RDJ3AG69i8sfLcP6z6WqYA+vqsHMxLtqYAcc3nAPYnrm7A2MVW/AqVX67EWwobtpA6qvvKSve2rtjsLWffc6tG1djv7oi2h6dRQz1Q50p+I1VKzdoQST0RfRfeUW6tZtULKUqx5B21o5lRV8cxJ1D+4yLZtr3UR0+5EafPDZBvUMn31rB7SKoECXEyNqts/rjSJR6zZUA6kP1WRULffCawgWAl3Gsl7EbG6hikmCq9mGQa0cLuzTywMIOkdS6+1PwG7KUCgP+6qh3tQ8Fg9083z5BnYAWp2wy3FcsnrQ17pge9WL6Li2/1EkJAc2tkDZnt+F6X7zOdOPu6UD+xqmEdXPV+phH+n061V8svG48g6AAMAOd7gRyZC6bckFt3a9WoPwGbbdO1QFdyh1rZWAwnrf0NKBUHMVYiHtekzD5TdnjKQGHxqTyn4b76Pijyv7tfYccQNhbZ/F+2gh5biH5+he6BlJQFq3Ub+OhVo6wV1a1Wx6leyxN4yZs1HEpoDqinza4+Ww7PNYj1Gc0DJ1GEXkyi3UrVpnmKkGHmObuyY1ONPdwoVX1f1TA9XqCkPxR6PoVrNtJ997HzN3L0cdbOheV4OZK8Op43r/14hMmYPcnOsmotuPHEOv+tCIXIxDlmx6hqTnkDEg6sHIOFBVoz5GWt1wSQlELR44QADOWmNZBEdfFR9CMmIhbf0RXBqVDeU9aDeu9/gIEqhCTYvy1XOkEXY5V5XpRj0oKDSr4ampApKTFsGicr6i6kNYHooKmS9lv7RyoAft/eJx2+Essp1UNol+Lftkvl4Bpx2J/tT1jHQOmoJSd4NkKjfybHIAxraHx6OIycJxjEf18yzeR8XIda0jne2GbJt6H9nmYsvFyn4PK+bgXriaLOpcL6HgTgt6VqFpGYBV96Duo/cxYOzxuuoRU6cGT7WhrBgVy1Fx9zq0GdZtrCZVCG3u9KpilWlfk2gbMFStAqYMJG69gV2GKt6pmRxtCnOsm4huP/LopVQQ03cUfmOGqzVo6oihVblBC4DkpHVD9JYaVMEOt7Ejh6F6ykpkctr0PdBl7ARiqJIDYLdJmYMvldTggh0y4hezzWXNbrOoEstXtv3qOwp/fwL2ZvW4DJmzuZHAiKHar+eQVw24PKixIbVd8Zy21KAKMpJXU8sa2W0SpAafYVljVXxp5bzWLR0IGe4zy+rMBZLtHp6ze6FvEtNpQWP+llRwZ6yaFatksWwDzj1Yg7E3UwFWZMq8eFE+GkW3qcPEi/PWrs2cfbThHjGuJCLKV0sHQs12JPQqRnOvQDEYS5cwVTmJ1WkiY7bMcyQEd61xeXNvxkRSNnyzJg/1oncIadWH+chn/RnZakwPaU9NleEbgOPtqfOZdME324f6LBivpfJRs3x9k8h1NU3Vg0I1YillvxZKNTgM+9Y7lG3++ZPrHgbm6F5oqUEVpjFp1YQgD0sruNOrZjej2bKX7C1Mzaj/XPVIwZk7PYha9Yg5M/f+dYzdvQ4H8xpyZS6px7u2PjWsyqp6bL57Ev16FTERUaEM2ZzWoClzh+MjSEgZ2jf1XUJctsPdlW9YpVYLjhiqsQxZwUCXOesRuRiHbGr/Zy3S6Ud03G5qW5aPyOR0WpCWD6U60tDOTTuuV62DWqvAJZE0Vk/PFaW60txu0agHI+MSXF7r89QzkoDUsA8ds8wOoYjjyudaT0+qZ7elA/sWUeYu2z0smvW9sMYGKVMGPQ9Lp7esZtkGnNu6DhUfjRp6ySoObzBUxX40igu31mH9LbVX66pHMPBgjWFumAcz1tarLhuZWAVPlt6yMPZaNS6rm0REq1pN69VrpvWW1XvfCsy9ZYUBmHOsm4jKV67espnapBkHaYUcQyzpgsM0v9CLMVtvWTX7Y+7BmpKtl648FMN0g8Pcm1HslZqxt6y2H4UMUqtsH2IP3dYgwluT6PUfhV0/d3ZzT0thv4yD26b3gkzvsZp23ix6SFrSe8uK60tJ277Qs9R0vcVrIvT8NO6750hI6ZSj7aflvszyuJB+To37LfYAjg1VwaXvS/p9BuM1STsmQOwJnFmOdee4h9OuxSzvhVx/w7ksveCOiIholjIFxESLhmUQXZglVi1LREQ0e5HO04toWA0ikTbszuwDOzC4IyKi20sER/1RTBfZ1oyoFDxHGlE11Ft0pxZWyxIRERGVEWbuiIiIiMoIgzsiIiKiMsLgjoiIiKiMfMput/+9OHGp2PLtl7G7/iP89/8+JBaV2NfxlWePY9OKE3jzcmrqvU+exV8/8S2svds8vZTuffIs/vo/2DH4yq/FonnyFB4LPoddX9qA9/t/gRtiMdGcCCAYfgpPtjyA//niSxgRixcjZzv2HfoWtrr3YqP7i/j/+s/D+NKcmv3H8djX92Gjey823vfn+O3FNw2lOeRYt+IxPPrs32H7w+sw/utBpA+lusQ1ncLu/20nJl/7Of6nOqlyzzk0rv8jxt6KCTMT3V6WboeKh4P4xoFqvN7+BF7TJ34dX3m2FZ+5uB0/edE099za+zwObZrCmWfa8Y5h8r1PnsWeBytw/aU53r7lsSruffIs9theQtc/fFcomS9P4bHgV3HPzMW081FaRVzrvc/j0I61qe/XfmY6f1u+/TK2rU4Vp13Ph4P4xoFN0N9hoh+7sk/3m0ezBjCDt07uxs9/Y5ikrUM8b6Z9E5dTz7X2FcZtW+wXDMcmHrNYrtLuYUBY94JTBw4VBmddEpzt2PdEJd585gh+J5apQV5L5Us48YOfiEW5ZV33Y3j02b/E6g/fQN/3gpgUixfK9k4c3LVG/fIRfvd8KwYLjdYd3di5fz0mXtiF4bix4DC2PO0BzjfhtQHjdKLby5IN7u598iy+jF788Ec/Nkwt4oFfgC3ffhn3vl3abZgs6uBuoczVtVbWY79yXLiXVA8H8Y0D9yOhB1lP4bHgDnygf8+x/N7ncWgH8IrVj5APruCezxh/JDyFx4INeEedVwm0fm9Y1lye5uEgvvFXwC/zCsjS93vLt1/Gts8spoBuvj2GR5/dgZuzCTayyRqAlTK4W4Sc7dj3xH1IqOe4Zv9xtLgmMajv/2N49Nl6XM16PAdQ39aGlVe7cf6MxXt5HN3Yub8aY889jjGxjOg2sUSDO/EBm55t0dx68zh++CPgK8/6gCu/x/0PrgWu/Qyv4KvYtlrLynxdKf+3l/CZA1pm5IrwQFZZBlrGjIqYbUkFoq/bWvV91LNBVg9/fdoQ7hUzNYBpG1pwpx0P0jJNQrbHlI1Rg4WTU3hIy/gUkK0xZXmEDFDOde99HofuG8KZ5A59Hcq1UgKNtKDVcN6R9VpbBFg5bPn2y3gomWlZ4V6zuP7Zlrcqu/fJs9iz9i2cuViNPRYZYJ1lYDlHwZ14HIUsmybb3096EGkVWGZjep1P2mt6AgiGnRgJJdGovcZoNtk9Zzv2PbEBiH0fp18YNBUpAcjd+vdr5w7iFy+rX/LJQuUIwEoR3Jn2+d3/KqxbDaCev4EHn9iA5QAgZvdyHpeaFUxbd3YPfPMEGmFcRlkPDOdU2XdYbFPVdAq7N0/hle62jM1A6nwDqLuZIfgjug0syQ4V9z65A/dce8kUQL32D9vR1X4cb80owU1Xu/JJPTwqcP/aKZw5eRG3Vn8VDyWP48ybM7jnvqdS5Qd24IOTynKvXFuLbd/WylK27NwEvPkz4eH6XfykfTu62n+G66bpKcsebMVDyePKfr10BffseB5bAODFIVzHWty7NzXvlvvWAteG8Jq23pMXcQtX8Ip6TF3tQhWfejxd7duVY9oUxL2A+hD9Kj7zprrd9uN4C5uwx3Rca7HtQDVe1/a/YhO2GPYlm3d+tFvfprUc6179VSWAU48RD/rwlYcN5RnkvtaFeAr3rp5B4vUMy+5twD0zb+Gydr5/8yoSM2ux7Vn1HO99HtsyLf9wEA+tvoLXjfv1cBBffhB4699mE0TNHfE+vveh+7HsA2D9sy/jUFD5fOPJrwtLZZPp7+fHuHxlBsvWblXvSQAPb4W9IsM5sxDp9MPr9aJ3KFOrMTvcfhsGvV54vVEkTC94z8P2Thx8YgM+PHcwQ2A3icFnDuKE+tEDO2c79u2qwe+eV8vOTeKBJzrxgGkNC2PyhVaceOYg+mIfiUWqNWh8ohJvPnMQJ575r7i2fAO+uF0tKtlxNWJFJXDtshbYNaLxO3+J1QCWf65Rn2vyhVZ1myfwqLZPBnX31UG+OpAxsAOAsbfHIK1pQqVYQHSbWILB3dexfm0Frr9deDXk9YvaA1V44GrlL6WCptfevgJ85nOpBxKQOxDI5trPUsHHi0O4js/isw8DwHfxminIVLbx1vkCjs+w7ndefwu3KqpRAwB7v4r7K4zH+mP8/N8u4tbqBiWwBNQsoJYJ+i7euQZ8prqQh3o2OdY9cxFntMzcb15FYqYCnzG83LqU7n3yrBrEfDXth4ISFKtBzo61hvsGyjl8ZjvOXLkfe4IvqxlWIdhWiQFUalqv5fxmX8dX/moTlqXt21psU4OvQ8Gz6cFwxSZlv4Iv41BQ/QEhsgg6a2wVwOr7gX9Tg+WTF4EHW/FYnoE+svz9vPOjl3C94n6sV/f13ofutziuYsiIhbRX9fRgZByoqsnv1VI1+4/joBrI6EGb7jF80XU3rp3LkHH7wn1ArDeVXXr55/jdh2uwxiIgWXw+wu+e147rJ7j6birAyu+4foJfPHOwoKyd0QPfPIGDz34L9rHvoy/2EZZXCu1BXz6CE8+/geW7TmDf/lTgBxyAtAKQJ3Jk5CamIFdUM7ij29bSC+72fhX34yJeK6qdVZ60IElllTGcvVQg887rb6UCrr0Nc7gNADNTRTSkNgQ56qeQh/1szFVgueXb5v0Ws1Ba1rGrfTvOJHfgkJaJA/QATst2frDJuLxyTrSM45k3P4ttVufl4SAeEn8I7H0e2z5zEb+0+GEh2vLtVtwPQ/ALGDLE6uel3+P+A4YA7zft+KGhXNm39ABvy85NWHZtKK1q95Yx6PxNO14Xg/FC6X8/38U71ypgf+jr6o8zFPbjpWQa4ahLVbemca7GcnyEm++JBYrqyrux3PUtHHz2hPr5Fh5YLs619JT6uFbvOoEHb3wfJ55RMqXVlXfjwxtXxNl0y11fMWQN61CR1mHJQvw6ZFRDcogFRLeHJRfcbblvLW5deXV+qrRMgdHsM4bWZvDBuPpPtarv3r3K8c3dNtIDVNRWm3tTZmUMcpRPcZ0XcvtgKnfgkw+l6ja/KltTtjONWq1oUzMLajb0FTXoeudHu4WqcIUSQJmD9C33rTVn1nakvhuDQ6X96BW8kqv924tDGZsBQDsucaIadIrB1WTScIxzxfD389rbV5Sq2Ye3wg5DNfeCGsTg97RqR4sqwJFr+FCYJPowpgQpxk96BnDpKc1xDeLmDaUNYKr6W6mq/fA9c3W4sar8hKk94RhmMrUCMXLcAwlTkE09aYluH0sruLOoTjL7MX7/AQxVnLP1FB7bIQSRc5gx3PLtr5rbceHH+PnFK7hn01k89BmLbfzmPXwgtMvLi9qe7yFj1mnTWtxKazO48O590of7K67gHeOx69XiT+ExcYiPObvWmTNZiqew5UExqNeq1KEH/fjgvdS9kiGAEgPOrpeuKFXThqBZD+wydZowSL+PjLRqXfNxWQWd0LPHO1JZQKvMo57JtagONrH4+3nxZ3gLm/Dlv7ofH5iquReBjFWAP8HVd+/GA3vbLQP/312+iuUuHxqdYsnSlt9xPYZHnz2Bg998TCzI6neXrwKf/8tUIL39K3hg+VVcNQaO2zuzVJWfhHwTkFYeEAvMVlZDmpnK2i6PqJwtqd6yaT0oLZl7h6Z6y6rDZoyneglO6uu7kjY+mdjz0qrXo85yDDGhR6vWqxSZeqQq+/2ZTD0+M4x/lnZOxF6QYm9ZU69W617HGY/TJMOYbvr6c6w77ZyJAY1x/TN466W3YN+RrZdy+jXLJO16mM5J+nGJ49zltfwHYu9hC+J4iVbj1CHLWHXZxqizOh97n8ehHZ9N681tLk+/x1K0cyOWpZ+ztG1bDu2SDw86Qj641M6yOr3XbADBcCOSIT+O9ilFga4wGpO98HcW1F8241AoD3zzBBo/n/qeubcsAFzVh/UQe9mayxvR+B2L6s48e58Wt+7043zgm0pVqZ5Ry3Jcitn1lgXEdVutN8dQKE2nsHsnMJxlqBP2lqXb3RIK7tKDhbmjPJwyjpmWFjAVJi0As1TK41uExMCGlrAcfz+q/P4OiHLhOHdEuSyZ4O5QMC0/P2e62o+bHk5zua2u9u2mh5px3V3tqUY+W779MrZBycTM5fYXo6727abgbk+ZH2+5y/b3o9/jhjH77j+QKv+3fzmM0aFf6d+J8sI3VBBltWSCu9LKL/MwW9kyFvrgy5ZVtWWMmbsykuXvx1DVLFZvExXFYjDjyj3n8AWcsM7oEd1GGNwRERERlZGl1VuWiIiIiLJicEdERERURhjcEREREZURBndEREREZYTB3W0hgGA4jHCoA/m9Tn0Wmk5hd1u36UXdlXvOYffTp1CnDioqlhNRiTSdwu6nz6HeYf471Dm6sZN/j0Rli71l50UVVnxnJyq1EePffR1XfjCfLz0MIBh2wy7H0Os/ioLG7W/pQMhvw6C3HT1imSbDmFOVe85hW/0Uhp97HPANoH7FBdOwBQulzjeAekRwtvcYoO8nMGbcf0c3du7fDGkmfZ8r95zDthX9+vJGlXvOYduay6llmk5h9846TJ1vwmuwGFlfGG0/27o1db4B1NdCWac+lpcyvle1eVYAxvmEeca1c6AMClsnvm0EgDycYaDYNOnbT23Xev1KefpyEM65drxGqf1KXz5VZjXYbeZpdRUz5ntAvXbGc2B1fayvxwJrOoXdO6sx9sIuXGtI/R0aB/UV/w6IqHwwczcP7tr/MJaNnceVZ36KK8+8jluffwir91eJs5VQD9q9XngLDezycgD1uzcDwyeEwUSBGxNTgPp+xxs3Z4Cb1xc8sEvj6MYXxMAOQGXDemA4gjGsx2qHcYFCHMYWLbCbs4f+YaysHcPw+TFU33fYMP0YXnuuCWefa8IrwzNKgKR+NwZ2OK9MO/tcBFO1HuzccwDASQx3q9PPjwEYw7C6bH6B3QHUt3kgDXer6zZuN2VK33Z6eaqsG2PYjG1CVkkW1m3erxmMvaCWvXABqG/DliZDcS6OJqzEBQwPAysbhHeWzswAa5qyZLgyXY8FNjEFGVOQ4+a/Q6Ox3m6MrfAUdq6IaElgcDcPPn7hF7j2wrT6LQ75XeCuSpswVwatQYS7AvAcCSEcDiMcDiN0xFC52hpUqltbOhBSy8NdAb3YuJxxuiKAYDiIgHFZvepWrcr1uyDBDrdWHg6ho8WwiiYP6nABv7UKAgYex1k1A3PjzK5FmCFQAlP5vDjK/QGsXlMBeeIYrl21eODnqc6nBDxikFOUJheqZ6ZwYyCGqVqXuaoti8o9zagejxj25RheOz8GKWvgkidHE1ZWzGBiyOIeKNhJDHdHMFWxGc7ZBB3x65DFaTlUNqyHdPM6xoYuWwRylzFxM8u+zPJ6lFy8Dee1TJ3h79DsJIYvjKF6M6tnicoNg7uloNYNn20QXq8X3lAMaNhnDrAkF3x+GwbVcrm2US+PdPrh9XrRO5TpkWeHW1vWG0VCcsHdilS2LxSDjASiXq+yfW/qBe0AUHdfHeSrAxYPjsWvcs9BrLxqEXw5mrCyYgwTA0rWY1YBUNMp1COSZ+Yrf6nzPYaZmTqszBR0CCpXVEC+Kbxpc2IKckUxmUlVfAATMxWo26+08SreGGZmAGnlLILqJheqMYOZCbEgEyWQn3r7mBIYWpyPa7++AClDVm6212PRGIhhyuKYiWhpY3A337Z/CTWfv4Ub5wtocyfH0HtIbfHWdwlxWYJtjWkGxEJqmzjL8mwMy6IHI+NAVU2+3S4OQFoByBOFBzBKI++BtI9WRVTnSy/TGogrVYxiWYEdNmo92LbmsmXGsbJhPaTxmJr1mMXDr2Iztu0Ehuc8U3kYK2u1DNlJXLs6k2dVYIbrNIsslzWlWveVYaBuv3ItlOpes+qdVtfSyknIN81TpPo2y/tEUaFvV2m/aM7EmpcV2v4ZAnngGCbGK9IztfEBTKxottjf2V4P5LyHi/v7KMQYZmYqULFSnE5ESxmDu/nkfAird63ErXO/wM0RsbAwpgBMjuOSnk2L4Kjfi/bjqeLSqUOFRSP8fNw4s8vUhkpshzXWm152Vn9op9qXmT6WVU8ZjEcwfHMzvpAWhBgyOUDmB342MxcwPFyNel++D/o8NblQPXMZ19TA5cbQZch5VQUqwVJaJsxxDyS1XdZc0K+p2u5tt3D85jZ3YlW4kRKMGolt7szZVq3NXQRTSM+emZftxthMqswUyAMYe9uqqvokhi9Mpd8Ds74eyHkPF/f3UYgM9wYRLWkM7uaL8yGsfsIBxM5j6mWxsHDTk3PfNaJwSvXZbBSXmcie9cjXWG8Estj43tGElRXmLFN9LSwe+NndOHMCYyu0DguqiSnrTJlFY3crdffVKVlB7Xj3b4ZkEcxYuXFzBtIKIexYWQ0pz20XJN6G3w7PACvuKeic6dRrkJZpzOkYRoZnCmhDpgTyqPWk7qGddYBVpnYgBrneg9WGScVcj1z3cHF/H4XIkNUloiWNwd18MAR2qY4Vs+M5sg8uKYGRecnMAeibxDTscLaKBSjqV39xmYnsWY/8HcNrL1yAtNPwUFxZrQx/YlzvCxcs22Jlp3QMMAWP8euQTQ//A6jfnG+bReUhLPY4HR5HXlWBSlbJ2DNS7cl7odBzlg81aJpV7+jD2LJ/MyRT54/83TjTX0BnjDpUVBh62j7XpGb2rDK1xzAyXI2VenOH4q5Hrnu4uL+PQijnIP82ikS0FDC4mwfSTgfuAnCXayfWPvs19fMoVjjFOTOQXPCpvVV9DdOIZhtzzsSDjpC2nATUujP0ms2mB+39CdibrXvLjr09Bqnek2dV1CIUb8Nv1bZiW5oydBBROwyYHvjGbM/TA2lVkAqlR2r1Tq0NmhZMasu1oe6mRacLq3Wb2oaljL09BuRTFRhvw3nTtpVhUWYTQKVpOiVkkJTjEntHm9vcmdvNpcrUIVWEZcU2d1Zt+hRq9m6nMGivFaFaVaG0nbPK1N4Yugy9HUKx12OxsDwHRLTUcRDjxa41iPDWZOGDD88bq0FhiWjxU/52Ky7MUZBPRIsGM3dUpJMYPnsBqD84i/Y+RLRQ6nxKhpWBHVH5YXBHxYu34fz5KdTtzrchOxEtKEc36lZcwCtzPlwPES0GrJYlIiIiKiPM3BERERGVEQZ3RERERGWEwR0RERFRGWFwR0RERFRG2KFiPmz/EtbuMryZ+93XceUHHDWUiIiI5h6Du3lXhRXf2YllY8W/ioyIiIhIxGrZeTeNjwt/4SYRERFRXhjczTsHpM/fwq3fMmtHREREc4/VsvPkrv2PYrVrmfKFbe6IiIioRBjcLYC79j+K1XXv4dr3XsfHYiERERFREVgtuwA+/u17+Hj5ctwlFhAREREVicHdApB2OnDXu9chiwVERERERWK17DwwtbcD29wRERFR6TC4IyIiIiojrJYlIiIiKiMM7oiIiIjKCIM7IiIiojLC4I6IiIiojDC4IyIiIiojDO6IiIiIygiDOyIiIqIywuDuthZAMBxGsFWcvlQo+x8OdcAjFs2VplPY3daNSnF6SwdC4TDCXQGxZJE4jC1Pn0O9wzCp6RR2q9Mq95zD7qdPoc5QXDqHseXpAWxpEqcvBsq+7dxzAHB0Y2fafh7GliznqXLPOWVZIqJFhMHdvKrCiu98DWuffRQrnGLZUjUPAVYptAZz77OjGzt3VmPsbBtuiGULpaUDoXAQ2UPKA6hv80AaPoHhsnkRihKEWQbaJXUMI8PVqM+w3Rtn+iHXty3SwJWIblcM7vJ01/5HsXp/lTi5IHftfxiVNyZwSyxYqlqDCIedSA4t1Ftye9Du9cLrP4qIWFS0A6jfvRnIFCD1HYXf64X3UI9YsuAq9xxEHS7gt2dOmgsmpiBjCnIcuDExBcxMLZ6gNZumU9j9tAszwzNiyRwYw8wMIE+cBOLXIWMGMxPmOW6c2YXhm5vxBcsM3TG89sIFSDszZ/eIiOYbXz+WNweqn30Iy2b7XljnQ1j9xOdw6/n/gbue+At8/PwvcHNEnCmD1iDCzXb9a6Lfi/bjyr89R0LYh9MYtPngrk0vVzJrbqSWBgAZsZAfR/uUMmjzt3Qg5HdBkmPo1QKmjNsOIBiqQdR/FDgSgm9dPLXMPPAcCcHXIClfxqPmIKs1iLBzBL3JRn0eeagX/s5I6hhTc6sSiHrboa+l6RR2b57CK93pWbtAV1g/1/p6Ndm2DQ86QvuA8CBsfu2aGLcbQDDciGTIj6N9yuoCXWE0Jnvh77RbXEcYrqX2/TC2PN2MmRd2WQel2TSdwu6dqRBl6nwTXhtQ/l255xy+gBMYW9GGevXYjeXKdj2o1r4CAGYw9sIuDMeVMmjzO7qxc/9mSDMXUuc347YPY0vbPRjpbgP2nMO2NZctr4m2Tgx347wY1M4FRzd27q/G2HOPY0wsA1DnG0DdzRJtm4ioQMzc5S2OqWfO40blQ1j7nYdwl1icVRVW7HUAsd/kH9DpAgg6R+D1epVPfwL2ZnO1nNTgQ2OyF16vF71DMuxbU9WNgS437ONRZdlQDDKARL8xGFCpQc90vzETlm3bPWifx2BOFOn068drqdYNn21Q32+pwa3st5Zx608Acgy92rEZAzsAdffVQb46kB5EAOg5pCwTHRdLVJm2DQCQ4PI3IhnS1mGHO692e2qWMhSDjASi+n4L17LJheqZy7hWaGCHw9hyXwxnn2tSPufHUC1ko6T6NtTd7MbZ55rwyvAMqjenqirrfB5Uj0eUZV+4ABnA1HmLAFMNwuTzTTirB2nZtn0Mr1kFc/MtPoCJmTqszFD9Ovb2GKQ1TZZVt0RE843BXUGmcfN7P8XkDQdWP/sli+xPBtvrUYk4Jl+YFkvy0IN2Y1bq+AgSqEJNi2GW8aiePYpcjEOWbGqGJwBnLZAYUZfvu4S4DFTVCC3NalKBXSrjh/y2PUtKg/6BtM+ctV2SY+jV9r3g/T4AaYVaVTcbObZtDK57RhKArSZ7278CVK6sBm5en0UwdAyv9R5LfR2IYQrVkIwdMsYjembqxtBlyBXVajBzGCtrgam31eXjA5iYAaSVQjXmylRgl8r4Ib9t5xJvw/nnmkqYOTsJ+abFMWkmpgzng4hoYS2t4M75EFY/+zWs1T9CgLX9S4ayr6Vl2KRvGpf9mrkNXa51p1mJyrza4DlQvWsZbrz4Oj4Wi/IU6AojHNY+VlVzmSSQlAG7U80MtWyEQ5IRv2jOt9kbXJCQwIgpsFPMftvZ3TizK5WpMXzMD/2FUoeKCnFaCenBePEqV8x+x+t8xkBbrGLNRmm3Vn3fYeWrowkrK2YwMWQOtKrrN0PCGCYsrvHstz1/btycgbQiQ8u6+HXIhQakREQlsrSCu5HXce2Zn+KK/vkVTJVyL//KUPZTXPmeOaCSf2Bc9qe4Zsyk5Vo3oPd2ramM45q4fCbb78EyLEPlE1rQ+FDq+zdzPwk8R0Jw1xqr4aJIiDNlFMFkUqkmDIfDCPtdwNDptCrZRL9aPSj0Hi1u29mVPHNXFCVYmTdycs7O642bs9vxyj3nUF87hmE90I5gSpwpIyWrhVqPch33W3dEmTrfhOHxurSep8Vte/5UrqiAfNOqxR0Axz2Q1M4qREQLbWkFdwuqCiu+sxOVN15PCxqzEgPOZ17HLdzCjed/mn/HDMPDP9BVQPaspQONpuDMa278b9BzqBcxuOAT23/Ndts5LHjm7moSsuTARsuq2hxVcHMmgGCzHfLoJUPbRQm2Ncq/lOA6NTcAoG8S07DDmWFswhsTU8CKe2ZXPWjoPVvnKyB75uhGnSk4y1w9OtbbjTFsxjafmuXTzHbbGnWMutKNOZejqn5lNaSl0vuYiMoeg7s83bX/YSwbO59/QDZHIp2DSEgu+NSq0cZkLP8sT99RDI7b4darVZVP6IhVC68IjvqjSNS6EVbHUcu+bQ86Qsp0X4MEaPPlGjtuTgjb1jKTYmCaTd9RnB4CXH7tvJg7qYy9PQap3mMxvIU6rl9Y6TErNfiynFNr9uZUNXeVqbdtD9r7E3q5zzZo0WnDPE84HEKHMUAdiGGqYjOcBWZAb5zpx1TFZmxTM6h1Ny/knz2Lt2FsvA71QhbWOtA6ieHuCKZqPfogytm3fQD1bcr0bfUVgDZfhnHnSsbRhJUV1lXKyNEBh4hovnEolHLW0oGQ34ZBY0/Qlg6E/A7ETcNnULoDqG9rw8qrczm8hQcdIR9sr4odV+ZWZbYhQ0rBapgQRzd27l+PidkMybIIZR3qxOr4iYgWEDN35WyNLa1TiGeTAxKmMcnALoeTGD57Aag/aH6F1xJw48wJjCHToLslsLI67T6rbFhfNm3QKvecQ/0Ki0GhAWUYl/2bIZ9nYEdEiwczd2XOOOCuQhisl7LLMphx4eYnc6coYjDjWajzDeiDGyvGMFwWmazD2PK0CxMZjkUb3Nkyo0dEtEAY3BERERGVEVbLEhEREZURBndEREREZYTBHREREVEZYXB3W1PGbAtmGBB38VPHnCvl2HpNp6zHVGvpQKjQsfXm1WFsefqcuadv0ynsVqcpbwhRxpkrvcPYsmjePiJS9m3nngP6QMjm/TyMLVnOU+WecxnG8yMiWjgM7uZD2ntr83v12KKnBTjqZ0kFia3B3EGhoxs7d1Zj7Oxc9JSdIy0dCAkDLqc7gPo2DySLV4AtSWrQtTCvqDuGkeHqtFemaW6c6Ydc3zbP+0RElB2Du/nyofI+Wv01ZPP8pou550GH14F4SH21WX8C9mbhbQkl14N2rxde/1HD67vmygHU77Z+RyqgvOHC7/XCe2jxDSpTuecg6mAxLtvEFGR17LkbE1OmV34tXgdQv3s9Jl5QX212fgzVO4WMZFGU9wjLEyeB+HXImMHMhHmOG2d2YfhmpnEDj+G1Fy5A2pk5u0dENN84FMp8cD6E1XuByULeSWvUGkS4OfVW10R/apw0z5EQ9uE0Bm0+fTw7Y7lSdSm+E1ZGLOTH0T6lDNr8LR0I+V2Q5Bh6tYApy7bNhHWVmOdISHn1GACMR81BVmsQYecIepON+jyy9pov7RhTc6uE8f+yjG9nHDtQX68m27bhQUdoHxAehM2vXRPjdgMIhhuRNLw9JNAVRmOyF/5Ou8V1hOFaat+LGN+u6RR270yFKFPnU+/61cZzG1vRpo9nZyxXtiu+E3YGYy/swnBcKYM2v6MbO/dvhjRzIXV+s2zbTFiXRl0nhjO8RaJYOd5CkfUNFkRE84yZu0UvgKBzRMmO6Rkyc7Wc1OBDY7IXXq8XvUMy7FtT1Y2BLjfs41Fl2VAMMoBEv8Wrx9SgZ7rfmAnLve2FEun068drqdYNn21Q32+pwa3st5Zx608Acgy92rEJAztne1dozyFlmfT3vqoybRsAIMHlb0RSzXhGx+1w59VuT81ShmKQkUBU32/hWja5UD1zGdcKDexwGFvuiynZMT1DZs5GSfVtqLvZjbPPNeGV4RlUb05VVdb5PKgejyjLvnABMoCp8xYBphqEyeebcFYPnHNve8HFBzAxU4eVGapfx94eg7SmybLqlohovjG4my/LHYZ2d1+yyBxl0oN2Y1bq+AgSqEKNsfpzPKpnjyIX45Alm5rhCcBZCyRG1OX7LiEuA1U1QkuzmlRgZ8665bFtVaDLDbscQzTPrJ3SoN/8ovk5bU8lx9Cr7XuW/bZ2ANIKtapuNnJs2xhc94wkAFtN9rZ/BahcWQ3cvG4ZlGZ3DK/1Hkt9HYhhCtWQjNWf4xE9M3Vj6DLkimo1mDmMlbXA1Nvq8vEBTMwA0kqhGnNlKrAzZ+Xy2LaqzudB9cwFjIhZvXgbzj/XVMLM2UnINy2OSTMxZTgfREQLi8HdfBh53dTe7lpsGWoKCPACXalOC2HLqrlMEkjKgN2pZoZaNsIhyYhfNLdQsze4ICGBEYvALJ9te46E4K5NIFpA27cbZ3alMjWGj3VV3HyrQ0WFOK2E9GC8eJUrZr/jdT5joC1WsWajtFurvu+w8tXRhJUVM5gYMgda1fWbIWEMExbXOJ9tV+45h/raMQxbVJXPhxs3ZyCtyJBPjF+HnCEgJSKabwzuFsDHv30v77Z3euCkV8NFkRBnyiiCyaRSTRgOhxH2u4Ch02lVsol+tXpQ6D2az7aVtm9ALFTY+2pLnrkrihKszBs5mXZeZ+vGzdntuB446YF2BFPiTBkpWS3UepTruN+6I8rU+SYMj9el9TzNZ9uVe85hWz0w9oJ1m7f5ULmiAvLNDFt33ANJ7axCRLTQGNzNuyqs2OvAXe9eR4bWYukMD/9Al3X2zFJLBxpNwZnX3PjfoOdQL2JwwSe2/8qy7VRgZ9GGL4cFz9xdTUKWHNhoWVWbowpuzgQQbLZDHr1kyHhKsK1R/qUE16m5AQB9k5iGHc4Mw87cmJgCVtwzu+pBQ+/ZOp919sySoxt1puAsc/XoWG83xrAZ23xqlk+TZdupwM6iDZ9GHS6ldGPO5aiqX1kNaUn0Piai2wGDu3lw1/5HDWPc7cSysfN5D4US6RxEQnLBp1aNNiZj+Wd5+o5icNwOt2EsunA4jNARqxZeERz1R5GodSOsjqOWfdsBuBsktYOAYf25xo6bEx50hJTt+RqkVGZSDEyz6TuK00Mw7Lu5o8jY22OQ6j0WjfrVgZPDSo9ZqcGX5ZxaszenqrmrTL1te9Den9DLfbZBi04b5nnCYWH4mYEYpio2w1lgBvTGmX5MVWzGNjWDWnfzQlr2LKN4G8bG61AvZGGtA62TGO6OYKrWow+inH3bh+GsrwBQgbr9hvVnGHeuZBxNWFlhXaWMHB1wiIjmG4dCKWctHQj5bRg09gRt6UDI70B8Ftm228sB1Le1YeXVuRzewoOOkA+2V8WOK3Orcs85bFtz2XIYl5KwGibE0Y2d+9djIlu2bQnJOtSJ1fETES0gZu7K2RpbWqcNzyYHJExjkoFdDicxfPYCUH9wDgfMnR83zpzAGDINulsCK6vT7rPKhvVl0watcs851K+wGBQaUIZx2b8Z8nkGdkS0eDBzV+aMA+4qhMF6KbssgxkXbn4yd4oiBjOehTrfgD64sWIMw2WRyTqMLU+7MJHhWLTBnS0zekREC4TBHREREVEZYbUsERERURlhcEdERERURhjcEREREZURBneLXWuw9GPHtXQgZDlOXGpMt7Tx1JYwz5FQ6c9pnup8mcaDm2etwbSx/oiIaGlicDePpG9qAxl/DWu/uRTG1+hBe4bXjt32MgbEBVDf7DBWDj0ttfOhfoIZ3qBBRESlx+BuXlRhxXe+hhq8jivP/FT55PmGinnRdxR+rxfeQxwgJR+eIyGEvUA87e0RhalsWA8MRyyH2FhaPOjwOhAPqa+560/A3lw+mV4ioqWGQ6HMh+1fwtr112cX0LUGEd6aRHTUob7uC5BNr6zS3vGqDSMrC+96VcZWc+mjzJrHuTOOgyeuNyWAYLgRyXl+q0Xm4/KgI7QPCA/C5tfed2s+LvOyqvEovId6lLJ1cfT6jyJiOAeJfm38OeGcyTF9XrR0IPTlSfgP9SjLQVln4WY5Dl1rEOHm1Bt+U/usHPM+nMagzadfU2O5ch3FdxOr53VNEOFm6OdQO3/GeyLz9RAp24Fp20RENF+YuZsH0vqV+PhGBar198t+DdXbxbmykFxw2wb1rIjU4E61jWrpgBunlTKvF71DgMubak/mObIPrmRUL/cKAxj3HFKmp7/DdIHlOC7lnbaNSIa88Hp7EZPtaNTe79rSgX0NQEzNJEXH1QDNIggLdIXhtsXQ6zUGSW4grJ2vXsTgwj5t3X1H4bdYT6Eq9zSjery/sMAOAQSdI6lr2Z+AvdncTk5q8KEx2aueMxn2ralzFuhywz6u3guhGGQAif70AE0J4qYR9XpTwX7O60FERIsFg7uSq8JdlcBdruWQtSrZcxNYtutRrHCK82ZgDEyOjyCBKtRoVV59R9FuyLZFLsYhSzZzdqbWOf8N5R3d2Cm8SH730wPY7Tsszmktj+NKBSYRXBqVIdmUUs8mByQ5jktq0NIzkgDEcwJgoxbYaVk5VaSz3RDwmNc9Nw5g9ZoKTL19TCzIoQftxsBSvBegZCe1gMx8zgJw1gKJEXX5vkuIy0BVjTk8q9EDO+EtJnlcD02gyw27HEOUWTsiogXB4G6e3Dr3K8jal5eHcePDZbjrc+Z5ZseDjlCqIXvY7zK95zPS6Ud03A63Wh7SMlClFm/D+eeacFb89OYb0GQ/rmwik9OA5MBGNegJOO3A+Ig5WJFccNUC8uglU2AHpHcOSKveLVaTB3W4gJEBsSC3QJfhnKRVsWaTQFIG7E41zG/ZCIckI37RePR2uBqk9HMF5H09PEdCcNcmEBUCZiIimj8M7kpuGh/fAD79uSqxYE4EunxwQalWNFa3GWlVr15vFNMNvvkJ8IrM3OVzXBldTUKGBJdfCUTctQlExapUOYbeUAxo8Ak9OwMI+l3AkFK1qVVvzqW6++ogXx0o+F21euCkV7EX0os5gskkgFq3Hpxh6LRQJZtA1BtFotaddo/kcz2U6lwgFuK7i4mIFhKDu3kgX57AXa76VKZjez0ql09Aftk836wlJ9UsiQcdXuuMikLJ3syLojN3hRyXWeDL5uBMbGeo6zsKf4aendOTqbZm++Yyc1fs8CdyUg/oAl0FZO5aOtBoCgwN7elMetBuGfRmvx6pwC69DR8REc0vBnfz4eVf4VpsGWq0DhW7gMlnDNW0Rej5ZQyylo0J+2AbNWZUhKq0sA+uZKpNlnGQYnet0hjfVHXbGjRU/2mZsPRAqBSyH1d2Pb9UgpPUcYczD9B7vF3pHODXjrsH0SEZ9mat+tGGuClzZz5neiYsz/HuKhvWQxqPzWr4k0jnIBKSCz51+43JWP6Zu76jGDRUz2sfMUOnzasEvanjyn49AmpP7lS2NBwOL5qBoomIbjccCoXKTqArjMakeViX4oYtmSuzHP5kLrR0IOS3YdCYxWzpQMjvQJzZNiKissLMHZUZD2ps4jSlp6iczDvPVSLH8NpzCxDYAcAaW1q1tmeTAxKmMcnAjoiorDBzR+WnpQMhoTdn5gGabx/GAasV5oGfiYioPDC4IyIiIiojrJYlIiIiKiMM7oiIiIjKCIM7IiIiojLC4I6IiIiojDC4IyIiIiojDO6IiIiIygiDOyIiIqIywuCOiIiIqIwwuCMiIiIqIwzuiIiIiMoIgzsiIiKiMsLgjoiIiKiMMLgjIiIiKiMM7oiIiIjKCIM7IiIiojLC4I6IiIiojDC4IyIiIiojDO6IiIiIygiDOyIiIqIywuCOiIiIqIwwuCMiIiIqI7dRcLcOp9x7MeDeiwH3LnQvE8spE8+REMLhMIKtYkkJtXQgFA4jHA4jHA4iIJbDME+XZWlKSwdCmdZhQTvecLZ157vt+ZTPOcvJg46Qto75Pb5AVxjhcAgdLWLJXFGOzXwfBxCc9bnKz6yOqzWIcKgDHnF6XqyOkzTK33dpr3lJtAYLv4/otrVEgjsbupv24pzDJhbg8Abr6elG8Xj0RTRF38CYWFSsZRtwTg8ctc8jOCzOR/nrOwq/1wtvKAZZLCuxSKcfXq8XvUOz3HJRD+YizME58xzZBxdi6PV64fV64T3UI86yCOUXzAS6fHAlo2g/bpzag+hQFdwLcb3UwC90ZCG2vLCy/WA0/biaryCsNZi+rYzTxB896g8i4z2kzqccXwBB07FazG9YZj5/UFH5WiLBXRIDE7dQsfLzOGCavg6u6lu4/F7SNHVhTCISfRFN+ufXOCbOskRpwY75obgIaMHMQgQgC7ntErLbJMijlxARC+ZBzyEvvF4/jvaJJXOgNQh3bQJRi+sV6fQjmnRhX4mCrJIe15KjBDb7EEdCLIJynXwN04iqPy6i4/bSBN5y0nr7OQScdiT6o0jUOg1Bnx02SYYMG+z6fFWQM/zC0n9A+Y+a/s6s1y2axiTvI8rDEgnugJPvvY+Zu1ehyViduuoe1H30PgZuaROMVa97MbBhnWHmbJTM4KlVqSkHHLuE5c3rzi9bqFr1CAaaNuCAMcNnWLeWfTzg2KWvP21fDNs2luVat0L55Vj4L0J1ubBVtZIHHaEQOlqM86R+5XqOhNJ+maZN036pqh+rX/GZKFVdyscy82Fct98FSSwvQsZta9WizXZAcsFncV6yV3umMlCpbQjnvYhzlpsHNVlua+Nxi/ulZaCMWZe89y1rdXL2+0zZJx9cEmBvTu2f+Z7woGOrHYn+dqSHdoqeX8aABneWh6ogU1W/MWub5bi08+SuBaQGX4b7AbAbzqflfZ6V9TlLL0vfrnifpZ3PjPdwdp4j+2B71Qt/56RYpF8neSiqX6eeX8YgSw5sNP3fM9v/zxSRTj+8QmCVnwCctTKSV3swMm6H03R/TyM+WqVOC8CJQQwmgaoa4Zq1dGBfwzSiadvPtm7V8XZ4vZnvYSKjJRPc4da7uPzRMqz/XOrpc3hVDWYm3sVJ7fuGexDTM2dvYKx6gzkQmjUbups2oPrKS/q6p9buKGzdd69D29bl6I++iKZXRzFT7TC1+6tYuwNty+Joir6I7iu3ULdug5KlXPUI2tbKqazgm5Ooe1BoM5hj3bPXg3avF15vNMOvXAkufyOSIS+83l7EZDsa1YdA5GI87T9lc1YogKBzRKn683rh7U/A3iw+gDJTsiFeRMfFEvWh2lyFWEhddxHVlFYyblvL5vUnANlQtWn4D1mrGlSm9yJmc6c9tO3NYTQme9VtSHB9WQ9lijpnmWkPeiVISgUbqQDOcyQEty11TL1DgMtv3rbU4IPPNqhXadu35plxyVmdnPk+U65FL2IykOjXzrcX/k7Do7NlIxxSAiPZMs99lxCXMzxUrfRNYhpVqMnW/inLcWnZ8Og4IA8p19rrFTLBkgtu9Xx6+xOQCgk+AdibtXOmZsAMwVCgy4kR/f6MIlHrNgTjAQSNfz/C+cznHs4k0unPUgOgZMDiF7VtBRD0uyBBgm2NMOtCaHXCLsdxqQ9IJGXYnearMXkxjipnAGh1AiNWIZgHHV4H4iGLAC3HuokKtXSCu7Sq2fQq2WNvGKtCRxGbAqorsqQi8rXs81iPUZyIa9saReTKLdStMmbIauAxZg2b1OBMdwsXXlX3Tw1UqysMxR+NovuNUUDPUi5HHWzoXleDmSvDqeN6/9eITJmD3Jzr1oI0iyqpYiX6teqmCC6NypBsasVE31EMjktwbNL+0w/AWZvAoP6Q6EG7cX+OjyCR62GZp8CXXcDQ6UVYDaacg1TVYARHX01AWrfRHASNR/WHac9IArDVqOWlOmdaEK8ESalgQ7u2AbgbJCReTWUbIp2nERODITmGXnX/lOA+VU1VrIz3WT7W2CDlrIaLYNIq05JRAkktYjNk8Tw1VUBychZZIQuG8zmba506Z+p9ZKju6zlkDDB6MDIuHrvxb9coz3u4KFpm0A30KwGwed9K9f+ZHW5jNrPZfI8FnHb9x2nkYhyydj5balAF9QeCzYmgE5Y/JOzNPjhGrf9fyrhuollaQsGdUDWbViWrVlEaAixPtaGsGBXLUXH3OrQZ1t22VkyNCW3uBt7QM4oAANO+JtE28CIefz9VbMxA4tYb2GVoszc1k6NNYY51L5SeEcN/+q1O2MdHTL9YzdV87jkLBBatlhpU5XiAAEDC+Kv/eLupCmnhzpmM5FVxmpmprV7fUfgXSRWSp6ZKnGQpkSwkaIxgMqlklDybbJgehx54ycnsYeSCuJo0Zw+Fald3rbGwB+2hGKBncA0Z2jzv4dmT4PL7YHtVyRi2H1eaCkxPzkm4nENCb+unZUtTlGpTPatomemN4NJoFexQ/p9L6NG/ItEfxXTDPovervmsm6gwSyq4M1bNilWyWLYB5x6swdibqQArMmVevCgfjaLb1GHiRTSpmbZSM2cfbbhHjCsXq+MjSKhVswGn3RS0eI6ElAbuxqoh08LlSniAeL15t/9Z2HMmVo3ZYZvLhowlFJmcFidZstukggKzRFJGVU0AG9cBI79MwrbJA7tNmqdApEDG7GVLB0LNdlM1dsYmBl4veoeq4Da12Zv9PZydkg2Vh3oNVbdKVW2uHxYl1+qEHRJcfi2oVdt5atWn6rmNdPpNGUXzj4UetPdPpzVnyLluollYWsGdXjW7Gc2WvWRvYWpG/eeqRwrO3OlB1KpHzJm5969j7O51OFhIJ4o5oR7v2vrUsCqr6rH57kn061XE+SiuAfLs9WBkXIJtTQBOWwxRsarCUFUW6Jq7LFQiKRuqibR2O/PoajKtvSGQ+kVubPtUsBKds+yUajtjGzrPkUbYZYtruiCUKtWMD8OryTyqiGebIaqBLTmCnr5JYJ0bTlthgYj5Xi0VtaOCqRe0YT9bg0LmzswUHM/FPZyRWuVuyG4p95nSFi1l/v8/89RUAeNaO0NDZq/Q6tPj7UqwbOhYNmfrJjJYYsGdVjW7DBVileytN9A/tQybt6pVp+s+xAVj5k6vst2AOmjzaR0Tkmh7YxRYu0NfNnLFuPJRPK52osjYa1VsczdH49ydjJ9D9xUpte4HpVT7ulLTq27chl+WYq/Z7Hp+GUNVsxtVwvAakc5BJAw9ShuTMVMWSu916XdB0quBtF+8qZ5+xt6GWqPuSOdpxKCtuxHJUCEZrlRPQF+DBNS6lf3QHyTZtw0oWY/TQzD8Etf2O4KjfqUBul6lJS6bRXHnrDg9h7yIJlPb9ln2+JududjvnkNKpwDLc6oGJFonDEv5dLoQRCanITW41MbzPRhJ2mGXUkNV5HNc5nt1bgOWVO9hHxyjvalOEWp7WP3+3JpEzJi5E6psw81ViOmdAIq7h83/p6T2UevMEen0q5111PtsXTxtyJD558HGdZK5uQS0dpB2OB+1FfTjMXXNgwjkWjerZmmW7mhsbPxEnEhEVFZagwg3A9EM7QADXUoPZVMvWyKiJWrJZe6IiAp2vD1tOBCNNszLaQZ2RFQmGNwR0W2h55BSnSi+W9Y9h1XMRESLAatliYiIiMoIM3dEREREZYTBHREREVEZYXBHREREVEYY3BERERGVEQZ3RERERGWEwR0RERFRGWFwR0RERFRGGNwRERERlREGd0RERERlhMEdERERURlhcEdERERURhjcEREREZURBndEREREZYTBHREREVEZYXBHREREVEYY3BERERGVEQZ3RERERGWEwR0RERFRGWFwR0RERFRGGNwRERERlREGd0RERERlhMEdERERURlhcEdERERURhjcEREREZURBndEREREZYTBHREREVEZYXBHREREVEYY3BERERGVkTtd2/5KnEZERERES9QdPx74wyfXr7yJ4dd+jsT/uISbU9fwpz/9UZyPiIiIiJaAO37488QnyytXitOJiIiIaBHoat8uTsrqU5PxV/7+g+R7+OSTP+Gu/0XCpz99N+644w5xPiIiIiJaAIO/OCFOyuqOxsbGT8SJRERERLQ0sbcsERERURlhcEdERERURhjcEREREZURBndEREREZYTBHREREVEZ+f8BBB7F+UZohGcAAAAASUVORK5CYII=)"
      ],
      "metadata": {
        "id": "s0-9Qk9I-aC3"
      }
    },
    {
      "cell_type": "markdown",
      "source": [
        "- eror di atas adalah eror tenpa try except. jadi ketika kita menginputkan data yang salah langsung ada erornya"
      ],
      "metadata": {
        "id": "c4sqUnGH_qpN"
      }
    },
    {
      "cell_type": "code",
      "source": [
        "# Menggunakan try- except\n",
        "print(\"=== KALKULATOT SEDERHANA ===\")\n",
        "\n",
        "try:\n",
        "    angka1 = int(input(\"angka1: \"))\n",
        "    angka2 = int(input(\"angka2: \"))\n",
        "    hasil = angka1 / angka2\n",
        "    print(\"Hasil\", hasil)\n",
        "except:\n",
        "    print(\"Terjadi kesalahan di input pengguna\")\n",
        "\n",
        "print(\"=== PROGRAM SELESAI\")"
      ],
      "metadata": {
        "colab": {
          "base_uri": "https://localhost:8080/"
        },
        "id": "aW97QV5oHucf",
        "outputId": "7182e2f7-d614-4a2f-f645-67d2eccd785c"
      },
      "execution_count": null,
      "outputs": [
        {
          "output_type": "stream",
          "name": "stdout",
          "text": [
            "=== KALKULATOT SEDERHANA ===\n",
            "angka1: hamka\n",
            "Terjadi kesalahan di input pengguna\n",
            "=== PROGRAM SELESAI\n"
          ]
        }
      ]
    },
    {
      "cell_type": "markdown",
      "source": [
        "![image.png](data:image/png;base64,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)"
      ],
      "metadata": {
        "id": "gIuUfqoLIMwB"
      }
    },
    {
      "cell_type": "code",
      "source": [
        "- eror di atas menunjukan ada eror tapi program di lanjutkan sampai \"=== PROGRAM SELESAI ===\" tidak seperti tidak menggunakan try-except\n",
        "- meski salah input"
      ],
      "metadata": {
        "id": "17pGRJD4H0rK"
      },
      "execution_count": null,
      "outputs": []
    },
    {
      "cell_type": "markdown",
      "source": [
        "### Menangani eror Spesifik try except except"
      ],
      "metadata": {
        "id": "J3Dr92i_I4sQ"
      }
    },
    {
      "cell_type": "markdown",
      "source": [
        "- Saat menangani eror, mungkin kita ingin melakukan hal yang berbeda untuk jenis eror yang berbeda\n",
        "- kita bisa menyebutkan tipe errornya setelah kata kunci except. sehingga jika terjadi eror jenis tersebut, maka bagian except tersebut yang akan dieksekusi\n",
        "- kita bisa menambahkan lebih dari satu except\n",
        "- kesimpulan: kita bisa memilih yang mana saja yang bisa dicek erornya"
      ],
      "metadata": {
        "id": "J_JfmgaOJCUR"
      }
    },
    {
      "cell_type": "code",
      "source": [
        "try:\n",
        "    a = int(input(\"Masukan angka pertama: \"))\n",
        "    b = int(input(\"Masukan angka kedua:\"))\n",
        "    hasil = a / b\n",
        "    print(\"Hasil pembagian: \", hasil)\n",
        "except ValueError:\n",
        "    print(\"Mohon masukan angka yang valid\")\n",
        "except ZeroDivisionError:\n",
        "    print(\"Tidak bisa dibagi dengan nol!\")\n",
        "except:\n",
        "    print(\"Terjadi kesalahan yang lain\")"
      ],
      "metadata": {
        "colab": {
          "base_uri": "https://localhost:8080/"
        },
        "id": "cfhBzEasJzRN",
        "outputId": "891f8002-48d4-42d6-fadd-0e801a4132a9"
      },
      "execution_count": null,
      "outputs": [
        {
          "output_type": "stream",
          "name": "stdout",
          "text": [
            "Masukan angka pertama: 2\n",
            "Masukan angka kedua:ha\n",
            "Mohon masukan angka yang valid\n"
          ]
        }
      ]
    },
    {
      "cell_type": "markdown",
      "source": [
        "### Try-Except-Else"
      ],
      "metadata": {
        "id": "gN_p-B_RJdW7"
      }
    },
    {
      "cell_type": "markdown",
      "source": [
        "- try-except juga memiliki bagian else seperti pada if dan for\n",
        "- bagian else dijalankan jika tidak ada eror pada try-except\n",
        "- jika terjadi error, bagan else tidak akan dijalankan"
      ],
      "metadata": {
        "id": "cm3arQ5nLkrr"
      }
    },
    {
      "cell_type": "code",
      "source": [
        "try:\n",
        "    angka = int(input(\"Masukan angka: \"))\n",
        "except ValueError:\n",
        "    print(\"Angka tidak valid\")\n",
        "else:\n",
        "    print(\"angka yang anda masukan\", angka)\n",
        "    if angka == 0:\n",
        "        print(\"Angka Nol\")\n",
        "    elif angka < 0:\n",
        "        print(\"Angka Negatif\")\n",
        "    else:\n",
        "        print(\"Angka Positif\")"
      ],
      "metadata": {
        "colab": {
          "base_uri": "https://localhost:8080/"
        },
        "id": "5Ju0j8LgMuMG",
        "outputId": "bc6ad91d-e1b6-471e-fdb5-3ff52316bff9"
      },
      "execution_count": null,
      "outputs": [
        {
          "output_type": "stream",
          "name": "stdout",
          "text": [
            "Masukan angka: 0\n",
            "angka yang anda masukan 0\n",
            "Angka Nol\n"
          ]
        }
      ]
    },
    {
      "cell_type": "markdown",
      "source": [
        "Try-except-finally\n",
        "- else di try-except hanya akan dijalankan ketika tidak ada eror\n",
        "- bagaimana jika kita ingin melakukan sesuatu, baik itu jika terjadi eror ataupun tidak?\n",
        "- kita bisa menggunakan finally\n",
        "- finally selalu dijalankan, baik ada eror atau tidak"
      ],
      "metadata": {
        "id": "xvTQSAlNN218"
      }
    },
    {
      "cell_type": "code",
      "source": [
        "try:\n",
        "    angka = int(input(\"Masukan angka: \"))\n",
        "    print(\"Angka anda: \", angka)\n",
        "except ValueError:\n",
        "    print(\"Input tidak valid!\")\n",
        "finally:\n",
        "    print(\"Program selesai dijalankan\")"
      ],
      "metadata": {
        "colab": {
          "base_uri": "https://localhost:8080/"
        },
        "id": "xPRL47xQOu_c",
        "outputId": "a951e784-e464-4c55-c096-e93e783c4225"
      },
      "execution_count": null,
      "outputs": [
        {
          "output_type": "stream",
          "name": "stdout",
          "text": [
            "Masukan angka: 2\n",
            "Angka anda:  2\n",
            "Program selesai dijalankan\n"
          ]
        }
      ]
    },
    {
      "cell_type": "markdown",
      "source": [
        "- ada eror\n",
        "\n",
        "![Screenshot 2025-10-02 210453.png](data:image/png;base64,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)\n",
        "\n",
        "- Tidak ada eror\n",
        "\n",
        "![image.png](data:image/png;base64,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)"
      ],
      "metadata": {
        "id": "Wzdfi2-qPZdW"
      }
    },
    {
      "cell_type": "markdown",
      "source": [
        " ### Note: Jenis jenis kurung ###\n",
        " **jenis tanda kurung** di Python, dan fungsinya berbeda-beda:\n",
        "\n",
        "1. **`[]` (square brackets / kurung siku)**\n",
        "\n",
        "   * Digunakan untuk **mengakses elemen** di **list, array, atau DataFrame/Series**.\n",
        "   * Contoh:\n",
        "\n",
        "     ```python\n",
        "     my_list = [10, 20, 30]\n",
        "     print(my_list[1])  # hasil: 20\n",
        "\n",
        "     df[\"created_date\"]  # ambil kolom 'created_date' dari DataFrame\n",
        "     ```\n",
        "   * Jadi `data[\"created_date\"]` artinya **ambil kolom “created_date” dari `data`**.\n",
        "\n",
        "2. **`()` (parentheses / kurung bulat)**\n",
        "\n",
        "   * Digunakan untuk **memanggil fungsi** atau **menentukan urutan operasi matematika**.\n",
        "   * Contoh:\n",
        "\n",
        "     ```python\n",
        "     len([1,2,3])       # panggil fungsi len() untuk menghitung panjang list\n",
        "     (2 + 3) * 4        # urutan operasi matematika\n",
        "     (df['category_label'] == 'IT Jobs') & (df['contract_time'] == 'full_time') #urutan operasi matematika, dikerjakan dulu yand d dalam kurung ()\n",
        "\n",
        "     ```\n",
        "\n",
        "3. **`{}` (curly braces / kurung kurawal)**\n",
        "\n",
        "   * Digunakan untuk **membuat set** atau **dictionary**.\n",
        "   * Contoh:\n",
        "\n",
        "     ```python\n",
        "     my_set = {1, 2, 3}               # set\n",
        "     my_dict = {\"a\": 1, \"b\": 2}       # dictionary\n",
        "     my_dict[\"a\"]                     # ambil nilai 1 dari key \"a\"\n",
        "     ```\n",
        "\n",
        "✅ Jadi kenapa `data[\"created_date\"]` pakai `[]`:\n",
        "\n",
        "* Karena kita **mengakses elemen kolom** dari DataFrame, bukan memanggil fungsi (yang pakai `()`) atau membuat dictionary/set (yang pakai `{}`).\n",
        "\n",
        "Kalau mau, aku bisa buat **tabel ringkas semua kurung di Python dan fungsinya** biar gampang diingat.\n",
        "Mau aku buatkan?\n"
      ],
      "metadata": {
        "id": "BZmabAaw67KG"
      }
    },
    {
      "cell_type": "code",
      "source": [],
      "metadata": {
        "id": "eN7Z7ukV6_b3"
      },
      "execution_count": null,
      "outputs": []
    }
  ]
}